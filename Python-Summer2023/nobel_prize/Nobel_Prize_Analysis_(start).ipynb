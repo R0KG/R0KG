{
  "cells": [
    {
      "cell_type": "markdown",
      "metadata": {
        "id": "FuDxBL8UamHp"
      },
      "source": [
        "# Setup and Context"
      ]
    },
    {
      "cell_type": "markdown",
      "metadata": {
        "id": "9vYVhf9vo7LK"
      },
      "source": [
        "### Introduction\n",
        "\n",
        "On November 27, 1895, Alfred Nobel signed his last will in Paris. When it was opened after his death, the will caused a lot of controversy, as Nobel had left much of his wealth for the establishment of a prize.\n",
        "\n",
        "Alfred Nobel dictates that his entire remaining estate should be used to endow “prizes to those who, during the preceding year, have conferred the greatest benefit to humankind”.\n",
        "\n",
        "Every year the Nobel Prize is given to scientists and scholars in the categories chemistry, literature, physics, physiology or medicine, economics, and peace. \n",
        "\n",
        "<img src=https://i.imgur.com/36pCx5Q.jpg>\n",
        "\n",
        "Let's see what patterns we can find in the data of the past Nobel laureates. What can we learn about the Nobel prize and our world more generally?"
      ]
    },
    {
      "cell_type": "markdown",
      "metadata": {
        "id": "RaHW4kg0sZKP"
      },
      "source": [
        "### Upgrade plotly (only Google Colab Notebook)\n",
        "\n",
        "Google Colab may not be running the latest version of plotly. If you're working in Google Colab, uncomment the line below, run the cell, and restart your notebook server. "
      ]
    },
    {
      "cell_type": "code",
      "execution_count": 2,
      "metadata": {
        "id": "od8BRWbAsGxS"
      },
      "outputs": [],
      "source": [
        "# %pip install --upgrade plotly"
      ]
    },
    {
      "cell_type": "markdown",
      "metadata": {
        "id": "QPnGYVYyo7LK"
      },
      "source": [
        "### Import Statements"
      ]
    },
    {
      "cell_type": "code",
      "execution_count": 3,
      "metadata": {
        "id": "dCIwm0dLo7LL"
      },
      "outputs": [],
      "source": [
        "import pandas as pd\n",
        "import numpy as np\n",
        "import plotly.express as px\n",
        "import seaborn as sns\n",
        "import matplotlib.pyplot as plt"
      ]
    },
    {
      "cell_type": "markdown",
      "metadata": {
        "id": "FcJY6qfNo7LN"
      },
      "source": [
        "### Notebook Presentation"
      ]
    },
    {
      "cell_type": "code",
      "execution_count": 4,
      "metadata": {
        "id": "RjzC6BoMo7LO"
      },
      "outputs": [],
      "source": [
        "pd.options.display.float_format = '{:,.2f}'.format"
      ]
    },
    {
      "cell_type": "markdown",
      "metadata": {
        "id": "eoQ5Af4wo7LQ"
      },
      "source": [
        "### Read the Data"
      ]
    },
    {
      "cell_type": "code",
      "execution_count": 5,
      "metadata": {
        "id": "EbVGyi7Eo7LQ"
      },
      "outputs": [],
      "source": [
        "df_data = pd.read_csv('nobel_prize_data.csv')\n"
      ]
    },
    {
      "cell_type": "markdown",
      "metadata": {
        "id": "XZzHD-1dKKbr"
      },
      "source": [
        "Caveats: The exact birth dates for Michael Houghton, Venkatraman Ramakrishnan, and Nadia Murad are unknown. I've substituted them with mid-year estimate of July 2nd. \n"
      ]
    },
    {
      "cell_type": "markdown",
      "metadata": {
        "id": "rYlGEluAo7LS"
      },
      "source": [
        "# Data Exploration & Cleaning\n",
        "\n",
        "**Challenge**: Preliminary data exploration. \n",
        "* What is the shape of `df_data`? How many rows and columns?\n",
        "* What are the column names?\n",
        "* In which year was the Nobel prize first awarded?\n",
        "* Which year is the latest year included in the dataset?"
      ]
    },
    {
      "cell_type": "code",
      "execution_count": 6,
      "metadata": {
        "id": "4U-OQVRbFOu6"
      },
      "outputs": [
        {
          "name": "stdout",
          "output_type": "stream",
          "text": [
            "(962, 16)\n",
            "Index(['year', 'category', 'prize', 'motivation', 'prize_share',\n",
            "       'laureate_type', 'full_name', 'birth_date', 'birth_city',\n",
            "       'birth_country', 'birth_country_current', 'sex', 'organization_name',\n",
            "       'organization_city', 'organization_country', 'ISO'],\n",
            "      dtype='object')\n"
          ]
        }
      ],
      "source": [
        "print(df_data.shape)\n",
        "print(df_data.columns)"
      ]
    },
    {
      "cell_type": "code",
      "execution_count": 7,
      "metadata": {
        "id": "Iy6cDcXAFOsV"
      },
      "outputs": [
        {
          "data": {
            "text/html": [
              "<div>\n",
              "<style scoped>\n",
              "    .dataframe tbody tr th:only-of-type {\n",
              "        vertical-align: middle;\n",
              "    }\n",
              "\n",
              "    .dataframe tbody tr th {\n",
              "        vertical-align: top;\n",
              "    }\n",
              "\n",
              "    .dataframe thead th {\n",
              "        text-align: right;\n",
              "    }\n",
              "</style>\n",
              "<table border=\"1\" class=\"dataframe\">\n",
              "  <thead>\n",
              "    <tr style=\"text-align: right;\">\n",
              "      <th></th>\n",
              "      <th>year</th>\n",
              "      <th>category</th>\n",
              "      <th>prize</th>\n",
              "      <th>motivation</th>\n",
              "      <th>prize_share</th>\n",
              "      <th>laureate_type</th>\n",
              "      <th>full_name</th>\n",
              "      <th>birth_date</th>\n",
              "      <th>birth_city</th>\n",
              "      <th>birth_country</th>\n",
              "      <th>birth_country_current</th>\n",
              "      <th>sex</th>\n",
              "      <th>organization_name</th>\n",
              "      <th>organization_city</th>\n",
              "      <th>organization_country</th>\n",
              "      <th>ISO</th>\n",
              "    </tr>\n",
              "  </thead>\n",
              "  <tbody>\n",
              "    <tr>\n",
              "      <th>0</th>\n",
              "      <td>1901</td>\n",
              "      <td>Chemistry</td>\n",
              "      <td>The Nobel Prize in Chemistry 1901</td>\n",
              "      <td>\"in recognition of the extraordinary services ...</td>\n",
              "      <td>1/1</td>\n",
              "      <td>Individual</td>\n",
              "      <td>Jacobus Henricus van 't Hoff</td>\n",
              "      <td>1852-08-30</td>\n",
              "      <td>Rotterdam</td>\n",
              "      <td>Netherlands</td>\n",
              "      <td>Netherlands</td>\n",
              "      <td>Male</td>\n",
              "      <td>Berlin University</td>\n",
              "      <td>Berlin</td>\n",
              "      <td>Germany</td>\n",
              "      <td>NLD</td>\n",
              "    </tr>\n",
              "    <tr>\n",
              "      <th>1</th>\n",
              "      <td>1901</td>\n",
              "      <td>Literature</td>\n",
              "      <td>The Nobel Prize in Literature 1901</td>\n",
              "      <td>\"in special recognition of his poetic composit...</td>\n",
              "      <td>1/1</td>\n",
              "      <td>Individual</td>\n",
              "      <td>Sully Prudhomme</td>\n",
              "      <td>1839-03-16</td>\n",
              "      <td>Paris</td>\n",
              "      <td>France</td>\n",
              "      <td>France</td>\n",
              "      <td>Male</td>\n",
              "      <td>NaN</td>\n",
              "      <td>NaN</td>\n",
              "      <td>NaN</td>\n",
              "      <td>FRA</td>\n",
              "    </tr>\n",
              "    <tr>\n",
              "      <th>2</th>\n",
              "      <td>1901</td>\n",
              "      <td>Medicine</td>\n",
              "      <td>The Nobel Prize in Physiology or Medicine 1901</td>\n",
              "      <td>\"for his work on serum therapy, especially its...</td>\n",
              "      <td>1/1</td>\n",
              "      <td>Individual</td>\n",
              "      <td>Emil Adolf von Behring</td>\n",
              "      <td>1854-03-15</td>\n",
              "      <td>Hansdorf (Lawice)</td>\n",
              "      <td>Prussia (Poland)</td>\n",
              "      <td>Poland</td>\n",
              "      <td>Male</td>\n",
              "      <td>Marburg University</td>\n",
              "      <td>Marburg</td>\n",
              "      <td>Germany</td>\n",
              "      <td>POL</td>\n",
              "    </tr>\n",
              "    <tr>\n",
              "      <th>3</th>\n",
              "      <td>1901</td>\n",
              "      <td>Peace</td>\n",
              "      <td>The Nobel Peace Prize 1901</td>\n",
              "      <td>NaN</td>\n",
              "      <td>1/2</td>\n",
              "      <td>Individual</td>\n",
              "      <td>Frédéric Passy</td>\n",
              "      <td>1822-05-20</td>\n",
              "      <td>Paris</td>\n",
              "      <td>France</td>\n",
              "      <td>France</td>\n",
              "      <td>Male</td>\n",
              "      <td>NaN</td>\n",
              "      <td>NaN</td>\n",
              "      <td>NaN</td>\n",
              "      <td>FRA</td>\n",
              "    </tr>\n",
              "    <tr>\n",
              "      <th>4</th>\n",
              "      <td>1901</td>\n",
              "      <td>Peace</td>\n",
              "      <td>The Nobel Peace Prize 1901</td>\n",
              "      <td>NaN</td>\n",
              "      <td>1/2</td>\n",
              "      <td>Individual</td>\n",
              "      <td>Jean Henry Dunant</td>\n",
              "      <td>1828-05-08</td>\n",
              "      <td>Geneva</td>\n",
              "      <td>Switzerland</td>\n",
              "      <td>Switzerland</td>\n",
              "      <td>Male</td>\n",
              "      <td>NaN</td>\n",
              "      <td>NaN</td>\n",
              "      <td>NaN</td>\n",
              "      <td>CHE</td>\n",
              "    </tr>\n",
              "  </tbody>\n",
              "</table>\n",
              "</div>"
            ],
            "text/plain": [
              "   year    category                                           prize  \\\n",
              "0  1901   Chemistry               The Nobel Prize in Chemistry 1901   \n",
              "1  1901  Literature              The Nobel Prize in Literature 1901   \n",
              "2  1901    Medicine  The Nobel Prize in Physiology or Medicine 1901   \n",
              "3  1901       Peace                      The Nobel Peace Prize 1901   \n",
              "4  1901       Peace                      The Nobel Peace Prize 1901   \n",
              "\n",
              "                                          motivation prize_share  \\\n",
              "0  \"in recognition of the extraordinary services ...         1/1   \n",
              "1  \"in special recognition of his poetic composit...         1/1   \n",
              "2  \"for his work on serum therapy, especially its...         1/1   \n",
              "3                                                NaN         1/2   \n",
              "4                                                NaN         1/2   \n",
              "\n",
              "  laureate_type                     full_name  birth_date         birth_city  \\\n",
              "0    Individual  Jacobus Henricus van 't Hoff  1852-08-30          Rotterdam   \n",
              "1    Individual               Sully Prudhomme  1839-03-16              Paris   \n",
              "2    Individual        Emil Adolf von Behring  1854-03-15  Hansdorf (Lawice)   \n",
              "3    Individual                Frédéric Passy  1822-05-20              Paris   \n",
              "4    Individual             Jean Henry Dunant  1828-05-08             Geneva   \n",
              "\n",
              "      birth_country birth_country_current   sex   organization_name  \\\n",
              "0       Netherlands           Netherlands  Male   Berlin University   \n",
              "1            France                France  Male                 NaN   \n",
              "2  Prussia (Poland)                Poland  Male  Marburg University   \n",
              "3            France                France  Male                 NaN   \n",
              "4       Switzerland           Switzerland  Male                 NaN   \n",
              "\n",
              "  organization_city organization_country  ISO  \n",
              "0            Berlin              Germany  NLD  \n",
              "1               NaN                  NaN  FRA  \n",
              "2           Marburg              Germany  POL  \n",
              "3               NaN                  NaN  FRA  \n",
              "4               NaN                  NaN  CHE  "
            ]
          },
          "execution_count": 7,
          "metadata": {},
          "output_type": "execute_result"
        }
      ],
      "source": [
        "first_one = df_data.sort_values(by=\"year\",ascending=True)\n",
        "first_one.head()"
      ]
    },
    {
      "cell_type": "markdown",
      "metadata": {},
      "source": []
    },
    {
      "cell_type": "code",
      "execution_count": 8,
      "metadata": {},
      "outputs": [
        {
          "data": {
            "text/html": [
              "<div>\n",
              "<style scoped>\n",
              "    .dataframe tbody tr th:only-of-type {\n",
              "        vertical-align: middle;\n",
              "    }\n",
              "\n",
              "    .dataframe tbody tr th {\n",
              "        vertical-align: top;\n",
              "    }\n",
              "\n",
              "    .dataframe thead th {\n",
              "        text-align: right;\n",
              "    }\n",
              "</style>\n",
              "<table border=\"1\" class=\"dataframe\">\n",
              "  <thead>\n",
              "    <tr style=\"text-align: right;\">\n",
              "      <th></th>\n",
              "      <th>year</th>\n",
              "      <th>category</th>\n",
              "      <th>prize</th>\n",
              "      <th>motivation</th>\n",
              "      <th>prize_share</th>\n",
              "      <th>laureate_type</th>\n",
              "      <th>full_name</th>\n",
              "      <th>birth_date</th>\n",
              "      <th>birth_city</th>\n",
              "      <th>birth_country</th>\n",
              "      <th>birth_country_current</th>\n",
              "      <th>sex</th>\n",
              "      <th>organization_name</th>\n",
              "      <th>organization_city</th>\n",
              "      <th>organization_country</th>\n",
              "      <th>ISO</th>\n",
              "    </tr>\n",
              "  </thead>\n",
              "  <tbody>\n",
              "    <tr>\n",
              "      <th>951</th>\n",
              "      <td>2020</td>\n",
              "      <td>Chemistry</td>\n",
              "      <td>The Nobel Prize in Chemistry 2020</td>\n",
              "      <td>“for the development of a method for genome ed...</td>\n",
              "      <td>1/2</td>\n",
              "      <td>Individual</td>\n",
              "      <td>Jennifer A. Doudna</td>\n",
              "      <td>1964-02-19</td>\n",
              "      <td>Washington, DC</td>\n",
              "      <td>United States of America</td>\n",
              "      <td>United States of America</td>\n",
              "      <td>Female</td>\n",
              "      <td>University of California</td>\n",
              "      <td>Berkeley, CA</td>\n",
              "      <td>United States of America</td>\n",
              "      <td>USA</td>\n",
              "    </tr>\n",
              "    <tr>\n",
              "      <th>950</th>\n",
              "      <td>2020</td>\n",
              "      <td>Chemistry</td>\n",
              "      <td>The Nobel Prize in Chemistry 2020</td>\n",
              "      <td>“for the development of a method for genome ed...</td>\n",
              "      <td>1/2</td>\n",
              "      <td>Individual</td>\n",
              "      <td>Emmanuelle Charpentier</td>\n",
              "      <td>1968-12-11</td>\n",
              "      <td>Juvisy-sur-Orge</td>\n",
              "      <td>France</td>\n",
              "      <td>France</td>\n",
              "      <td>Female</td>\n",
              "      <td>Max-Planck-Institut</td>\n",
              "      <td>Berlin</td>\n",
              "      <td>Germany</td>\n",
              "      <td>FRA</td>\n",
              "    </tr>\n",
              "    <tr>\n",
              "      <th>960</th>\n",
              "      <td>2020</td>\n",
              "      <td>Physics</td>\n",
              "      <td>The Nobel Prize in Physics 2020</td>\n",
              "      <td>“for the discovery of a supermassive compact o...</td>\n",
              "      <td>1/4</td>\n",
              "      <td>Individual</td>\n",
              "      <td>Reinhard Genzel</td>\n",
              "      <td>1952-03-24</td>\n",
              "      <td>Bad Homburg vor der Höhe</td>\n",
              "      <td>Germany</td>\n",
              "      <td>Germany</td>\n",
              "      <td>Male</td>\n",
              "      <td>University of California</td>\n",
              "      <td>Los Angeles, CA</td>\n",
              "      <td>United States of America</td>\n",
              "      <td>DEU</td>\n",
              "    </tr>\n",
              "    <tr>\n",
              "      <th>954</th>\n",
              "      <td>2020</td>\n",
              "      <td>Literature</td>\n",
              "      <td>The Nobel Prize in Literature 2020</td>\n",
              "      <td>“for her unmistakable poetic voice that with a...</td>\n",
              "      <td>1/1</td>\n",
              "      <td>Individual</td>\n",
              "      <td>Louise Glück</td>\n",
              "      <td>1943-04-22</td>\n",
              "      <td>New York, NY</td>\n",
              "      <td>United States of America</td>\n",
              "      <td>United States of America</td>\n",
              "      <td>Female</td>\n",
              "      <td>NaN</td>\n",
              "      <td>NaN</td>\n",
              "      <td>NaN</td>\n",
              "      <td>USA</td>\n",
              "    </tr>\n",
              "    <tr>\n",
              "      <th>961</th>\n",
              "      <td>2020</td>\n",
              "      <td>Physics</td>\n",
              "      <td>The Nobel Prize in Physics 2020</td>\n",
              "      <td>“for the discovery that black hole formation i...</td>\n",
              "      <td>1/2</td>\n",
              "      <td>Individual</td>\n",
              "      <td>Roger Penrose</td>\n",
              "      <td>1931-08-08</td>\n",
              "      <td>Colchester</td>\n",
              "      <td>United Kingdom</td>\n",
              "      <td>United Kingdom</td>\n",
              "      <td>Male</td>\n",
              "      <td>University of Oxford</td>\n",
              "      <td>Oxford</td>\n",
              "      <td>United Kingdom</td>\n",
              "      <td>GBR</td>\n",
              "    </tr>\n",
              "  </tbody>\n",
              "</table>\n",
              "</div>"
            ],
            "text/plain": [
              "     year    category                               prize  \\\n",
              "951  2020   Chemistry   The Nobel Prize in Chemistry 2020   \n",
              "950  2020   Chemistry   The Nobel Prize in Chemistry 2020   \n",
              "960  2020     Physics     The Nobel Prize in Physics 2020   \n",
              "954  2020  Literature  The Nobel Prize in Literature 2020   \n",
              "961  2020     Physics     The Nobel Prize in Physics 2020   \n",
              "\n",
              "                                            motivation prize_share  \\\n",
              "951  “for the development of a method for genome ed...         1/2   \n",
              "950  “for the development of a method for genome ed...         1/2   \n",
              "960  “for the discovery of a supermassive compact o...         1/4   \n",
              "954  “for her unmistakable poetic voice that with a...         1/1   \n",
              "961  “for the discovery that black hole formation i...         1/2   \n",
              "\n",
              "    laureate_type               full_name  birth_date  \\\n",
              "951    Individual      Jennifer A. Doudna  1964-02-19   \n",
              "950    Individual  Emmanuelle Charpentier  1968-12-11   \n",
              "960    Individual         Reinhard Genzel  1952-03-24   \n",
              "954    Individual            Louise Glück  1943-04-22   \n",
              "961    Individual           Roger Penrose  1931-08-08   \n",
              "\n",
              "                   birth_city             birth_country  \\\n",
              "951            Washington, DC  United States of America   \n",
              "950           Juvisy-sur-Orge                    France   \n",
              "960  Bad Homburg vor der Höhe                   Germany   \n",
              "954              New York, NY  United States of America   \n",
              "961                Colchester            United Kingdom   \n",
              "\n",
              "        birth_country_current     sex         organization_name  \\\n",
              "951  United States of America  Female  University of California   \n",
              "950                    France  Female       Max-Planck-Institut   \n",
              "960                   Germany    Male  University of California   \n",
              "954  United States of America  Female                       NaN   \n",
              "961            United Kingdom    Male      University of Oxford   \n",
              "\n",
              "    organization_city      organization_country  ISO  \n",
              "951      Berkeley, CA  United States of America  USA  \n",
              "950            Berlin                   Germany  FRA  \n",
              "960   Los Angeles, CA  United States of America  DEU  \n",
              "954               NaN                       NaN  USA  \n",
              "961            Oxford            United Kingdom  GBR  "
            ]
          },
          "execution_count": 8,
          "metadata": {},
          "output_type": "execute_result"
        }
      ],
      "source": [
        "first_one.tail()"
      ]
    },
    {
      "cell_type": "markdown",
      "metadata": {
        "id": "SjA1sZPPMH_Y"
      },
      "source": [
        "**Challange**: \n",
        "* Are there any duplicate values in the dataset?\n",
        "* Are there NaN values in the dataset?\n",
        "* Which columns tend to have NaN values?\n",
        "* How many NaN values are there per column? \n",
        "* Why do these columns have NaN values?  "
      ]
    },
    {
      "cell_type": "markdown",
      "metadata": {
        "id": "q1EuEZV7o7Lb"
      },
      "source": [
        "### Check for Duplicates"
      ]
    },
    {
      "cell_type": "code",
      "execution_count": 21,
      "metadata": {
        "id": "v976ftCaFRFN"
      },
      "outputs": [
        {
          "name": "stdout",
          "output_type": "stream",
          "text": [
            "False\n",
            "year                     False\n",
            "category                 False\n",
            "prize                    False\n",
            "motivation                True\n",
            "prize_share              False\n",
            "laureate_type            False\n",
            "full_name                False\n",
            "birth_date                True\n",
            "birth_city                True\n",
            "birth_country             True\n",
            "birth_country_current     True\n",
            "sex                       True\n",
            "organization_name         True\n",
            "organization_city         True\n",
            "organization_country      True\n",
            "ISO                       True\n",
            "share_pct                False\n",
            "dtype: bool\n",
            "\n",
            "NaN Values Count per Column:\n",
            "year                       0\n",
            "category                   0\n",
            "prize                      0\n",
            "motivation                88\n",
            "prize_share                0\n",
            "laureate_type              0\n",
            "full_name                  0\n",
            "birth_date                28\n",
            "birth_city                31\n",
            "birth_country             28\n",
            "birth_country_current     28\n",
            "sex                       28\n",
            "organization_name        255\n",
            "organization_city        255\n",
            "organization_country     254\n",
            "ISO                       28\n",
            "share_pct                  0\n",
            "dtype: int64\n"
          ]
        }
      ],
      "source": [
        "duplicates = df_data.duplicated().any()\n",
        "print(duplicates)\n",
        "\n",
        "nan_values = df_data.isna().any()\n",
        "print(nan_values)\n",
        "nan_count = df_data.isna().sum()\n",
        "print(\"\\nNaN Values Count per Column:\")\n",
        "print(nan_count)"
      ]
    },
    {
      "cell_type": "code",
      "execution_count": 10,
      "metadata": {
        "id": "gvpa0A0OFQ4z"
      },
      "outputs": [
        {
          "name": "stdout",
          "output_type": "stream",
          "text": [
            "\n",
            "Reasons for NaN values in 'year':\n",
            "Empty DataFrame\n",
            "Columns: [year, category, prize, motivation, prize_share, laureate_type, full_name, birth_date, birth_city, birth_country, birth_country_current, sex, organization_name, organization_city, organization_country, ISO]\n",
            "Index: []\n",
            "\n",
            "Reasons for NaN values in 'category':\n",
            "Empty DataFrame\n",
            "Columns: [year, category, prize, motivation, prize_share, laureate_type, full_name, birth_date, birth_city, birth_country, birth_country_current, sex, organization_name, organization_city, organization_country, ISO]\n",
            "Index: []\n",
            "\n",
            "Reasons for NaN values in 'prize':\n",
            "Empty DataFrame\n",
            "Columns: [year, category, prize, motivation, prize_share, laureate_type, full_name, birth_date, birth_city, birth_country, birth_country_current, sex, organization_name, organization_city, organization_country, ISO]\n",
            "Index: []\n",
            "\n",
            "Reasons for NaN values in 'motivation':\n",
            "     year category                       prize motivation prize_share  \\\n",
            "3    1901    Peace  The Nobel Peace Prize 1901        NaN         1/2   \n",
            "4    1901    Peace  The Nobel Peace Prize 1901        NaN         1/2   \n",
            "9    1902    Peace  The Nobel Peace Prize 1902        NaN         1/2   \n",
            "10   1902    Peace  The Nobel Peace Prize 1902        NaN         1/2   \n",
            "16   1903    Peace  The Nobel Peace Prize 1903        NaN         1/1   \n",
            "..    ...      ...                         ...        ...         ...   \n",
            "549  1984    Peace  The Nobel Peace Prize 1984        NaN         1/1   \n",
            "558  1985    Peace  The Nobel Peace Prize 1985        NaN         1/1   \n",
            "567  1986    Peace  The Nobel Peace Prize 1986        NaN         1/1   \n",
            "588  1988    Peace  The Nobel Peace Prize 1988        NaN         1/1   \n",
            "598  1989    Peace  The Nobel Peace Prize 1989        NaN         1/1   \n",
            "\n",
            "    laureate_type                                          full_name  \\\n",
            "3      Individual                                     Frédéric Passy   \n",
            "4      Individual                                  Jean Henry Dunant   \n",
            "9      Individual                               Charles Albert Gobat   \n",
            "10     Individual                                      Élie Ducommun   \n",
            "16     Individual                              William Randal Cremer   \n",
            "..            ...                                                ...   \n",
            "549    Individual                                 Desmond Mpilo Tutu   \n",
            "558  Organization  International Physicians for the Prevention of...   \n",
            "567    Individual                                        Elie Wiesel   \n",
            "588  Organization                 United Nations Peacekeeping Forces   \n",
            "598  Organization                The 14th Dalai Lama (Tenzin Gyatso)   \n",
            "\n",
            "     birth_date  birth_city                       birth_country  \\\n",
            "3    1822-05-20       Paris                              France   \n",
            "4    1828-05-08      Geneva                         Switzerland   \n",
            "9    1843-05-21    Tramelan                         Switzerland   \n",
            "10   1833-02-19      Geneva                         Switzerland   \n",
            "16   1828-03-18     Fareham                      United Kingdom   \n",
            "..          ...         ...                                 ...   \n",
            "549  1931-10-07  Klerksdorp                        South Africa   \n",
            "558         NaN         NaN                                 NaN   \n",
            "567  1928-09-30      Sighet                             Romania   \n",
            "588         NaN         NaN                                 NaN   \n",
            "598  1935-07-06     Taktser  Tibet (People's Republic of China)   \n",
            "\n",
            "    birth_country_current   sex organization_name organization_city  \\\n",
            "3                  France  Male               NaN               NaN   \n",
            "4             Switzerland  Male               NaN               NaN   \n",
            "9             Switzerland  Male               NaN               NaN   \n",
            "10            Switzerland  Male               NaN               NaN   \n",
            "16         United Kingdom  Male               NaN               NaN   \n",
            "..                    ...   ...               ...               ...   \n",
            "549          South Africa  Male               NaN               NaN   \n",
            "558                   NaN   NaN               NaN               NaN   \n",
            "567               Romania  Male               NaN               NaN   \n",
            "588                   NaN   NaN               NaN               NaN   \n",
            "598                 China  Male               NaN               NaN   \n",
            "\n",
            "    organization_country  ISO  \n",
            "3                    NaN  FRA  \n",
            "4                    NaN  CHE  \n",
            "9                    NaN  CHE  \n",
            "10                   NaN  CHE  \n",
            "16                   NaN  GBR  \n",
            "..                   ...  ...  \n",
            "549                  NaN  ZAF  \n",
            "558                  NaN  NaN  \n",
            "567                  NaN  ROU  \n",
            "588                  NaN  NaN  \n",
            "598                  NaN  CHN  \n",
            "\n",
            "[88 rows x 16 columns]\n",
            "\n",
            "Reasons for NaN values in 'prize_share':\n",
            "Empty DataFrame\n",
            "Columns: [year, category, prize, motivation, prize_share, laureate_type, full_name, birth_date, birth_city, birth_country, birth_country_current, sex, organization_name, organization_city, organization_country, ISO]\n",
            "Index: []\n",
            "\n",
            "Reasons for NaN values in 'laureate_type':\n",
            "Empty DataFrame\n",
            "Columns: [year, category, prize, motivation, prize_share, laureate_type, full_name, birth_date, birth_city, birth_country, birth_country_current, sex, organization_name, organization_city, organization_country, ISO]\n",
            "Index: []\n",
            "\n",
            "Reasons for NaN values in 'full_name':\n",
            "Empty DataFrame\n",
            "Columns: [year, category, prize, motivation, prize_share, laureate_type, full_name, birth_date, birth_city, birth_country, birth_country_current, sex, organization_name, organization_city, organization_country, ISO]\n",
            "Index: []\n",
            "\n",
            "Reasons for NaN values in 'birth_date':\n",
            "     year category                       prize  \\\n",
            "24   1904    Peace  The Nobel Peace Prize 1904   \n",
            "60   1910    Peace  The Nobel Peace Prize 1910   \n",
            "89   1917    Peace  The Nobel Peace Prize 1917   \n",
            "200  1938    Peace  The Nobel Peace Prize 1938   \n",
            "215  1944    Peace  The Nobel Peace Prize 1944   \n",
            "237  1947    Peace  The Nobel Peace Prize 1947   \n",
            "238  1947    Peace  The Nobel Peace Prize 1947   \n",
            "283  1954    Peace  The Nobel Peace Prize 1954   \n",
            "348  1963    Peace  The Nobel Peace Prize 1963   \n",
            "349  1963    Peace  The Nobel Peace Prize 1963   \n",
            "366  1965    Peace  The Nobel Peace Prize 1965   \n",
            "399  1969    Peace  The Nobel Peace Prize 1969   \n",
            "479  1977    Peace  The Nobel Peace Prize 1977   \n",
            "523  1981    Peace  The Nobel Peace Prize 1981   \n",
            "558  1985    Peace  The Nobel Peace Prize 1985   \n",
            "588  1988    Peace  The Nobel Peace Prize 1988   \n",
            "659  1995    Peace  The Nobel Peace Prize 1995   \n",
            "682  1997    Peace  The Nobel Peace Prize 1997   \n",
            "703  1999    Peace  The Nobel Peace Prize 1999   \n",
            "730  2001    Peace  The Nobel Peace Prize 2001   \n",
            "778  2005    Peace  The Nobel Peace Prize 2005   \n",
            "788  2006    Peace  The Nobel Peace Prize 2006   \n",
            "801  2007    Peace  The Nobel Peace Prize 2007   \n",
            "860  2012    Peace  The Nobel Peace Prize 2012   \n",
            "873  2013    Peace  The Nobel Peace Prize 2013   \n",
            "897  2015    Peace  The Nobel Peace Prize 2015   \n",
            "919  2017    Peace  The Nobel Peace Prize 2017   \n",
            "958  2020    Peace  The Nobel Peace Prize 2020   \n",
            "\n",
            "                                            motivation prize_share  \\\n",
            "24                                                 NaN         1/1   \n",
            "60                                                 NaN         1/1   \n",
            "89                                                 NaN         1/1   \n",
            "200                                                NaN         1/1   \n",
            "215                                                NaN         1/1   \n",
            "237                                                NaN         1/2   \n",
            "238                                                NaN         1/2   \n",
            "283                                                NaN         1/1   \n",
            "348                                                NaN         1/2   \n",
            "349                                                NaN         1/2   \n",
            "366                                                NaN         1/1   \n",
            "399                                                NaN         1/1   \n",
            "479                                                NaN         1/1   \n",
            "523                                                NaN         1/1   \n",
            "558                                                NaN         1/1   \n",
            "588                                                NaN         1/1   \n",
            "659  \"for their efforts to diminish the part played...         1/2   \n",
            "682  \"for their work for the banning and clearing o...         1/2   \n",
            "703  \"in recognition of the organization's pioneeri...         1/1   \n",
            "730  \"for their work for a better organized and mor...         1/2   \n",
            "778  \"for their efforts to prevent nuclear energy f...         1/2   \n",
            "788  \"for their efforts to create economic and soci...         1/2   \n",
            "801  \"for their efforts to build up and disseminate...         1/2   \n",
            "860  \"for over six decades contributed to the advan...         1/1   \n",
            "873  \"for its extensive efforts to eliminate chemic...         1/1   \n",
            "897  \"for its decisive contribution to the building...         1/1   \n",
            "919  “for its work to draw attention to the catastr...         1/1   \n",
            "958  “for its efforts to combat hunger, for its con...         1/1   \n",
            "\n",
            "    laureate_type                                          full_name  \\\n",
            "24   Organization  Institut de droit international (Institute of ...   \n",
            "60   Organization  Bureau international permanent de la Paix (Per...   \n",
            "89   Organization  Comité international de la Croix Rouge (Intern...   \n",
            "200  Organization  Office international Nansen pour les Réfugiés ...   \n",
            "215  Organization  Comité international de la Croix Rouge (Intern...   \n",
            "237  Organization   American Friends Service Committee (The Quakers)   \n",
            "238  Organization              Friends Service Council (The Quakers)   \n",
            "283  Organization  Office of the United Nations High Commissioner...   \n",
            "348  Organization  Comité international de la Croix Rouge (Intern...   \n",
            "349  Organization  Ligue des Sociétés de la Croix-Rouge (League o...   \n",
            "366  Organization            United Nations Children's Fund (UNICEF)   \n",
            "399  Organization         International Labour Organization (I.L.O.)   \n",
            "479  Organization                              Amnesty International   \n",
            "523  Organization  Office of the United Nations High Commissioner...   \n",
            "558  Organization  International Physicians for the Prevention of...   \n",
            "588  Organization                 United Nations Peacekeeping Forces   \n",
            "659  Organization   Pugwash Conferences on Science and World Affairs   \n",
            "682  Organization     International Campaign to Ban Landmines (ICBL)   \n",
            "703  Organization                           Médecins Sans Frontières   \n",
            "730  Organization                              United Nations (U.N.)   \n",
            "778  Organization          International Atomic Energy Agency (IAEA)   \n",
            "788  Organization                                       Grameen Bank   \n",
            "801  Organization   Intergovernmental Panel on Climate Change (IPCC)   \n",
            "860  Organization                                European Union (EU)   \n",
            "873  Organization  Organisation for the Prohibition of Chemical W...   \n",
            "897  Organization                          National Dialogue Quartet   \n",
            "919  Organization  International Campaign to Abolish Nuclear Weap...   \n",
            "958  Organization                         World Food Programme (WFP)   \n",
            "\n",
            "    birth_date birth_city birth_country birth_country_current  sex  \\\n",
            "24         NaN        NaN           NaN                   NaN  NaN   \n",
            "60         NaN        NaN           NaN                   NaN  NaN   \n",
            "89         NaN        NaN           NaN                   NaN  NaN   \n",
            "200        NaN        NaN           NaN                   NaN  NaN   \n",
            "215        NaN        NaN           NaN                   NaN  NaN   \n",
            "237        NaN        NaN           NaN                   NaN  NaN   \n",
            "238        NaN        NaN           NaN                   NaN  NaN   \n",
            "283        NaN        NaN           NaN                   NaN  NaN   \n",
            "348        NaN        NaN           NaN                   NaN  NaN   \n",
            "349        NaN        NaN           NaN                   NaN  NaN   \n",
            "366        NaN        NaN           NaN                   NaN  NaN   \n",
            "399        NaN        NaN           NaN                   NaN  NaN   \n",
            "479        NaN        NaN           NaN                   NaN  NaN   \n",
            "523        NaN        NaN           NaN                   NaN  NaN   \n",
            "558        NaN        NaN           NaN                   NaN  NaN   \n",
            "588        NaN        NaN           NaN                   NaN  NaN   \n",
            "659        NaN        NaN           NaN                   NaN  NaN   \n",
            "682        NaN        NaN           NaN                   NaN  NaN   \n",
            "703        NaN        NaN           NaN                   NaN  NaN   \n",
            "730        NaN        NaN           NaN                   NaN  NaN   \n",
            "778        NaN        NaN           NaN                   NaN  NaN   \n",
            "788        NaN        NaN           NaN                   NaN  NaN   \n",
            "801        NaN        NaN           NaN                   NaN  NaN   \n",
            "860        NaN        NaN           NaN                   NaN  NaN   \n",
            "873        NaN        NaN           NaN                   NaN  NaN   \n",
            "897        NaN        NaN           NaN                   NaN  NaN   \n",
            "919        NaN        NaN           NaN                   NaN  NaN   \n",
            "958        NaN        NaN           NaN                   NaN  NaN   \n",
            "\n",
            "    organization_name organization_city organization_country  ISO  \n",
            "24                NaN               NaN                  NaN  NaN  \n",
            "60                NaN               NaN                  NaN  NaN  \n",
            "89                NaN               NaN                  NaN  NaN  \n",
            "200               NaN               NaN                  NaN  NaN  \n",
            "215               NaN               NaN                  NaN  NaN  \n",
            "237               NaN               NaN                  NaN  NaN  \n",
            "238               NaN               NaN                  NaN  NaN  \n",
            "283               NaN               NaN                  NaN  NaN  \n",
            "348               NaN               NaN                  NaN  NaN  \n",
            "349               NaN               NaN                  NaN  NaN  \n",
            "366               NaN               NaN                  NaN  NaN  \n",
            "399               NaN               NaN                  NaN  NaN  \n",
            "479               NaN               NaN                  NaN  NaN  \n",
            "523               NaN               NaN                  NaN  NaN  \n",
            "558               NaN               NaN                  NaN  NaN  \n",
            "588               NaN               NaN                  NaN  NaN  \n",
            "659               NaN               NaN                  NaN  NaN  \n",
            "682               NaN               NaN                  NaN  NaN  \n",
            "703               NaN               NaN                  NaN  NaN  \n",
            "730               NaN               NaN                  NaN  NaN  \n",
            "778               NaN               NaN                  NaN  NaN  \n",
            "788               NaN               NaN                  NaN  NaN  \n",
            "801               NaN               NaN                  NaN  NaN  \n",
            "860               NaN               NaN                  NaN  NaN  \n",
            "873               NaN               NaN                  NaN  NaN  \n",
            "897               NaN               NaN                  NaN  NaN  \n",
            "919               NaN               NaN                  NaN  NaN  \n",
            "958               NaN               NaN                  NaN  NaN  \n",
            "\n",
            "Reasons for NaN values in 'birth_city':\n",
            "     year    category                                           prize  \\\n",
            "24   1904       Peace                      The Nobel Peace Prize 1904   \n",
            "60   1910       Peace                      The Nobel Peace Prize 1910   \n",
            "89   1917       Peace                      The Nobel Peace Prize 1917   \n",
            "200  1938       Peace                      The Nobel Peace Prize 1938   \n",
            "215  1944       Peace                      The Nobel Peace Prize 1944   \n",
            "237  1947       Peace                      The Nobel Peace Prize 1947   \n",
            "238  1947       Peace                      The Nobel Peace Prize 1947   \n",
            "283  1954       Peace                      The Nobel Peace Prize 1954   \n",
            "348  1963       Peace                      The Nobel Peace Prize 1963   \n",
            "349  1963       Peace                      The Nobel Peace Prize 1963   \n",
            "366  1965       Peace                      The Nobel Peace Prize 1965   \n",
            "399  1969       Peace                      The Nobel Peace Prize 1969   \n",
            "479  1977       Peace                      The Nobel Peace Prize 1977   \n",
            "523  1981       Peace                      The Nobel Peace Prize 1981   \n",
            "558  1985       Peace                      The Nobel Peace Prize 1985   \n",
            "588  1988       Peace                      The Nobel Peace Prize 1988   \n",
            "659  1995       Peace                      The Nobel Peace Prize 1995   \n",
            "682  1997       Peace                      The Nobel Peace Prize 1997   \n",
            "703  1999       Peace                      The Nobel Peace Prize 1999   \n",
            "725  2001  Literature              The Nobel Prize in Literature 2001   \n",
            "730  2001       Peace                      The Nobel Peace Prize 2001   \n",
            "778  2005       Peace                      The Nobel Peace Prize 2005   \n",
            "788  2006       Peace                      The Nobel Peace Prize 2006   \n",
            "801  2007       Peace                      The Nobel Peace Prize 2007   \n",
            "837  2010       Peace                      The Nobel Peace Prize 2010   \n",
            "860  2012       Peace                      The Nobel Peace Prize 2012   \n",
            "873  2013       Peace                      The Nobel Peace Prize 2013   \n",
            "897  2015       Peace                      The Nobel Peace Prize 2015   \n",
            "919  2017       Peace                      The Nobel Peace Prize 2017   \n",
            "957  2020    Medicine  The Nobel Prize in Physiology or Medicine 2020   \n",
            "958  2020       Peace                      The Nobel Peace Prize 2020   \n",
            "\n",
            "                                            motivation prize_share  \\\n",
            "24                                                 NaN         1/1   \n",
            "60                                                 NaN         1/1   \n",
            "89                                                 NaN         1/1   \n",
            "200                                                NaN         1/1   \n",
            "215                                                NaN         1/1   \n",
            "237                                                NaN         1/2   \n",
            "238                                                NaN         1/2   \n",
            "283                                                NaN         1/1   \n",
            "348                                                NaN         1/2   \n",
            "349                                                NaN         1/2   \n",
            "366                                                NaN         1/1   \n",
            "399                                                NaN         1/1   \n",
            "479                                                NaN         1/1   \n",
            "523                                                NaN         1/1   \n",
            "558                                                NaN         1/1   \n",
            "588                                                NaN         1/1   \n",
            "659  \"for their efforts to diminish the part played...         1/2   \n",
            "682  \"for their work for the banning and clearing o...         1/2   \n",
            "703  \"in recognition of the organization's pioneeri...         1/1   \n",
            "725  \"for having united perceptive narrative and in...         1/1   \n",
            "730  \"for their work for a better organized and mor...         1/2   \n",
            "778  \"for their efforts to prevent nuclear energy f...         1/2   \n",
            "788  \"for their efforts to create economic and soci...         1/2   \n",
            "801  \"for their efforts to build up and disseminate...         1/2   \n",
            "837  \"for his long and non-violent struggle for fun...         1/1   \n",
            "860  \"for over six decades contributed to the advan...         1/1   \n",
            "873  \"for its extensive efforts to eliminate chemic...         1/1   \n",
            "897  \"for its decisive contribution to the building...         1/1   \n",
            "919  “for its work to draw attention to the catastr...         1/1   \n",
            "957           “for the discovery of Hepatitis C virus”         1/3   \n",
            "958  “for its efforts to combat hunger, for its con...         1/1   \n",
            "\n",
            "    laureate_type                                          full_name  \\\n",
            "24   Organization  Institut de droit international (Institute of ...   \n",
            "60   Organization  Bureau international permanent de la Paix (Per...   \n",
            "89   Organization  Comité international de la Croix Rouge (Intern...   \n",
            "200  Organization  Office international Nansen pour les Réfugiés ...   \n",
            "215  Organization  Comité international de la Croix Rouge (Intern...   \n",
            "237  Organization   American Friends Service Committee (The Quakers)   \n",
            "238  Organization              Friends Service Council (The Quakers)   \n",
            "283  Organization  Office of the United Nations High Commissioner...   \n",
            "348  Organization  Comité international de la Croix Rouge (Intern...   \n",
            "349  Organization  Ligue des Sociétés de la Croix-Rouge (League o...   \n",
            "366  Organization            United Nations Children's Fund (UNICEF)   \n",
            "399  Organization         International Labour Organization (I.L.O.)   \n",
            "479  Organization                              Amnesty International   \n",
            "523  Organization  Office of the United Nations High Commissioner...   \n",
            "558  Organization  International Physicians for the Prevention of...   \n",
            "588  Organization                 United Nations Peacekeeping Forces   \n",
            "659  Organization   Pugwash Conferences on Science and World Affairs   \n",
            "682  Organization     International Campaign to Ban Landmines (ICBL)   \n",
            "703  Organization                           Médecins Sans Frontières   \n",
            "725    Individual                  Sir Vidiadhar Surajprasad Naipaul   \n",
            "730  Organization                              United Nations (U.N.)   \n",
            "778  Organization          International Atomic Energy Agency (IAEA)   \n",
            "788  Organization                                       Grameen Bank   \n",
            "801  Organization   Intergovernmental Panel on Climate Change (IPCC)   \n",
            "837    Individual                                         Liu Xiaobo   \n",
            "860  Organization                                European Union (EU)   \n",
            "873  Organization  Organisation for the Prohibition of Chemical W...   \n",
            "897  Organization                          National Dialogue Quartet   \n",
            "919  Organization  International Campaign to Abolish Nuclear Weap...   \n",
            "957    Individual                                   Michael Houghton   \n",
            "958  Organization                         World Food Programme (WFP)   \n",
            "\n",
            "     birth_date birth_city   birth_country birth_country_current   sex  \\\n",
            "24          NaN        NaN             NaN                   NaN   NaN   \n",
            "60          NaN        NaN             NaN                   NaN   NaN   \n",
            "89          NaN        NaN             NaN                   NaN   NaN   \n",
            "200         NaN        NaN             NaN                   NaN   NaN   \n",
            "215         NaN        NaN             NaN                   NaN   NaN   \n",
            "237         NaN        NaN             NaN                   NaN   NaN   \n",
            "238         NaN        NaN             NaN                   NaN   NaN   \n",
            "283         NaN        NaN             NaN                   NaN   NaN   \n",
            "348         NaN        NaN             NaN                   NaN   NaN   \n",
            "349         NaN        NaN             NaN                   NaN   NaN   \n",
            "366         NaN        NaN             NaN                   NaN   NaN   \n",
            "399         NaN        NaN             NaN                   NaN   NaN   \n",
            "479         NaN        NaN             NaN                   NaN   NaN   \n",
            "523         NaN        NaN             NaN                   NaN   NaN   \n",
            "558         NaN        NaN             NaN                   NaN   NaN   \n",
            "588         NaN        NaN             NaN                   NaN   NaN   \n",
            "659         NaN        NaN             NaN                   NaN   NaN   \n",
            "682         NaN        NaN             NaN                   NaN   NaN   \n",
            "703         NaN        NaN             NaN                   NaN   NaN   \n",
            "725  1932-08-17        NaN        Trinidad              Trinidad  Male   \n",
            "730         NaN        NaN             NaN                   NaN   NaN   \n",
            "778         NaN        NaN             NaN                   NaN   NaN   \n",
            "788         NaN        NaN             NaN                   NaN   NaN   \n",
            "801         NaN        NaN             NaN                   NaN   NaN   \n",
            "837  1955-12-28        NaN           China                 China  Male   \n",
            "860         NaN        NaN             NaN                   NaN   NaN   \n",
            "873         NaN        NaN             NaN                   NaN   NaN   \n",
            "897         NaN        NaN             NaN                   NaN   NaN   \n",
            "919         NaN        NaN             NaN                   NaN   NaN   \n",
            "957  1949-07-02        NaN  United Kingdom        United Kingdom  Male   \n",
            "958         NaN        NaN             NaN                   NaN   NaN   \n",
            "\n",
            "         organization_name organization_city organization_country  ISO  \n",
            "24                     NaN               NaN                  NaN  NaN  \n",
            "60                     NaN               NaN                  NaN  NaN  \n",
            "89                     NaN               NaN                  NaN  NaN  \n",
            "200                    NaN               NaN                  NaN  NaN  \n",
            "215                    NaN               NaN                  NaN  NaN  \n",
            "237                    NaN               NaN                  NaN  NaN  \n",
            "238                    NaN               NaN                  NaN  NaN  \n",
            "283                    NaN               NaN                  NaN  NaN  \n",
            "348                    NaN               NaN                  NaN  NaN  \n",
            "349                    NaN               NaN                  NaN  NaN  \n",
            "366                    NaN               NaN                  NaN  NaN  \n",
            "399                    NaN               NaN                  NaN  NaN  \n",
            "479                    NaN               NaN                  NaN  NaN  \n",
            "523                    NaN               NaN                  NaN  NaN  \n",
            "558                    NaN               NaN                  NaN  NaN  \n",
            "588                    NaN               NaN                  NaN  NaN  \n",
            "659                    NaN               NaN                  NaN  NaN  \n",
            "682                    NaN               NaN                  NaN  NaN  \n",
            "703                    NaN               NaN                  NaN  NaN  \n",
            "725                    NaN               NaN                  NaN  TON  \n",
            "730                    NaN               NaN                  NaN  NaN  \n",
            "778                    NaN               NaN                  NaN  NaN  \n",
            "788                    NaN               NaN                  NaN  NaN  \n",
            "801                    NaN               NaN                  NaN  NaN  \n",
            "837                    NaN               NaN                  NaN  CHN  \n",
            "860                    NaN               NaN                  NaN  NaN  \n",
            "873                    NaN               NaN                  NaN  NaN  \n",
            "897                    NaN               NaN                  NaN  NaN  \n",
            "919                    NaN               NaN                  NaN  NaN  \n",
            "957  University of Alberta          Edmonton               Canada  GBR  \n",
            "958                    NaN               NaN                  NaN  NaN  \n",
            "\n",
            "Reasons for NaN values in 'birth_country':\n",
            "     year category                       prize  \\\n",
            "24   1904    Peace  The Nobel Peace Prize 1904   \n",
            "60   1910    Peace  The Nobel Peace Prize 1910   \n",
            "89   1917    Peace  The Nobel Peace Prize 1917   \n",
            "200  1938    Peace  The Nobel Peace Prize 1938   \n",
            "215  1944    Peace  The Nobel Peace Prize 1944   \n",
            "237  1947    Peace  The Nobel Peace Prize 1947   \n",
            "238  1947    Peace  The Nobel Peace Prize 1947   \n",
            "283  1954    Peace  The Nobel Peace Prize 1954   \n",
            "348  1963    Peace  The Nobel Peace Prize 1963   \n",
            "349  1963    Peace  The Nobel Peace Prize 1963   \n",
            "366  1965    Peace  The Nobel Peace Prize 1965   \n",
            "399  1969    Peace  The Nobel Peace Prize 1969   \n",
            "479  1977    Peace  The Nobel Peace Prize 1977   \n",
            "523  1981    Peace  The Nobel Peace Prize 1981   \n",
            "558  1985    Peace  The Nobel Peace Prize 1985   \n",
            "588  1988    Peace  The Nobel Peace Prize 1988   \n",
            "659  1995    Peace  The Nobel Peace Prize 1995   \n",
            "682  1997    Peace  The Nobel Peace Prize 1997   \n",
            "703  1999    Peace  The Nobel Peace Prize 1999   \n",
            "730  2001    Peace  The Nobel Peace Prize 2001   \n",
            "778  2005    Peace  The Nobel Peace Prize 2005   \n",
            "788  2006    Peace  The Nobel Peace Prize 2006   \n",
            "801  2007    Peace  The Nobel Peace Prize 2007   \n",
            "860  2012    Peace  The Nobel Peace Prize 2012   \n",
            "873  2013    Peace  The Nobel Peace Prize 2013   \n",
            "897  2015    Peace  The Nobel Peace Prize 2015   \n",
            "919  2017    Peace  The Nobel Peace Prize 2017   \n",
            "958  2020    Peace  The Nobel Peace Prize 2020   \n",
            "\n",
            "                                            motivation prize_share  \\\n",
            "24                                                 NaN         1/1   \n",
            "60                                                 NaN         1/1   \n",
            "89                                                 NaN         1/1   \n",
            "200                                                NaN         1/1   \n",
            "215                                                NaN         1/1   \n",
            "237                                                NaN         1/2   \n",
            "238                                                NaN         1/2   \n",
            "283                                                NaN         1/1   \n",
            "348                                                NaN         1/2   \n",
            "349                                                NaN         1/2   \n",
            "366                                                NaN         1/1   \n",
            "399                                                NaN         1/1   \n",
            "479                                                NaN         1/1   \n",
            "523                                                NaN         1/1   \n",
            "558                                                NaN         1/1   \n",
            "588                                                NaN         1/1   \n",
            "659  \"for their efforts to diminish the part played...         1/2   \n",
            "682  \"for their work for the banning and clearing o...         1/2   \n",
            "703  \"in recognition of the organization's pioneeri...         1/1   \n",
            "730  \"for their work for a better organized and mor...         1/2   \n",
            "778  \"for their efforts to prevent nuclear energy f...         1/2   \n",
            "788  \"for their efforts to create economic and soci...         1/2   \n",
            "801  \"for their efforts to build up and disseminate...         1/2   \n",
            "860  \"for over six decades contributed to the advan...         1/1   \n",
            "873  \"for its extensive efforts to eliminate chemic...         1/1   \n",
            "897  \"for its decisive contribution to the building...         1/1   \n",
            "919  “for its work to draw attention to the catastr...         1/1   \n",
            "958  “for its efforts to combat hunger, for its con...         1/1   \n",
            "\n",
            "    laureate_type                                          full_name  \\\n",
            "24   Organization  Institut de droit international (Institute of ...   \n",
            "60   Organization  Bureau international permanent de la Paix (Per...   \n",
            "89   Organization  Comité international de la Croix Rouge (Intern...   \n",
            "200  Organization  Office international Nansen pour les Réfugiés ...   \n",
            "215  Organization  Comité international de la Croix Rouge (Intern...   \n",
            "237  Organization   American Friends Service Committee (The Quakers)   \n",
            "238  Organization              Friends Service Council (The Quakers)   \n",
            "283  Organization  Office of the United Nations High Commissioner...   \n",
            "348  Organization  Comité international de la Croix Rouge (Intern...   \n",
            "349  Organization  Ligue des Sociétés de la Croix-Rouge (League o...   \n",
            "366  Organization            United Nations Children's Fund (UNICEF)   \n",
            "399  Organization         International Labour Organization (I.L.O.)   \n",
            "479  Organization                              Amnesty International   \n",
            "523  Organization  Office of the United Nations High Commissioner...   \n",
            "558  Organization  International Physicians for the Prevention of...   \n",
            "588  Organization                 United Nations Peacekeeping Forces   \n",
            "659  Organization   Pugwash Conferences on Science and World Affairs   \n",
            "682  Organization     International Campaign to Ban Landmines (ICBL)   \n",
            "703  Organization                           Médecins Sans Frontières   \n",
            "730  Organization                              United Nations (U.N.)   \n",
            "778  Organization          International Atomic Energy Agency (IAEA)   \n",
            "788  Organization                                       Grameen Bank   \n",
            "801  Organization   Intergovernmental Panel on Climate Change (IPCC)   \n",
            "860  Organization                                European Union (EU)   \n",
            "873  Organization  Organisation for the Prohibition of Chemical W...   \n",
            "897  Organization                          National Dialogue Quartet   \n",
            "919  Organization  International Campaign to Abolish Nuclear Weap...   \n",
            "958  Organization                         World Food Programme (WFP)   \n",
            "\n",
            "    birth_date birth_city birth_country birth_country_current  sex  \\\n",
            "24         NaN        NaN           NaN                   NaN  NaN   \n",
            "60         NaN        NaN           NaN                   NaN  NaN   \n",
            "89         NaN        NaN           NaN                   NaN  NaN   \n",
            "200        NaN        NaN           NaN                   NaN  NaN   \n",
            "215        NaN        NaN           NaN                   NaN  NaN   \n",
            "237        NaN        NaN           NaN                   NaN  NaN   \n",
            "238        NaN        NaN           NaN                   NaN  NaN   \n",
            "283        NaN        NaN           NaN                   NaN  NaN   \n",
            "348        NaN        NaN           NaN                   NaN  NaN   \n",
            "349        NaN        NaN           NaN                   NaN  NaN   \n",
            "366        NaN        NaN           NaN                   NaN  NaN   \n",
            "399        NaN        NaN           NaN                   NaN  NaN   \n",
            "479        NaN        NaN           NaN                   NaN  NaN   \n",
            "523        NaN        NaN           NaN                   NaN  NaN   \n",
            "558        NaN        NaN           NaN                   NaN  NaN   \n",
            "588        NaN        NaN           NaN                   NaN  NaN   \n",
            "659        NaN        NaN           NaN                   NaN  NaN   \n",
            "682        NaN        NaN           NaN                   NaN  NaN   \n",
            "703        NaN        NaN           NaN                   NaN  NaN   \n",
            "730        NaN        NaN           NaN                   NaN  NaN   \n",
            "778        NaN        NaN           NaN                   NaN  NaN   \n",
            "788        NaN        NaN           NaN                   NaN  NaN   \n",
            "801        NaN        NaN           NaN                   NaN  NaN   \n",
            "860        NaN        NaN           NaN                   NaN  NaN   \n",
            "873        NaN        NaN           NaN                   NaN  NaN   \n",
            "897        NaN        NaN           NaN                   NaN  NaN   \n",
            "919        NaN        NaN           NaN                   NaN  NaN   \n",
            "958        NaN        NaN           NaN                   NaN  NaN   \n",
            "\n",
            "    organization_name organization_city organization_country  ISO  \n",
            "24                NaN               NaN                  NaN  NaN  \n",
            "60                NaN               NaN                  NaN  NaN  \n",
            "89                NaN               NaN                  NaN  NaN  \n",
            "200               NaN               NaN                  NaN  NaN  \n",
            "215               NaN               NaN                  NaN  NaN  \n",
            "237               NaN               NaN                  NaN  NaN  \n",
            "238               NaN               NaN                  NaN  NaN  \n",
            "283               NaN               NaN                  NaN  NaN  \n",
            "348               NaN               NaN                  NaN  NaN  \n",
            "349               NaN               NaN                  NaN  NaN  \n",
            "366               NaN               NaN                  NaN  NaN  \n",
            "399               NaN               NaN                  NaN  NaN  \n",
            "479               NaN               NaN                  NaN  NaN  \n",
            "523               NaN               NaN                  NaN  NaN  \n",
            "558               NaN               NaN                  NaN  NaN  \n",
            "588               NaN               NaN                  NaN  NaN  \n",
            "659               NaN               NaN                  NaN  NaN  \n",
            "682               NaN               NaN                  NaN  NaN  \n",
            "703               NaN               NaN                  NaN  NaN  \n",
            "730               NaN               NaN                  NaN  NaN  \n",
            "778               NaN               NaN                  NaN  NaN  \n",
            "788               NaN               NaN                  NaN  NaN  \n",
            "801               NaN               NaN                  NaN  NaN  \n",
            "860               NaN               NaN                  NaN  NaN  \n",
            "873               NaN               NaN                  NaN  NaN  \n",
            "897               NaN               NaN                  NaN  NaN  \n",
            "919               NaN               NaN                  NaN  NaN  \n",
            "958               NaN               NaN                  NaN  NaN  \n",
            "\n",
            "Reasons for NaN values in 'birth_country_current':\n",
            "     year category                       prize  \\\n",
            "24   1904    Peace  The Nobel Peace Prize 1904   \n",
            "60   1910    Peace  The Nobel Peace Prize 1910   \n",
            "89   1917    Peace  The Nobel Peace Prize 1917   \n",
            "200  1938    Peace  The Nobel Peace Prize 1938   \n",
            "215  1944    Peace  The Nobel Peace Prize 1944   \n",
            "237  1947    Peace  The Nobel Peace Prize 1947   \n",
            "238  1947    Peace  The Nobel Peace Prize 1947   \n",
            "283  1954    Peace  The Nobel Peace Prize 1954   \n",
            "348  1963    Peace  The Nobel Peace Prize 1963   \n",
            "349  1963    Peace  The Nobel Peace Prize 1963   \n",
            "366  1965    Peace  The Nobel Peace Prize 1965   \n",
            "399  1969    Peace  The Nobel Peace Prize 1969   \n",
            "479  1977    Peace  The Nobel Peace Prize 1977   \n",
            "523  1981    Peace  The Nobel Peace Prize 1981   \n",
            "558  1985    Peace  The Nobel Peace Prize 1985   \n",
            "588  1988    Peace  The Nobel Peace Prize 1988   \n",
            "659  1995    Peace  The Nobel Peace Prize 1995   \n",
            "682  1997    Peace  The Nobel Peace Prize 1997   \n",
            "703  1999    Peace  The Nobel Peace Prize 1999   \n",
            "730  2001    Peace  The Nobel Peace Prize 2001   \n",
            "778  2005    Peace  The Nobel Peace Prize 2005   \n",
            "788  2006    Peace  The Nobel Peace Prize 2006   \n",
            "801  2007    Peace  The Nobel Peace Prize 2007   \n",
            "860  2012    Peace  The Nobel Peace Prize 2012   \n",
            "873  2013    Peace  The Nobel Peace Prize 2013   \n",
            "897  2015    Peace  The Nobel Peace Prize 2015   \n",
            "919  2017    Peace  The Nobel Peace Prize 2017   \n",
            "958  2020    Peace  The Nobel Peace Prize 2020   \n",
            "\n",
            "                                            motivation prize_share  \\\n",
            "24                                                 NaN         1/1   \n",
            "60                                                 NaN         1/1   \n",
            "89                                                 NaN         1/1   \n",
            "200                                                NaN         1/1   \n",
            "215                                                NaN         1/1   \n",
            "237                                                NaN         1/2   \n",
            "238                                                NaN         1/2   \n",
            "283                                                NaN         1/1   \n",
            "348                                                NaN         1/2   \n",
            "349                                                NaN         1/2   \n",
            "366                                                NaN         1/1   \n",
            "399                                                NaN         1/1   \n",
            "479                                                NaN         1/1   \n",
            "523                                                NaN         1/1   \n",
            "558                                                NaN         1/1   \n",
            "588                                                NaN         1/1   \n",
            "659  \"for their efforts to diminish the part played...         1/2   \n",
            "682  \"for their work for the banning and clearing o...         1/2   \n",
            "703  \"in recognition of the organization's pioneeri...         1/1   \n",
            "730  \"for their work for a better organized and mor...         1/2   \n",
            "778  \"for their efforts to prevent nuclear energy f...         1/2   \n",
            "788  \"for their efforts to create economic and soci...         1/2   \n",
            "801  \"for their efforts to build up and disseminate...         1/2   \n",
            "860  \"for over six decades contributed to the advan...         1/1   \n",
            "873  \"for its extensive efforts to eliminate chemic...         1/1   \n",
            "897  \"for its decisive contribution to the building...         1/1   \n",
            "919  “for its work to draw attention to the catastr...         1/1   \n",
            "958  “for its efforts to combat hunger, for its con...         1/1   \n",
            "\n",
            "    laureate_type                                          full_name  \\\n",
            "24   Organization  Institut de droit international (Institute of ...   \n",
            "60   Organization  Bureau international permanent de la Paix (Per...   \n",
            "89   Organization  Comité international de la Croix Rouge (Intern...   \n",
            "200  Organization  Office international Nansen pour les Réfugiés ...   \n",
            "215  Organization  Comité international de la Croix Rouge (Intern...   \n",
            "237  Organization   American Friends Service Committee (The Quakers)   \n",
            "238  Organization              Friends Service Council (The Quakers)   \n",
            "283  Organization  Office of the United Nations High Commissioner...   \n",
            "348  Organization  Comité international de la Croix Rouge (Intern...   \n",
            "349  Organization  Ligue des Sociétés de la Croix-Rouge (League o...   \n",
            "366  Organization            United Nations Children's Fund (UNICEF)   \n",
            "399  Organization         International Labour Organization (I.L.O.)   \n",
            "479  Organization                              Amnesty International   \n",
            "523  Organization  Office of the United Nations High Commissioner...   \n",
            "558  Organization  International Physicians for the Prevention of...   \n",
            "588  Organization                 United Nations Peacekeeping Forces   \n",
            "659  Organization   Pugwash Conferences on Science and World Affairs   \n",
            "682  Organization     International Campaign to Ban Landmines (ICBL)   \n",
            "703  Organization                           Médecins Sans Frontières   \n",
            "730  Organization                              United Nations (U.N.)   \n",
            "778  Organization          International Atomic Energy Agency (IAEA)   \n",
            "788  Organization                                       Grameen Bank   \n",
            "801  Organization   Intergovernmental Panel on Climate Change (IPCC)   \n",
            "860  Organization                                European Union (EU)   \n",
            "873  Organization  Organisation for the Prohibition of Chemical W...   \n",
            "897  Organization                          National Dialogue Quartet   \n",
            "919  Organization  International Campaign to Abolish Nuclear Weap...   \n",
            "958  Organization                         World Food Programme (WFP)   \n",
            "\n",
            "    birth_date birth_city birth_country birth_country_current  sex  \\\n",
            "24         NaN        NaN           NaN                   NaN  NaN   \n",
            "60         NaN        NaN           NaN                   NaN  NaN   \n",
            "89         NaN        NaN           NaN                   NaN  NaN   \n",
            "200        NaN        NaN           NaN                   NaN  NaN   \n",
            "215        NaN        NaN           NaN                   NaN  NaN   \n",
            "237        NaN        NaN           NaN                   NaN  NaN   \n",
            "238        NaN        NaN           NaN                   NaN  NaN   \n",
            "283        NaN        NaN           NaN                   NaN  NaN   \n",
            "348        NaN        NaN           NaN                   NaN  NaN   \n",
            "349        NaN        NaN           NaN                   NaN  NaN   \n",
            "366        NaN        NaN           NaN                   NaN  NaN   \n",
            "399        NaN        NaN           NaN                   NaN  NaN   \n",
            "479        NaN        NaN           NaN                   NaN  NaN   \n",
            "523        NaN        NaN           NaN                   NaN  NaN   \n",
            "558        NaN        NaN           NaN                   NaN  NaN   \n",
            "588        NaN        NaN           NaN                   NaN  NaN   \n",
            "659        NaN        NaN           NaN                   NaN  NaN   \n",
            "682        NaN        NaN           NaN                   NaN  NaN   \n",
            "703        NaN        NaN           NaN                   NaN  NaN   \n",
            "730        NaN        NaN           NaN                   NaN  NaN   \n",
            "778        NaN        NaN           NaN                   NaN  NaN   \n",
            "788        NaN        NaN           NaN                   NaN  NaN   \n",
            "801        NaN        NaN           NaN                   NaN  NaN   \n",
            "860        NaN        NaN           NaN                   NaN  NaN   \n",
            "873        NaN        NaN           NaN                   NaN  NaN   \n",
            "897        NaN        NaN           NaN                   NaN  NaN   \n",
            "919        NaN        NaN           NaN                   NaN  NaN   \n",
            "958        NaN        NaN           NaN                   NaN  NaN   \n",
            "\n",
            "    organization_name organization_city organization_country  ISO  \n",
            "24                NaN               NaN                  NaN  NaN  \n",
            "60                NaN               NaN                  NaN  NaN  \n",
            "89                NaN               NaN                  NaN  NaN  \n",
            "200               NaN               NaN                  NaN  NaN  \n",
            "215               NaN               NaN                  NaN  NaN  \n",
            "237               NaN               NaN                  NaN  NaN  \n",
            "238               NaN               NaN                  NaN  NaN  \n",
            "283               NaN               NaN                  NaN  NaN  \n",
            "348               NaN               NaN                  NaN  NaN  \n",
            "349               NaN               NaN                  NaN  NaN  \n",
            "366               NaN               NaN                  NaN  NaN  \n",
            "399               NaN               NaN                  NaN  NaN  \n",
            "479               NaN               NaN                  NaN  NaN  \n",
            "523               NaN               NaN                  NaN  NaN  \n",
            "558               NaN               NaN                  NaN  NaN  \n",
            "588               NaN               NaN                  NaN  NaN  \n",
            "659               NaN               NaN                  NaN  NaN  \n",
            "682               NaN               NaN                  NaN  NaN  \n",
            "703               NaN               NaN                  NaN  NaN  \n",
            "730               NaN               NaN                  NaN  NaN  \n",
            "778               NaN               NaN                  NaN  NaN  \n",
            "788               NaN               NaN                  NaN  NaN  \n",
            "801               NaN               NaN                  NaN  NaN  \n",
            "860               NaN               NaN                  NaN  NaN  \n",
            "873               NaN               NaN                  NaN  NaN  \n",
            "897               NaN               NaN                  NaN  NaN  \n",
            "919               NaN               NaN                  NaN  NaN  \n",
            "958               NaN               NaN                  NaN  NaN  \n",
            "\n",
            "Reasons for NaN values in 'sex':\n",
            "     year category                       prize  \\\n",
            "24   1904    Peace  The Nobel Peace Prize 1904   \n",
            "60   1910    Peace  The Nobel Peace Prize 1910   \n",
            "89   1917    Peace  The Nobel Peace Prize 1917   \n",
            "200  1938    Peace  The Nobel Peace Prize 1938   \n",
            "215  1944    Peace  The Nobel Peace Prize 1944   \n",
            "237  1947    Peace  The Nobel Peace Prize 1947   \n",
            "238  1947    Peace  The Nobel Peace Prize 1947   \n",
            "283  1954    Peace  The Nobel Peace Prize 1954   \n",
            "348  1963    Peace  The Nobel Peace Prize 1963   \n",
            "349  1963    Peace  The Nobel Peace Prize 1963   \n",
            "366  1965    Peace  The Nobel Peace Prize 1965   \n",
            "399  1969    Peace  The Nobel Peace Prize 1969   \n",
            "479  1977    Peace  The Nobel Peace Prize 1977   \n",
            "523  1981    Peace  The Nobel Peace Prize 1981   \n",
            "558  1985    Peace  The Nobel Peace Prize 1985   \n",
            "588  1988    Peace  The Nobel Peace Prize 1988   \n",
            "659  1995    Peace  The Nobel Peace Prize 1995   \n",
            "682  1997    Peace  The Nobel Peace Prize 1997   \n",
            "703  1999    Peace  The Nobel Peace Prize 1999   \n",
            "730  2001    Peace  The Nobel Peace Prize 2001   \n",
            "778  2005    Peace  The Nobel Peace Prize 2005   \n",
            "788  2006    Peace  The Nobel Peace Prize 2006   \n",
            "801  2007    Peace  The Nobel Peace Prize 2007   \n",
            "860  2012    Peace  The Nobel Peace Prize 2012   \n",
            "873  2013    Peace  The Nobel Peace Prize 2013   \n",
            "897  2015    Peace  The Nobel Peace Prize 2015   \n",
            "919  2017    Peace  The Nobel Peace Prize 2017   \n",
            "958  2020    Peace  The Nobel Peace Prize 2020   \n",
            "\n",
            "                                            motivation prize_share  \\\n",
            "24                                                 NaN         1/1   \n",
            "60                                                 NaN         1/1   \n",
            "89                                                 NaN         1/1   \n",
            "200                                                NaN         1/1   \n",
            "215                                                NaN         1/1   \n",
            "237                                                NaN         1/2   \n",
            "238                                                NaN         1/2   \n",
            "283                                                NaN         1/1   \n",
            "348                                                NaN         1/2   \n",
            "349                                                NaN         1/2   \n",
            "366                                                NaN         1/1   \n",
            "399                                                NaN         1/1   \n",
            "479                                                NaN         1/1   \n",
            "523                                                NaN         1/1   \n",
            "558                                                NaN         1/1   \n",
            "588                                                NaN         1/1   \n",
            "659  \"for their efforts to diminish the part played...         1/2   \n",
            "682  \"for their work for the banning and clearing o...         1/2   \n",
            "703  \"in recognition of the organization's pioneeri...         1/1   \n",
            "730  \"for their work for a better organized and mor...         1/2   \n",
            "778  \"for their efforts to prevent nuclear energy f...         1/2   \n",
            "788  \"for their efforts to create economic and soci...         1/2   \n",
            "801  \"for their efforts to build up and disseminate...         1/2   \n",
            "860  \"for over six decades contributed to the advan...         1/1   \n",
            "873  \"for its extensive efforts to eliminate chemic...         1/1   \n",
            "897  \"for its decisive contribution to the building...         1/1   \n",
            "919  “for its work to draw attention to the catastr...         1/1   \n",
            "958  “for its efforts to combat hunger, for its con...         1/1   \n",
            "\n",
            "    laureate_type                                          full_name  \\\n",
            "24   Organization  Institut de droit international (Institute of ...   \n",
            "60   Organization  Bureau international permanent de la Paix (Per...   \n",
            "89   Organization  Comité international de la Croix Rouge (Intern...   \n",
            "200  Organization  Office international Nansen pour les Réfugiés ...   \n",
            "215  Organization  Comité international de la Croix Rouge (Intern...   \n",
            "237  Organization   American Friends Service Committee (The Quakers)   \n",
            "238  Organization              Friends Service Council (The Quakers)   \n",
            "283  Organization  Office of the United Nations High Commissioner...   \n",
            "348  Organization  Comité international de la Croix Rouge (Intern...   \n",
            "349  Organization  Ligue des Sociétés de la Croix-Rouge (League o...   \n",
            "366  Organization            United Nations Children's Fund (UNICEF)   \n",
            "399  Organization         International Labour Organization (I.L.O.)   \n",
            "479  Organization                              Amnesty International   \n",
            "523  Organization  Office of the United Nations High Commissioner...   \n",
            "558  Organization  International Physicians for the Prevention of...   \n",
            "588  Organization                 United Nations Peacekeeping Forces   \n",
            "659  Organization   Pugwash Conferences on Science and World Affairs   \n",
            "682  Organization     International Campaign to Ban Landmines (ICBL)   \n",
            "703  Organization                           Médecins Sans Frontières   \n",
            "730  Organization                              United Nations (U.N.)   \n",
            "778  Organization          International Atomic Energy Agency (IAEA)   \n",
            "788  Organization                                       Grameen Bank   \n",
            "801  Organization   Intergovernmental Panel on Climate Change (IPCC)   \n",
            "860  Organization                                European Union (EU)   \n",
            "873  Organization  Organisation for the Prohibition of Chemical W...   \n",
            "897  Organization                          National Dialogue Quartet   \n",
            "919  Organization  International Campaign to Abolish Nuclear Weap...   \n",
            "958  Organization                         World Food Programme (WFP)   \n",
            "\n",
            "    birth_date birth_city birth_country birth_country_current  sex  \\\n",
            "24         NaN        NaN           NaN                   NaN  NaN   \n",
            "60         NaN        NaN           NaN                   NaN  NaN   \n",
            "89         NaN        NaN           NaN                   NaN  NaN   \n",
            "200        NaN        NaN           NaN                   NaN  NaN   \n",
            "215        NaN        NaN           NaN                   NaN  NaN   \n",
            "237        NaN        NaN           NaN                   NaN  NaN   \n",
            "238        NaN        NaN           NaN                   NaN  NaN   \n",
            "283        NaN        NaN           NaN                   NaN  NaN   \n",
            "348        NaN        NaN           NaN                   NaN  NaN   \n",
            "349        NaN        NaN           NaN                   NaN  NaN   \n",
            "366        NaN        NaN           NaN                   NaN  NaN   \n",
            "399        NaN        NaN           NaN                   NaN  NaN   \n",
            "479        NaN        NaN           NaN                   NaN  NaN   \n",
            "523        NaN        NaN           NaN                   NaN  NaN   \n",
            "558        NaN        NaN           NaN                   NaN  NaN   \n",
            "588        NaN        NaN           NaN                   NaN  NaN   \n",
            "659        NaN        NaN           NaN                   NaN  NaN   \n",
            "682        NaN        NaN           NaN                   NaN  NaN   \n",
            "703        NaN        NaN           NaN                   NaN  NaN   \n",
            "730        NaN        NaN           NaN                   NaN  NaN   \n",
            "778        NaN        NaN           NaN                   NaN  NaN   \n",
            "788        NaN        NaN           NaN                   NaN  NaN   \n",
            "801        NaN        NaN           NaN                   NaN  NaN   \n",
            "860        NaN        NaN           NaN                   NaN  NaN   \n",
            "873        NaN        NaN           NaN                   NaN  NaN   \n",
            "897        NaN        NaN           NaN                   NaN  NaN   \n",
            "919        NaN        NaN           NaN                   NaN  NaN   \n",
            "958        NaN        NaN           NaN                   NaN  NaN   \n",
            "\n",
            "    organization_name organization_city organization_country  ISO  \n",
            "24                NaN               NaN                  NaN  NaN  \n",
            "60                NaN               NaN                  NaN  NaN  \n",
            "89                NaN               NaN                  NaN  NaN  \n",
            "200               NaN               NaN                  NaN  NaN  \n",
            "215               NaN               NaN                  NaN  NaN  \n",
            "237               NaN               NaN                  NaN  NaN  \n",
            "238               NaN               NaN                  NaN  NaN  \n",
            "283               NaN               NaN                  NaN  NaN  \n",
            "348               NaN               NaN                  NaN  NaN  \n",
            "349               NaN               NaN                  NaN  NaN  \n",
            "366               NaN               NaN                  NaN  NaN  \n",
            "399               NaN               NaN                  NaN  NaN  \n",
            "479               NaN               NaN                  NaN  NaN  \n",
            "523               NaN               NaN                  NaN  NaN  \n",
            "558               NaN               NaN                  NaN  NaN  \n",
            "588               NaN               NaN                  NaN  NaN  \n",
            "659               NaN               NaN                  NaN  NaN  \n",
            "682               NaN               NaN                  NaN  NaN  \n",
            "703               NaN               NaN                  NaN  NaN  \n",
            "730               NaN               NaN                  NaN  NaN  \n",
            "778               NaN               NaN                  NaN  NaN  \n",
            "788               NaN               NaN                  NaN  NaN  \n",
            "801               NaN               NaN                  NaN  NaN  \n",
            "860               NaN               NaN                  NaN  NaN  \n",
            "873               NaN               NaN                  NaN  NaN  \n",
            "897               NaN               NaN                  NaN  NaN  \n",
            "919               NaN               NaN                  NaN  NaN  \n",
            "958               NaN               NaN                  NaN  NaN  \n",
            "\n",
            "Reasons for NaN values in 'organization_name':\n",
            "     year    category                               prize  \\\n",
            "1    1901  Literature  The Nobel Prize in Literature 1901   \n",
            "3    1901       Peace          The Nobel Peace Prize 1901   \n",
            "4    1901       Peace          The Nobel Peace Prize 1901   \n",
            "7    1902  Literature  The Nobel Prize in Literature 1902   \n",
            "9    1902       Peace          The Nobel Peace Prize 1902   \n",
            "..    ...         ...                                 ...   \n",
            "932  2018       Peace          The Nobel Peace Prize 2018   \n",
            "942  2019  Literature  The Nobel Prize in Literature 2019   \n",
            "946  2019       Peace          The Nobel Peace Prize 2019   \n",
            "954  2020  Literature  The Nobel Prize in Literature 2020   \n",
            "958  2020       Peace          The Nobel Peace Prize 2020   \n",
            "\n",
            "                                            motivation prize_share  \\\n",
            "1    \"in special recognition of his poetic composit...         1/1   \n",
            "3                                                  NaN         1/2   \n",
            "4                                                  NaN         1/2   \n",
            "7    \"the greatest living master of the art of hist...         1/1   \n",
            "9                                                  NaN         1/2   \n",
            "..                                                 ...         ...   \n",
            "932  “for their efforts to end the use of sexual vi...         1/2   \n",
            "942  “for an influential work that with linguistic ...         1/1   \n",
            "946  “for his efforts to achieve peace and internat...         1/1   \n",
            "954  “for her unmistakable poetic voice that with a...         1/1   \n",
            "958  “for its efforts to combat hunger, for its con...         1/1   \n",
            "\n",
            "    laureate_type                           full_name  birth_date  \\\n",
            "1      Individual                     Sully Prudhomme  1839-03-16   \n",
            "3      Individual                      Frédéric Passy  1822-05-20   \n",
            "4      Individual                   Jean Henry Dunant  1828-05-08   \n",
            "7      Individual  Christian Matthias Theodor Mommsen  1817-11-30   \n",
            "9      Individual                Charles Albert Gobat  1843-05-21   \n",
            "..            ...                                 ...         ...   \n",
            "932    Individual                         Nadia Murad  1993-07-02   \n",
            "942    Individual                        Peter Handke  1942-12-06   \n",
            "946    Individual                      Abiy Ahmed Ali  1976-08-15   \n",
            "954    Individual                        Louise Glück  1943-04-22   \n",
            "958  Organization          World Food Programme (WFP)         NaN   \n",
            "\n",
            "       birth_city             birth_country     birth_country_current     sex  \\\n",
            "1           Paris                    France                    France    Male   \n",
            "3           Paris                    France                    France    Male   \n",
            "4          Geneva               Switzerland               Switzerland    Male   \n",
            "7         Garding       Schleswig (Germany)                   Germany    Male   \n",
            "9        Tramelan               Switzerland               Switzerland    Male   \n",
            "..            ...                       ...                       ...     ...   \n",
            "932          Kojo                      Iraq                      Iraq  Female   \n",
            "942       Griffen                   Austria                   Austria    Male   \n",
            "946      Beshasha                  Ethiopia                  Ethiopia    Male   \n",
            "954  New York, NY  United States of America  United States of America  Female   \n",
            "958           NaN                       NaN                       NaN     NaN   \n",
            "\n",
            "    organization_name organization_city organization_country  ISO  \n",
            "1                 NaN               NaN                  NaN  FRA  \n",
            "3                 NaN               NaN                  NaN  FRA  \n",
            "4                 NaN               NaN                  NaN  CHE  \n",
            "7                 NaN               NaN                  NaN  DEU  \n",
            "9                 NaN               NaN                  NaN  CHE  \n",
            "..                ...               ...                  ...  ...  \n",
            "932               NaN               NaN                  NaN  IRQ  \n",
            "942               NaN               NaN                  NaN  AUT  \n",
            "946               NaN               NaN                  NaN  ETH  \n",
            "954               NaN               NaN                  NaN  USA  \n",
            "958               NaN               NaN                  NaN  NaN  \n",
            "\n",
            "[255 rows x 16 columns]\n",
            "\n",
            "Reasons for NaN values in 'organization_city':\n",
            "     year    category                               prize  \\\n",
            "1    1901  Literature  The Nobel Prize in Literature 1901   \n",
            "3    1901       Peace          The Nobel Peace Prize 1901   \n",
            "4    1901       Peace          The Nobel Peace Prize 1901   \n",
            "7    1902  Literature  The Nobel Prize in Literature 1902   \n",
            "9    1902       Peace          The Nobel Peace Prize 1902   \n",
            "..    ...         ...                                 ...   \n",
            "932  2018       Peace          The Nobel Peace Prize 2018   \n",
            "942  2019  Literature  The Nobel Prize in Literature 2019   \n",
            "946  2019       Peace          The Nobel Peace Prize 2019   \n",
            "954  2020  Literature  The Nobel Prize in Literature 2020   \n",
            "958  2020       Peace          The Nobel Peace Prize 2020   \n",
            "\n",
            "                                            motivation prize_share  \\\n",
            "1    \"in special recognition of his poetic composit...         1/1   \n",
            "3                                                  NaN         1/2   \n",
            "4                                                  NaN         1/2   \n",
            "7    \"the greatest living master of the art of hist...         1/1   \n",
            "9                                                  NaN         1/2   \n",
            "..                                                 ...         ...   \n",
            "932  “for their efforts to end the use of sexual vi...         1/2   \n",
            "942  “for an influential work that with linguistic ...         1/1   \n",
            "946  “for his efforts to achieve peace and internat...         1/1   \n",
            "954  “for her unmistakable poetic voice that with a...         1/1   \n",
            "958  “for its efforts to combat hunger, for its con...         1/1   \n",
            "\n",
            "    laureate_type                           full_name  birth_date  \\\n",
            "1      Individual                     Sully Prudhomme  1839-03-16   \n",
            "3      Individual                      Frédéric Passy  1822-05-20   \n",
            "4      Individual                   Jean Henry Dunant  1828-05-08   \n",
            "7      Individual  Christian Matthias Theodor Mommsen  1817-11-30   \n",
            "9      Individual                Charles Albert Gobat  1843-05-21   \n",
            "..            ...                                 ...         ...   \n",
            "932    Individual                         Nadia Murad  1993-07-02   \n",
            "942    Individual                        Peter Handke  1942-12-06   \n",
            "946    Individual                      Abiy Ahmed Ali  1976-08-15   \n",
            "954    Individual                        Louise Glück  1943-04-22   \n",
            "958  Organization          World Food Programme (WFP)         NaN   \n",
            "\n",
            "       birth_city             birth_country     birth_country_current     sex  \\\n",
            "1           Paris                    France                    France    Male   \n",
            "3           Paris                    France                    France    Male   \n",
            "4          Geneva               Switzerland               Switzerland    Male   \n",
            "7         Garding       Schleswig (Germany)                   Germany    Male   \n",
            "9        Tramelan               Switzerland               Switzerland    Male   \n",
            "..            ...                       ...                       ...     ...   \n",
            "932          Kojo                      Iraq                      Iraq  Female   \n",
            "942       Griffen                   Austria                   Austria    Male   \n",
            "946      Beshasha                  Ethiopia                  Ethiopia    Male   \n",
            "954  New York, NY  United States of America  United States of America  Female   \n",
            "958           NaN                       NaN                       NaN     NaN   \n",
            "\n",
            "    organization_name organization_city organization_country  ISO  \n",
            "1                 NaN               NaN                  NaN  FRA  \n",
            "3                 NaN               NaN                  NaN  FRA  \n",
            "4                 NaN               NaN                  NaN  CHE  \n",
            "7                 NaN               NaN                  NaN  DEU  \n",
            "9                 NaN               NaN                  NaN  CHE  \n",
            "..                ...               ...                  ...  ...  \n",
            "932               NaN               NaN                  NaN  IRQ  \n",
            "942               NaN               NaN                  NaN  AUT  \n",
            "946               NaN               NaN                  NaN  ETH  \n",
            "954               NaN               NaN                  NaN  USA  \n",
            "958               NaN               NaN                  NaN  NaN  \n",
            "\n",
            "[255 rows x 16 columns]\n",
            "\n",
            "Reasons for NaN values in 'organization_country':\n",
            "     year    category                               prize  \\\n",
            "1    1901  Literature  The Nobel Prize in Literature 1901   \n",
            "3    1901       Peace          The Nobel Peace Prize 1901   \n",
            "4    1901       Peace          The Nobel Peace Prize 1901   \n",
            "7    1902  Literature  The Nobel Prize in Literature 1902   \n",
            "9    1902       Peace          The Nobel Peace Prize 1902   \n",
            "..    ...         ...                                 ...   \n",
            "932  2018       Peace          The Nobel Peace Prize 2018   \n",
            "942  2019  Literature  The Nobel Prize in Literature 2019   \n",
            "946  2019       Peace          The Nobel Peace Prize 2019   \n",
            "954  2020  Literature  The Nobel Prize in Literature 2020   \n",
            "958  2020       Peace          The Nobel Peace Prize 2020   \n",
            "\n",
            "                                            motivation prize_share  \\\n",
            "1    \"in special recognition of his poetic composit...         1/1   \n",
            "3                                                  NaN         1/2   \n",
            "4                                                  NaN         1/2   \n",
            "7    \"the greatest living master of the art of hist...         1/1   \n",
            "9                                                  NaN         1/2   \n",
            "..                                                 ...         ...   \n",
            "932  “for their efforts to end the use of sexual vi...         1/2   \n",
            "942  “for an influential work that with linguistic ...         1/1   \n",
            "946  “for his efforts to achieve peace and internat...         1/1   \n",
            "954  “for her unmistakable poetic voice that with a...         1/1   \n",
            "958  “for its efforts to combat hunger, for its con...         1/1   \n",
            "\n",
            "    laureate_type                           full_name  birth_date  \\\n",
            "1      Individual                     Sully Prudhomme  1839-03-16   \n",
            "3      Individual                      Frédéric Passy  1822-05-20   \n",
            "4      Individual                   Jean Henry Dunant  1828-05-08   \n",
            "7      Individual  Christian Matthias Theodor Mommsen  1817-11-30   \n",
            "9      Individual                Charles Albert Gobat  1843-05-21   \n",
            "..            ...                                 ...         ...   \n",
            "932    Individual                         Nadia Murad  1993-07-02   \n",
            "942    Individual                        Peter Handke  1942-12-06   \n",
            "946    Individual                      Abiy Ahmed Ali  1976-08-15   \n",
            "954    Individual                        Louise Glück  1943-04-22   \n",
            "958  Organization          World Food Programme (WFP)         NaN   \n",
            "\n",
            "       birth_city             birth_country     birth_country_current     sex  \\\n",
            "1           Paris                    France                    France    Male   \n",
            "3           Paris                    France                    France    Male   \n",
            "4          Geneva               Switzerland               Switzerland    Male   \n",
            "7         Garding       Schleswig (Germany)                   Germany    Male   \n",
            "9        Tramelan               Switzerland               Switzerland    Male   \n",
            "..            ...                       ...                       ...     ...   \n",
            "932          Kojo                      Iraq                      Iraq  Female   \n",
            "942       Griffen                   Austria                   Austria    Male   \n",
            "946      Beshasha                  Ethiopia                  Ethiopia    Male   \n",
            "954  New York, NY  United States of America  United States of America  Female   \n",
            "958           NaN                       NaN                       NaN     NaN   \n",
            "\n",
            "    organization_name organization_city organization_country  ISO  \n",
            "1                 NaN               NaN                  NaN  FRA  \n",
            "3                 NaN               NaN                  NaN  FRA  \n",
            "4                 NaN               NaN                  NaN  CHE  \n",
            "7                 NaN               NaN                  NaN  DEU  \n",
            "9                 NaN               NaN                  NaN  CHE  \n",
            "..                ...               ...                  ...  ...  \n",
            "932               NaN               NaN                  NaN  IRQ  \n",
            "942               NaN               NaN                  NaN  AUT  \n",
            "946               NaN               NaN                  NaN  ETH  \n",
            "954               NaN               NaN                  NaN  USA  \n",
            "958               NaN               NaN                  NaN  NaN  \n",
            "\n",
            "[254 rows x 16 columns]\n",
            "\n",
            "Reasons for NaN values in 'ISO':\n",
            "     year category                       prize  \\\n",
            "24   1904    Peace  The Nobel Peace Prize 1904   \n",
            "60   1910    Peace  The Nobel Peace Prize 1910   \n",
            "89   1917    Peace  The Nobel Peace Prize 1917   \n",
            "200  1938    Peace  The Nobel Peace Prize 1938   \n",
            "215  1944    Peace  The Nobel Peace Prize 1944   \n",
            "237  1947    Peace  The Nobel Peace Prize 1947   \n",
            "238  1947    Peace  The Nobel Peace Prize 1947   \n",
            "283  1954    Peace  The Nobel Peace Prize 1954   \n",
            "348  1963    Peace  The Nobel Peace Prize 1963   \n",
            "349  1963    Peace  The Nobel Peace Prize 1963   \n",
            "366  1965    Peace  The Nobel Peace Prize 1965   \n",
            "399  1969    Peace  The Nobel Peace Prize 1969   \n",
            "479  1977    Peace  The Nobel Peace Prize 1977   \n",
            "523  1981    Peace  The Nobel Peace Prize 1981   \n",
            "558  1985    Peace  The Nobel Peace Prize 1985   \n",
            "588  1988    Peace  The Nobel Peace Prize 1988   \n",
            "659  1995    Peace  The Nobel Peace Prize 1995   \n",
            "682  1997    Peace  The Nobel Peace Prize 1997   \n",
            "703  1999    Peace  The Nobel Peace Prize 1999   \n",
            "730  2001    Peace  The Nobel Peace Prize 2001   \n",
            "778  2005    Peace  The Nobel Peace Prize 2005   \n",
            "788  2006    Peace  The Nobel Peace Prize 2006   \n",
            "801  2007    Peace  The Nobel Peace Prize 2007   \n",
            "860  2012    Peace  The Nobel Peace Prize 2012   \n",
            "873  2013    Peace  The Nobel Peace Prize 2013   \n",
            "897  2015    Peace  The Nobel Peace Prize 2015   \n",
            "919  2017    Peace  The Nobel Peace Prize 2017   \n",
            "958  2020    Peace  The Nobel Peace Prize 2020   \n",
            "\n",
            "                                            motivation prize_share  \\\n",
            "24                                                 NaN         1/1   \n",
            "60                                                 NaN         1/1   \n",
            "89                                                 NaN         1/1   \n",
            "200                                                NaN         1/1   \n",
            "215                                                NaN         1/1   \n",
            "237                                                NaN         1/2   \n",
            "238                                                NaN         1/2   \n",
            "283                                                NaN         1/1   \n",
            "348                                                NaN         1/2   \n",
            "349                                                NaN         1/2   \n",
            "366                                                NaN         1/1   \n",
            "399                                                NaN         1/1   \n",
            "479                                                NaN         1/1   \n",
            "523                                                NaN         1/1   \n",
            "558                                                NaN         1/1   \n",
            "588                                                NaN         1/1   \n",
            "659  \"for their efforts to diminish the part played...         1/2   \n",
            "682  \"for their work for the banning and clearing o...         1/2   \n",
            "703  \"in recognition of the organization's pioneeri...         1/1   \n",
            "730  \"for their work for a better organized and mor...         1/2   \n",
            "778  \"for their efforts to prevent nuclear energy f...         1/2   \n",
            "788  \"for their efforts to create economic and soci...         1/2   \n",
            "801  \"for their efforts to build up and disseminate...         1/2   \n",
            "860  \"for over six decades contributed to the advan...         1/1   \n",
            "873  \"for its extensive efforts to eliminate chemic...         1/1   \n",
            "897  \"for its decisive contribution to the building...         1/1   \n",
            "919  “for its work to draw attention to the catastr...         1/1   \n",
            "958  “for its efforts to combat hunger, for its con...         1/1   \n",
            "\n",
            "    laureate_type                                          full_name  \\\n",
            "24   Organization  Institut de droit international (Institute of ...   \n",
            "60   Organization  Bureau international permanent de la Paix (Per...   \n",
            "89   Organization  Comité international de la Croix Rouge (Intern...   \n",
            "200  Organization  Office international Nansen pour les Réfugiés ...   \n",
            "215  Organization  Comité international de la Croix Rouge (Intern...   \n",
            "237  Organization   American Friends Service Committee (The Quakers)   \n",
            "238  Organization              Friends Service Council (The Quakers)   \n",
            "283  Organization  Office of the United Nations High Commissioner...   \n",
            "348  Organization  Comité international de la Croix Rouge (Intern...   \n",
            "349  Organization  Ligue des Sociétés de la Croix-Rouge (League o...   \n",
            "366  Organization            United Nations Children's Fund (UNICEF)   \n",
            "399  Organization         International Labour Organization (I.L.O.)   \n",
            "479  Organization                              Amnesty International   \n",
            "523  Organization  Office of the United Nations High Commissioner...   \n",
            "558  Organization  International Physicians for the Prevention of...   \n",
            "588  Organization                 United Nations Peacekeeping Forces   \n",
            "659  Organization   Pugwash Conferences on Science and World Affairs   \n",
            "682  Organization     International Campaign to Ban Landmines (ICBL)   \n",
            "703  Organization                           Médecins Sans Frontières   \n",
            "730  Organization                              United Nations (U.N.)   \n",
            "778  Organization          International Atomic Energy Agency (IAEA)   \n",
            "788  Organization                                       Grameen Bank   \n",
            "801  Organization   Intergovernmental Panel on Climate Change (IPCC)   \n",
            "860  Organization                                European Union (EU)   \n",
            "873  Organization  Organisation for the Prohibition of Chemical W...   \n",
            "897  Organization                          National Dialogue Quartet   \n",
            "919  Organization  International Campaign to Abolish Nuclear Weap...   \n",
            "958  Organization                         World Food Programme (WFP)   \n",
            "\n",
            "    birth_date birth_city birth_country birth_country_current  sex  \\\n",
            "24         NaN        NaN           NaN                   NaN  NaN   \n",
            "60         NaN        NaN           NaN                   NaN  NaN   \n",
            "89         NaN        NaN           NaN                   NaN  NaN   \n",
            "200        NaN        NaN           NaN                   NaN  NaN   \n",
            "215        NaN        NaN           NaN                   NaN  NaN   \n",
            "237        NaN        NaN           NaN                   NaN  NaN   \n",
            "238        NaN        NaN           NaN                   NaN  NaN   \n",
            "283        NaN        NaN           NaN                   NaN  NaN   \n",
            "348        NaN        NaN           NaN                   NaN  NaN   \n",
            "349        NaN        NaN           NaN                   NaN  NaN   \n",
            "366        NaN        NaN           NaN                   NaN  NaN   \n",
            "399        NaN        NaN           NaN                   NaN  NaN   \n",
            "479        NaN        NaN           NaN                   NaN  NaN   \n",
            "523        NaN        NaN           NaN                   NaN  NaN   \n",
            "558        NaN        NaN           NaN                   NaN  NaN   \n",
            "588        NaN        NaN           NaN                   NaN  NaN   \n",
            "659        NaN        NaN           NaN                   NaN  NaN   \n",
            "682        NaN        NaN           NaN                   NaN  NaN   \n",
            "703        NaN        NaN           NaN                   NaN  NaN   \n",
            "730        NaN        NaN           NaN                   NaN  NaN   \n",
            "778        NaN        NaN           NaN                   NaN  NaN   \n",
            "788        NaN        NaN           NaN                   NaN  NaN   \n",
            "801        NaN        NaN           NaN                   NaN  NaN   \n",
            "860        NaN        NaN           NaN                   NaN  NaN   \n",
            "873        NaN        NaN           NaN                   NaN  NaN   \n",
            "897        NaN        NaN           NaN                   NaN  NaN   \n",
            "919        NaN        NaN           NaN                   NaN  NaN   \n",
            "958        NaN        NaN           NaN                   NaN  NaN   \n",
            "\n",
            "    organization_name organization_city organization_country  ISO  \n",
            "24                NaN               NaN                  NaN  NaN  \n",
            "60                NaN               NaN                  NaN  NaN  \n",
            "89                NaN               NaN                  NaN  NaN  \n",
            "200               NaN               NaN                  NaN  NaN  \n",
            "215               NaN               NaN                  NaN  NaN  \n",
            "237               NaN               NaN                  NaN  NaN  \n",
            "238               NaN               NaN                  NaN  NaN  \n",
            "283               NaN               NaN                  NaN  NaN  \n",
            "348               NaN               NaN                  NaN  NaN  \n",
            "349               NaN               NaN                  NaN  NaN  \n",
            "366               NaN               NaN                  NaN  NaN  \n",
            "399               NaN               NaN                  NaN  NaN  \n",
            "479               NaN               NaN                  NaN  NaN  \n",
            "523               NaN               NaN                  NaN  NaN  \n",
            "558               NaN               NaN                  NaN  NaN  \n",
            "588               NaN               NaN                  NaN  NaN  \n",
            "659               NaN               NaN                  NaN  NaN  \n",
            "682               NaN               NaN                  NaN  NaN  \n",
            "703               NaN               NaN                  NaN  NaN  \n",
            "730               NaN               NaN                  NaN  NaN  \n",
            "778               NaN               NaN                  NaN  NaN  \n",
            "788               NaN               NaN                  NaN  NaN  \n",
            "801               NaN               NaN                  NaN  NaN  \n",
            "860               NaN               NaN                  NaN  NaN  \n",
            "873               NaN               NaN                  NaN  NaN  \n",
            "897               NaN               NaN                  NaN  NaN  \n",
            "919               NaN               NaN                  NaN  NaN  \n",
            "958               NaN               NaN                  NaN  NaN  \n"
          ]
        }
      ],
      "source": [
        "for column_name in df_data.columns:\n",
        "    nan_reason = df_data[df_data[column_name].isna()]\n",
        "    print(f\"\\nReasons for NaN values in '{column_name}':\")\n",
        "    print(nan_reason)"
      ]
    },
    {
      "cell_type": "markdown",
      "metadata": {
        "id": "w69xDtpzo7Ld"
      },
      "source": [
        "### Check for NaN Values"
      ]
    },
    {
      "cell_type": "code",
      "execution_count": null,
      "metadata": {
        "id": "HgbI5sQNFStg"
      },
      "outputs": [],
      "source": []
    },
    {
      "cell_type": "code",
      "execution_count": null,
      "metadata": {
        "id": "O2zgruevFSyV"
      },
      "outputs": [],
      "source": []
    },
    {
      "cell_type": "code",
      "execution_count": null,
      "metadata": {
        "id": "aTU9T9xnFTQY"
      },
      "outputs": [],
      "source": []
    },
    {
      "cell_type": "code",
      "execution_count": null,
      "metadata": {
        "id": "0vxjq5N1FSwG"
      },
      "outputs": [],
      "source": []
    },
    {
      "cell_type": "code",
      "execution_count": null,
      "metadata": {
        "id": "ydO2iCjBFSq7"
      },
      "outputs": [],
      "source": []
    },
    {
      "cell_type": "markdown",
      "metadata": {
        "id": "ZyG18tKXo7Lj"
      },
      "source": [
        "### Type Conversions\n",
        "\n",
        "**Challenge**: \n",
        "* Convert the `birth_date` column to Pandas `Datetime` objects\n",
        "* Add a Column called `share_pct` which has the laureates' share as a percentage in the form of a floating-point number."
      ]
    },
    {
      "cell_type": "markdown",
      "metadata": {
        "id": "tTTFo-CXo7Lk"
      },
      "source": [
        "#### Convert Year and Birth Date to Datetime"
      ]
    },
    {
      "cell_type": "code",
      "execution_count": 11,
      "metadata": {
        "id": "Jas4fWv4Fa4_"
      },
      "outputs": [
        {
          "data": {
            "text/plain": [
              "0     1852-08-30\n",
              "1     1839-03-16\n",
              "2     1854-03-15\n",
              "3     1822-05-20\n",
              "4     1828-05-08\n",
              "         ...    \n",
              "957   1949-07-02\n",
              "958          NaT\n",
              "959   1965-06-16\n",
              "960   1952-03-24\n",
              "961   1931-08-08\n",
              "Name: birth_date, Length: 962, dtype: datetime64[ns]"
            ]
          },
          "execution_count": 11,
          "metadata": {},
          "output_type": "execute_result"
        }
      ],
      "source": [
        "df_data[\"birth_date\"] = pd.to_datetime(df_data[\"birth_date\"])\n",
        "df_data[\"birth_date\"]"
      ]
    },
    {
      "cell_type": "markdown",
      "metadata": {
        "id": "i456Gr0io7Lm"
      },
      "source": [
        "#### Add a Column with the Prize Share as a Percentage"
      ]
    },
    {
      "cell_type": "code",
      "execution_count": 12,
      "metadata": {
        "id": "4BNug19-FdHP"
      },
      "outputs": [
        {
          "name": "stdout",
          "output_type": "stream",
          "text": [
            "<class 'pandas.core.frame.DataFrame'>\n",
            "RangeIndex: 962 entries, 0 to 961\n",
            "Data columns (total 17 columns):\n",
            " #   Column                 Non-Null Count  Dtype         \n",
            "---  ------                 --------------  -----         \n",
            " 0   year                   962 non-null    int64         \n",
            " 1   category               962 non-null    object        \n",
            " 2   prize                  962 non-null    object        \n",
            " 3   motivation             874 non-null    object        \n",
            " 4   prize_share            962 non-null    object        \n",
            " 5   laureate_type          962 non-null    object        \n",
            " 6   full_name              962 non-null    object        \n",
            " 7   birth_date             934 non-null    datetime64[ns]\n",
            " 8   birth_city             931 non-null    object        \n",
            " 9   birth_country          934 non-null    object        \n",
            " 10  birth_country_current  934 non-null    object        \n",
            " 11  sex                    934 non-null    object        \n",
            " 12  organization_name      707 non-null    object        \n",
            " 13  organization_city      707 non-null    object        \n",
            " 14  organization_country   708 non-null    object        \n",
            " 15  ISO                    934 non-null    object        \n",
            " 16  share_pct              962 non-null    float64       \n",
            "dtypes: datetime64[ns](1), float64(1), int64(1), object(14)\n",
            "memory usage: 127.9+ KB\n"
          ]
        }
      ],
      "source": [
        "separated_values = df_data.prize_share.str.split(\"/\", expand=True)\n",
        "numerator = pd.to_numeric(separated_values[0])\n",
        "denomenator = pd.to_numeric(separated_values[1])\n",
        "df_data[\"share_pct\"] = numerator / denomenator\n",
        "df_data.info()\n",
        "\n"
      ]
    },
    {
      "cell_type": "code",
      "execution_count": null,
      "metadata": {
        "id": "RKZXiaO1Fc9v"
      },
      "outputs": [],
      "source": []
    },
    {
      "cell_type": "markdown",
      "metadata": {
        "id": "-x571TLao7Lq"
      },
      "source": [
        "# Plotly Donut Chart: Percentage of Male vs. Female Laureates"
      ]
    },
    {
      "cell_type": "markdown",
      "metadata": {
        "id": "Q5jBv1lUo7Lq"
      },
      "source": [
        "**Challenge**: Create a [donut chart using plotly](https://plotly.com/python/pie-charts/) which shows how many prizes went to men compared to how many prizes went to women. What percentage of all the prizes went to women?"
      ]
    },
    {
      "cell_type": "code",
      "execution_count": 13,
      "metadata": {
        "id": "wxTmkQd-Ff3Q"
      },
      "outputs": [
        {
          "data": {
            "application/vnd.plotly.v1+json": {
              "config": {
                "plotlyServerURL": "https://plot.ly"
              },
              "data": [
                {
                  "domain": {
                    "x": [
                      0,
                      1
                    ],
                    "y": [
                      0,
                      1
                    ]
                  },
                  "hole": 0.4,
                  "hovertemplate": "label=%{label}<br>value=%{value}<extra></extra>",
                  "labels": [
                    "Male",
                    "Female"
                  ],
                  "legendgroup": "",
                  "name": "",
                  "showlegend": true,
                  "type": "pie",
                  "values": [
                    876,
                    58
                  ]
                }
              ],
              "layout": {
                "legend": {
                  "tracegroupgap": 0
                },
                "template": {
                  "data": {
                    "bar": [
                      {
                        "error_x": {
                          "color": "#2a3f5f"
                        },
                        "error_y": {
                          "color": "#2a3f5f"
                        },
                        "marker": {
                          "line": {
                            "color": "#E5ECF6",
                            "width": 0.5
                          },
                          "pattern": {
                            "fillmode": "overlay",
                            "size": 10,
                            "solidity": 0.2
                          }
                        },
                        "type": "bar"
                      }
                    ],
                    "barpolar": [
                      {
                        "marker": {
                          "line": {
                            "color": "#E5ECF6",
                            "width": 0.5
                          },
                          "pattern": {
                            "fillmode": "overlay",
                            "size": 10,
                            "solidity": 0.2
                          }
                        },
                        "type": "barpolar"
                      }
                    ],
                    "carpet": [
                      {
                        "aaxis": {
                          "endlinecolor": "#2a3f5f",
                          "gridcolor": "white",
                          "linecolor": "white",
                          "minorgridcolor": "white",
                          "startlinecolor": "#2a3f5f"
                        },
                        "baxis": {
                          "endlinecolor": "#2a3f5f",
                          "gridcolor": "white",
                          "linecolor": "white",
                          "minorgridcolor": "white",
                          "startlinecolor": "#2a3f5f"
                        },
                        "type": "carpet"
                      }
                    ],
                    "choropleth": [
                      {
                        "colorbar": {
                          "outlinewidth": 0,
                          "ticks": ""
                        },
                        "type": "choropleth"
                      }
                    ],
                    "contour": [
                      {
                        "colorbar": {
                          "outlinewidth": 0,
                          "ticks": ""
                        },
                        "colorscale": [
                          [
                            0,
                            "#0d0887"
                          ],
                          [
                            0.1111111111111111,
                            "#46039f"
                          ],
                          [
                            0.2222222222222222,
                            "#7201a8"
                          ],
                          [
                            0.3333333333333333,
                            "#9c179e"
                          ],
                          [
                            0.4444444444444444,
                            "#bd3786"
                          ],
                          [
                            0.5555555555555556,
                            "#d8576b"
                          ],
                          [
                            0.6666666666666666,
                            "#ed7953"
                          ],
                          [
                            0.7777777777777778,
                            "#fb9f3a"
                          ],
                          [
                            0.8888888888888888,
                            "#fdca26"
                          ],
                          [
                            1,
                            "#f0f921"
                          ]
                        ],
                        "type": "contour"
                      }
                    ],
                    "contourcarpet": [
                      {
                        "colorbar": {
                          "outlinewidth": 0,
                          "ticks": ""
                        },
                        "type": "contourcarpet"
                      }
                    ],
                    "heatmap": [
                      {
                        "colorbar": {
                          "outlinewidth": 0,
                          "ticks": ""
                        },
                        "colorscale": [
                          [
                            0,
                            "#0d0887"
                          ],
                          [
                            0.1111111111111111,
                            "#46039f"
                          ],
                          [
                            0.2222222222222222,
                            "#7201a8"
                          ],
                          [
                            0.3333333333333333,
                            "#9c179e"
                          ],
                          [
                            0.4444444444444444,
                            "#bd3786"
                          ],
                          [
                            0.5555555555555556,
                            "#d8576b"
                          ],
                          [
                            0.6666666666666666,
                            "#ed7953"
                          ],
                          [
                            0.7777777777777778,
                            "#fb9f3a"
                          ],
                          [
                            0.8888888888888888,
                            "#fdca26"
                          ],
                          [
                            1,
                            "#f0f921"
                          ]
                        ],
                        "type": "heatmap"
                      }
                    ],
                    "heatmapgl": [
                      {
                        "colorbar": {
                          "outlinewidth": 0,
                          "ticks": ""
                        },
                        "colorscale": [
                          [
                            0,
                            "#0d0887"
                          ],
                          [
                            0.1111111111111111,
                            "#46039f"
                          ],
                          [
                            0.2222222222222222,
                            "#7201a8"
                          ],
                          [
                            0.3333333333333333,
                            "#9c179e"
                          ],
                          [
                            0.4444444444444444,
                            "#bd3786"
                          ],
                          [
                            0.5555555555555556,
                            "#d8576b"
                          ],
                          [
                            0.6666666666666666,
                            "#ed7953"
                          ],
                          [
                            0.7777777777777778,
                            "#fb9f3a"
                          ],
                          [
                            0.8888888888888888,
                            "#fdca26"
                          ],
                          [
                            1,
                            "#f0f921"
                          ]
                        ],
                        "type": "heatmapgl"
                      }
                    ],
                    "histogram": [
                      {
                        "marker": {
                          "pattern": {
                            "fillmode": "overlay",
                            "size": 10,
                            "solidity": 0.2
                          }
                        },
                        "type": "histogram"
                      }
                    ],
                    "histogram2d": [
                      {
                        "colorbar": {
                          "outlinewidth": 0,
                          "ticks": ""
                        },
                        "colorscale": [
                          [
                            0,
                            "#0d0887"
                          ],
                          [
                            0.1111111111111111,
                            "#46039f"
                          ],
                          [
                            0.2222222222222222,
                            "#7201a8"
                          ],
                          [
                            0.3333333333333333,
                            "#9c179e"
                          ],
                          [
                            0.4444444444444444,
                            "#bd3786"
                          ],
                          [
                            0.5555555555555556,
                            "#d8576b"
                          ],
                          [
                            0.6666666666666666,
                            "#ed7953"
                          ],
                          [
                            0.7777777777777778,
                            "#fb9f3a"
                          ],
                          [
                            0.8888888888888888,
                            "#fdca26"
                          ],
                          [
                            1,
                            "#f0f921"
                          ]
                        ],
                        "type": "histogram2d"
                      }
                    ],
                    "histogram2dcontour": [
                      {
                        "colorbar": {
                          "outlinewidth": 0,
                          "ticks": ""
                        },
                        "colorscale": [
                          [
                            0,
                            "#0d0887"
                          ],
                          [
                            0.1111111111111111,
                            "#46039f"
                          ],
                          [
                            0.2222222222222222,
                            "#7201a8"
                          ],
                          [
                            0.3333333333333333,
                            "#9c179e"
                          ],
                          [
                            0.4444444444444444,
                            "#bd3786"
                          ],
                          [
                            0.5555555555555556,
                            "#d8576b"
                          ],
                          [
                            0.6666666666666666,
                            "#ed7953"
                          ],
                          [
                            0.7777777777777778,
                            "#fb9f3a"
                          ],
                          [
                            0.8888888888888888,
                            "#fdca26"
                          ],
                          [
                            1,
                            "#f0f921"
                          ]
                        ],
                        "type": "histogram2dcontour"
                      }
                    ],
                    "mesh3d": [
                      {
                        "colorbar": {
                          "outlinewidth": 0,
                          "ticks": ""
                        },
                        "type": "mesh3d"
                      }
                    ],
                    "parcoords": [
                      {
                        "line": {
                          "colorbar": {
                            "outlinewidth": 0,
                            "ticks": ""
                          }
                        },
                        "type": "parcoords"
                      }
                    ],
                    "pie": [
                      {
                        "automargin": true,
                        "type": "pie"
                      }
                    ],
                    "scatter": [
                      {
                        "fillpattern": {
                          "fillmode": "overlay",
                          "size": 10,
                          "solidity": 0.2
                        },
                        "type": "scatter"
                      }
                    ],
                    "scatter3d": [
                      {
                        "line": {
                          "colorbar": {
                            "outlinewidth": 0,
                            "ticks": ""
                          }
                        },
                        "marker": {
                          "colorbar": {
                            "outlinewidth": 0,
                            "ticks": ""
                          }
                        },
                        "type": "scatter3d"
                      }
                    ],
                    "scattercarpet": [
                      {
                        "marker": {
                          "colorbar": {
                            "outlinewidth": 0,
                            "ticks": ""
                          }
                        },
                        "type": "scattercarpet"
                      }
                    ],
                    "scattergeo": [
                      {
                        "marker": {
                          "colorbar": {
                            "outlinewidth": 0,
                            "ticks": ""
                          }
                        },
                        "type": "scattergeo"
                      }
                    ],
                    "scattergl": [
                      {
                        "marker": {
                          "colorbar": {
                            "outlinewidth": 0,
                            "ticks": ""
                          }
                        },
                        "type": "scattergl"
                      }
                    ],
                    "scattermapbox": [
                      {
                        "marker": {
                          "colorbar": {
                            "outlinewidth": 0,
                            "ticks": ""
                          }
                        },
                        "type": "scattermapbox"
                      }
                    ],
                    "scatterpolar": [
                      {
                        "marker": {
                          "colorbar": {
                            "outlinewidth": 0,
                            "ticks": ""
                          }
                        },
                        "type": "scatterpolar"
                      }
                    ],
                    "scatterpolargl": [
                      {
                        "marker": {
                          "colorbar": {
                            "outlinewidth": 0,
                            "ticks": ""
                          }
                        },
                        "type": "scatterpolargl"
                      }
                    ],
                    "scatterternary": [
                      {
                        "marker": {
                          "colorbar": {
                            "outlinewidth": 0,
                            "ticks": ""
                          }
                        },
                        "type": "scatterternary"
                      }
                    ],
                    "surface": [
                      {
                        "colorbar": {
                          "outlinewidth": 0,
                          "ticks": ""
                        },
                        "colorscale": [
                          [
                            0,
                            "#0d0887"
                          ],
                          [
                            0.1111111111111111,
                            "#46039f"
                          ],
                          [
                            0.2222222222222222,
                            "#7201a8"
                          ],
                          [
                            0.3333333333333333,
                            "#9c179e"
                          ],
                          [
                            0.4444444444444444,
                            "#bd3786"
                          ],
                          [
                            0.5555555555555556,
                            "#d8576b"
                          ],
                          [
                            0.6666666666666666,
                            "#ed7953"
                          ],
                          [
                            0.7777777777777778,
                            "#fb9f3a"
                          ],
                          [
                            0.8888888888888888,
                            "#fdca26"
                          ],
                          [
                            1,
                            "#f0f921"
                          ]
                        ],
                        "type": "surface"
                      }
                    ],
                    "table": [
                      {
                        "cells": {
                          "fill": {
                            "color": "#EBF0F8"
                          },
                          "line": {
                            "color": "white"
                          }
                        },
                        "header": {
                          "fill": {
                            "color": "#C8D4E3"
                          },
                          "line": {
                            "color": "white"
                          }
                        },
                        "type": "table"
                      }
                    ]
                  },
                  "layout": {
                    "annotationdefaults": {
                      "arrowcolor": "#2a3f5f",
                      "arrowhead": 0,
                      "arrowwidth": 1
                    },
                    "autotypenumbers": "strict",
                    "coloraxis": {
                      "colorbar": {
                        "outlinewidth": 0,
                        "ticks": ""
                      }
                    },
                    "colorscale": {
                      "diverging": [
                        [
                          0,
                          "#8e0152"
                        ],
                        [
                          0.1,
                          "#c51b7d"
                        ],
                        [
                          0.2,
                          "#de77ae"
                        ],
                        [
                          0.3,
                          "#f1b6da"
                        ],
                        [
                          0.4,
                          "#fde0ef"
                        ],
                        [
                          0.5,
                          "#f7f7f7"
                        ],
                        [
                          0.6,
                          "#e6f5d0"
                        ],
                        [
                          0.7,
                          "#b8e186"
                        ],
                        [
                          0.8,
                          "#7fbc41"
                        ],
                        [
                          0.9,
                          "#4d9221"
                        ],
                        [
                          1,
                          "#276419"
                        ]
                      ],
                      "sequential": [
                        [
                          0,
                          "#0d0887"
                        ],
                        [
                          0.1111111111111111,
                          "#46039f"
                        ],
                        [
                          0.2222222222222222,
                          "#7201a8"
                        ],
                        [
                          0.3333333333333333,
                          "#9c179e"
                        ],
                        [
                          0.4444444444444444,
                          "#bd3786"
                        ],
                        [
                          0.5555555555555556,
                          "#d8576b"
                        ],
                        [
                          0.6666666666666666,
                          "#ed7953"
                        ],
                        [
                          0.7777777777777778,
                          "#fb9f3a"
                        ],
                        [
                          0.8888888888888888,
                          "#fdca26"
                        ],
                        [
                          1,
                          "#f0f921"
                        ]
                      ],
                      "sequentialminus": [
                        [
                          0,
                          "#0d0887"
                        ],
                        [
                          0.1111111111111111,
                          "#46039f"
                        ],
                        [
                          0.2222222222222222,
                          "#7201a8"
                        ],
                        [
                          0.3333333333333333,
                          "#9c179e"
                        ],
                        [
                          0.4444444444444444,
                          "#bd3786"
                        ],
                        [
                          0.5555555555555556,
                          "#d8576b"
                        ],
                        [
                          0.6666666666666666,
                          "#ed7953"
                        ],
                        [
                          0.7777777777777778,
                          "#fb9f3a"
                        ],
                        [
                          0.8888888888888888,
                          "#fdca26"
                        ],
                        [
                          1,
                          "#f0f921"
                        ]
                      ]
                    },
                    "colorway": [
                      "#636efa",
                      "#EF553B",
                      "#00cc96",
                      "#ab63fa",
                      "#FFA15A",
                      "#19d3f3",
                      "#FF6692",
                      "#B6E880",
                      "#FF97FF",
                      "#FECB52"
                    ],
                    "font": {
                      "color": "#2a3f5f"
                    },
                    "geo": {
                      "bgcolor": "white",
                      "lakecolor": "white",
                      "landcolor": "#E5ECF6",
                      "showlakes": true,
                      "showland": true,
                      "subunitcolor": "white"
                    },
                    "hoverlabel": {
                      "align": "left"
                    },
                    "hovermode": "closest",
                    "mapbox": {
                      "style": "light"
                    },
                    "paper_bgcolor": "white",
                    "plot_bgcolor": "#E5ECF6",
                    "polar": {
                      "angularaxis": {
                        "gridcolor": "white",
                        "linecolor": "white",
                        "ticks": ""
                      },
                      "bgcolor": "#E5ECF6",
                      "radialaxis": {
                        "gridcolor": "white",
                        "linecolor": "white",
                        "ticks": ""
                      }
                    },
                    "scene": {
                      "xaxis": {
                        "backgroundcolor": "#E5ECF6",
                        "gridcolor": "white",
                        "gridwidth": 2,
                        "linecolor": "white",
                        "showbackground": true,
                        "ticks": "",
                        "zerolinecolor": "white"
                      },
                      "yaxis": {
                        "backgroundcolor": "#E5ECF6",
                        "gridcolor": "white",
                        "gridwidth": 2,
                        "linecolor": "white",
                        "showbackground": true,
                        "ticks": "",
                        "zerolinecolor": "white"
                      },
                      "zaxis": {
                        "backgroundcolor": "#E5ECF6",
                        "gridcolor": "white",
                        "gridwidth": 2,
                        "linecolor": "white",
                        "showbackground": true,
                        "ticks": "",
                        "zerolinecolor": "white"
                      }
                    },
                    "shapedefaults": {
                      "line": {
                        "color": "#2a3f5f"
                      }
                    },
                    "ternary": {
                      "aaxis": {
                        "gridcolor": "white",
                        "linecolor": "white",
                        "ticks": ""
                      },
                      "baxis": {
                        "gridcolor": "white",
                        "linecolor": "white",
                        "ticks": ""
                      },
                      "bgcolor": "#E5ECF6",
                      "caxis": {
                        "gridcolor": "white",
                        "linecolor": "white",
                        "ticks": ""
                      }
                    },
                    "title": {
                      "x": 0.05
                    },
                    "xaxis": {
                      "automargin": true,
                      "gridcolor": "white",
                      "linecolor": "white",
                      "ticks": "",
                      "title": {
                        "standoff": 15
                      },
                      "zerolinecolor": "white",
                      "zerolinewidth": 2
                    },
                    "yaxis": {
                      "automargin": true,
                      "gridcolor": "white",
                      "linecolor": "white",
                      "ticks": "",
                      "title": {
                        "standoff": 15
                      },
                      "zerolinecolor": "white",
                      "zerolinewidth": 2
                    }
                  }
                },
                "title": {
                  "text": "Some lol things"
                }
              }
            }
          },
          "metadata": {},
          "output_type": "display_data"
        }
      ],
      "source": [
        "biology = df_data.sex.value_counts()\n",
        "\n",
        "fig = px.pie(labels=biology.index,\n",
        "             values=biology.values,\n",
        "             title=\"Some lol things\",\n",
        "             names=biology.index,\n",
        "             hole=0.4)\n",
        "fig.show()"
      ]
    },
    {
      "cell_type": "code",
      "execution_count": null,
      "metadata": {
        "id": "qVJDd4uhFgGk"
      },
      "outputs": [],
      "source": []
    },
    {
      "cell_type": "markdown",
      "metadata": {
        "dc": {
          "key": "38"
        },
        "id": "dmdB0tCko7Lu",
        "run_control": {
          "frozen": true
        },
        "tags": [
          "context"
        ]
      },
      "source": [
        "# Who were the first 3 Women to Win the Nobel Prize?\n",
        "\n",
        "**Challenge**: \n",
        "* What are the names of the first 3 female Nobel laureates? \n",
        "* What did the win the prize for? \n",
        "* What do you see in their `birth_country`? Were they part of an organisation?"
      ]
    },
    {
      "cell_type": "code",
      "execution_count": 14,
      "metadata": {
        "id": "nk5h-XFcFiJp"
      },
      "outputs": [
        {
          "data": {
            "text/html": [
              "<div>\n",
              "<style scoped>\n",
              "    .dataframe tbody tr th:only-of-type {\n",
              "        vertical-align: middle;\n",
              "    }\n",
              "\n",
              "    .dataframe tbody tr th {\n",
              "        vertical-align: top;\n",
              "    }\n",
              "\n",
              "    .dataframe thead th {\n",
              "        text-align: right;\n",
              "    }\n",
              "</style>\n",
              "<table border=\"1\" class=\"dataframe\">\n",
              "  <thead>\n",
              "    <tr style=\"text-align: right;\">\n",
              "      <th></th>\n",
              "      <th>full_name</th>\n",
              "      <th>category</th>\n",
              "      <th>birth_country</th>\n",
              "      <th>organization_name</th>\n",
              "    </tr>\n",
              "  </thead>\n",
              "  <tbody>\n",
              "    <tr>\n",
              "      <th>18</th>\n",
              "      <td>Marie Curie, née Sklodowska</td>\n",
              "      <td>Physics</td>\n",
              "      <td>Russian Empire (Poland)</td>\n",
              "      <td>NaN</td>\n",
              "    </tr>\n",
              "    <tr>\n",
              "      <th>29</th>\n",
              "      <td>Baroness Bertha Sophie Felicita von Suttner, n...</td>\n",
              "      <td>Peace</td>\n",
              "      <td>Austrian Empire (Czech Republic)</td>\n",
              "      <td>NaN</td>\n",
              "    </tr>\n",
              "    <tr>\n",
              "      <th>51</th>\n",
              "      <td>Selma Ottilia Lovisa Lagerlöf</td>\n",
              "      <td>Literature</td>\n",
              "      <td>Sweden</td>\n",
              "      <td>NaN</td>\n",
              "    </tr>\n",
              "  </tbody>\n",
              "</table>\n",
              "</div>"
            ],
            "text/plain": [
              "                                            full_name    category  \\\n",
              "18                        Marie Curie, née Sklodowska     Physics   \n",
              "29  Baroness Bertha Sophie Felicita von Suttner, n...       Peace   \n",
              "51                      Selma Ottilia Lovisa Lagerlöf  Literature   \n",
              "\n",
              "                       birth_country organization_name  \n",
              "18           Russian Empire (Poland)               NaN  \n",
              "29  Austrian Empire (Czech Republic)               NaN  \n",
              "51                            Sweden               NaN  "
            ]
          },
          "execution_count": 14,
          "metadata": {},
          "output_type": "execute_result"
        }
      ],
      "source": [
        "female_laureates = df_data[df_data['sex'] == 'Female']\n",
        "first_three = female_laureates.sort_values(by=\"year\",ascending=True).head(3)\n",
        "first_three.category\n",
        "selected_columns = ['full_name', 'category', 'birth_country', 'organization_name']\n",
        "first_three[selected_columns]"
      ]
    },
    {
      "cell_type": "code",
      "execution_count": null,
      "metadata": {
        "id": "fqBSGeNcFiBM"
      },
      "outputs": [],
      "source": []
    },
    {
      "cell_type": "markdown",
      "metadata": {
        "id": "dPVD_f1oo7Lw"
      },
      "source": [
        "# Find the Repeat Winners\n",
        "\n",
        "**Challenge**: Did some people get a Nobel Prize more than once? If so, who were they? "
      ]
    },
    {
      "cell_type": "code",
      "execution_count": 15,
      "metadata": {
        "id": "Qqf8_dWUFjpz"
      },
      "outputs": [
        {
          "data": {
            "text/html": [
              "<div>\n",
              "<style scoped>\n",
              "    .dataframe tbody tr th:only-of-type {\n",
              "        vertical-align: middle;\n",
              "    }\n",
              "\n",
              "    .dataframe tbody tr th {\n",
              "        vertical-align: top;\n",
              "    }\n",
              "\n",
              "    .dataframe thead th {\n",
              "        text-align: right;\n",
              "    }\n",
              "</style>\n",
              "<table border=\"1\" class=\"dataframe\">\n",
              "  <thead>\n",
              "    <tr style=\"text-align: right;\">\n",
              "      <th></th>\n",
              "      <th>full_name</th>\n",
              "      <th>category</th>\n",
              "      <th>birth_country</th>\n",
              "      <th>organization_name</th>\n",
              "    </tr>\n",
              "  </thead>\n",
              "  <tbody>\n",
              "    <tr>\n",
              "      <th>18</th>\n",
              "      <td>Marie Curie, née Sklodowska</td>\n",
              "      <td>Physics</td>\n",
              "      <td>Russian Empire (Poland)</td>\n",
              "      <td>NaN</td>\n",
              "    </tr>\n",
              "    <tr>\n",
              "      <th>62</th>\n",
              "      <td>Marie Curie, née Sklodowska</td>\n",
              "      <td>Chemistry</td>\n",
              "      <td>Russian Empire (Poland)</td>\n",
              "      <td>Sorbonne University</td>\n",
              "    </tr>\n",
              "    <tr>\n",
              "      <th>89</th>\n",
              "      <td>Comité international de la Croix Rouge (Intern...</td>\n",
              "      <td>Peace</td>\n",
              "      <td>NaN</td>\n",
              "      <td>NaN</td>\n",
              "    </tr>\n",
              "    <tr>\n",
              "      <th>215</th>\n",
              "      <td>Comité international de la Croix Rouge (Intern...</td>\n",
              "      <td>Peace</td>\n",
              "      <td>NaN</td>\n",
              "      <td>NaN</td>\n",
              "    </tr>\n",
              "    <tr>\n",
              "      <th>278</th>\n",
              "      <td>Linus Carl Pauling</td>\n",
              "      <td>Chemistry</td>\n",
              "      <td>United States of America</td>\n",
              "      <td>California Institute of Technology (Caltech)</td>\n",
              "    </tr>\n",
              "    <tr>\n",
              "      <th>283</th>\n",
              "      <td>Office of the United Nations High Commissioner...</td>\n",
              "      <td>Peace</td>\n",
              "      <td>NaN</td>\n",
              "      <td>NaN</td>\n",
              "    </tr>\n",
              "    <tr>\n",
              "      <th>297</th>\n",
              "      <td>John Bardeen</td>\n",
              "      <td>Physics</td>\n",
              "      <td>United States of America</td>\n",
              "      <td>University of Illinois</td>\n",
              "    </tr>\n",
              "    <tr>\n",
              "      <th>306</th>\n",
              "      <td>Frederick Sanger</td>\n",
              "      <td>Chemistry</td>\n",
              "      <td>United Kingdom</td>\n",
              "      <td>University of Cambridge</td>\n",
              "    </tr>\n",
              "    <tr>\n",
              "      <th>340</th>\n",
              "      <td>Linus Carl Pauling</td>\n",
              "      <td>Peace</td>\n",
              "      <td>United States of America</td>\n",
              "      <td>California Institute of Technology (Caltech)</td>\n",
              "    </tr>\n",
              "    <tr>\n",
              "      <th>348</th>\n",
              "      <td>Comité international de la Croix Rouge (Intern...</td>\n",
              "      <td>Peace</td>\n",
              "      <td>NaN</td>\n",
              "      <td>NaN</td>\n",
              "    </tr>\n",
              "    <tr>\n",
              "      <th>424</th>\n",
              "      <td>John Bardeen</td>\n",
              "      <td>Physics</td>\n",
              "      <td>United States of America</td>\n",
              "      <td>University of Illinois</td>\n",
              "    </tr>\n",
              "    <tr>\n",
              "      <th>505</th>\n",
              "      <td>Frederick Sanger</td>\n",
              "      <td>Chemistry</td>\n",
              "      <td>United Kingdom</td>\n",
              "      <td>MRC Laboratory of Molecular Biology</td>\n",
              "    </tr>\n",
              "    <tr>\n",
              "      <th>523</th>\n",
              "      <td>Office of the United Nations High Commissioner...</td>\n",
              "      <td>Peace</td>\n",
              "      <td>NaN</td>\n",
              "      <td>NaN</td>\n",
              "    </tr>\n",
              "  </tbody>\n",
              "</table>\n",
              "</div>"
            ],
            "text/plain": [
              "                                             full_name   category  \\\n",
              "18                         Marie Curie, née Sklodowska    Physics   \n",
              "62                         Marie Curie, née Sklodowska  Chemistry   \n",
              "89   Comité international de la Croix Rouge (Intern...      Peace   \n",
              "215  Comité international de la Croix Rouge (Intern...      Peace   \n",
              "278                                 Linus Carl Pauling  Chemistry   \n",
              "283  Office of the United Nations High Commissioner...      Peace   \n",
              "297                                       John Bardeen    Physics   \n",
              "306                                   Frederick Sanger  Chemistry   \n",
              "340                                 Linus Carl Pauling      Peace   \n",
              "348  Comité international de la Croix Rouge (Intern...      Peace   \n",
              "424                                       John Bardeen    Physics   \n",
              "505                                   Frederick Sanger  Chemistry   \n",
              "523  Office of the United Nations High Commissioner...      Peace   \n",
              "\n",
              "                birth_country                             organization_name  \n",
              "18    Russian Empire (Poland)                                           NaN  \n",
              "62    Russian Empire (Poland)                           Sorbonne University  \n",
              "89                        NaN                                           NaN  \n",
              "215                       NaN                                           NaN  \n",
              "278  United States of America  California Institute of Technology (Caltech)  \n",
              "283                       NaN                                           NaN  \n",
              "297  United States of America                        University of Illinois  \n",
              "306            United Kingdom                       University of Cambridge  \n",
              "340  United States of America  California Institute of Technology (Caltech)  \n",
              "348                       NaN                                           NaN  \n",
              "424  United States of America                        University of Illinois  \n",
              "505            United Kingdom           MRC Laboratory of Molecular Biology  \n",
              "523                       NaN                                           NaN  "
            ]
          },
          "execution_count": 15,
          "metadata": {},
          "output_type": "execute_result"
        }
      ],
      "source": [
        "smartest_people = df_data.duplicated(subset=\"full_name\",keep=False)\n",
        "df_data[smartest_people][selected_columns]"
      ]
    },
    {
      "cell_type": "code",
      "execution_count": 16,
      "metadata": {
        "id": "UuIqCxQvFjdF"
      },
      "outputs": [
        {
          "data": {
            "text/plain": [
              "category\n",
              "Medicine      222\n",
              "Physics       216\n",
              "Chemistry     186\n",
              "Peace         135\n",
              "Literature    117\n",
              "Economics      86\n",
              "Name: count, dtype: int64"
            ]
          },
          "execution_count": 16,
          "metadata": {},
          "output_type": "execute_result"
        }
      ],
      "source": [
        "df_data.category.value_counts()"
      ]
    },
    {
      "cell_type": "markdown",
      "metadata": {
        "dc": {
          "key": "45"
        },
        "id": "x5NtE05go7L1",
        "tags": [
          "sample_code"
        ]
      },
      "source": [
        "# Number of Prizes per Category\n",
        "\n",
        "**Challenge**: \n",
        "* In how many categories are prizes awarded? \n",
        "* Create a plotly bar chart with the number of prizes awarded by category. \n",
        "* Use the color scale called `Aggrnyl` to colour the chart, but don't show a color axis.\n",
        "* Which category has the most number of prizes awarded? \n",
        "* Which category has the fewest number of prizes awarded? "
      ]
    },
    {
      "cell_type": "code",
      "execution_count": 17,
      "metadata": {
        "id": "EjwqH7bxFm10"
      },
      "outputs": [
        {
          "data": {
            "application/vnd.plotly.v1+json": {
              "config": {
                "plotlyServerURL": "https://plot.ly"
              },
              "data": [
                {
                  "alignmentgroup": "True",
                  "hovertemplate": "x=%{x}<br>y=%{y}<br>color=%{marker.color}<extra></extra>",
                  "legendgroup": "",
                  "marker": {
                    "color": [
                      222,
                      216,
                      186,
                      135,
                      117,
                      86
                    ],
                    "coloraxis": "coloraxis",
                    "pattern": {
                      "shape": ""
                    }
                  },
                  "name": "",
                  "offsetgroup": "",
                  "orientation": "v",
                  "showlegend": false,
                  "textposition": "auto",
                  "type": "bar",
                  "x": [
                    "Medicine",
                    "Physics",
                    "Chemistry",
                    "Peace",
                    "Literature",
                    "Economics"
                  ],
                  "xaxis": "x",
                  "y": [
                    222,
                    216,
                    186,
                    135,
                    117,
                    86
                  ],
                  "yaxis": "y"
                }
              ],
              "layout": {
                "barmode": "relative",
                "coloraxis": {
                  "colorbar": {
                    "title": {
                      "text": "color"
                    }
                  },
                  "colorscale": [
                    [
                      0,
                      "#0d0887"
                    ],
                    [
                      0.1111111111111111,
                      "#46039f"
                    ],
                    [
                      0.2222222222222222,
                      "#7201a8"
                    ],
                    [
                      0.3333333333333333,
                      "#9c179e"
                    ],
                    [
                      0.4444444444444444,
                      "#bd3786"
                    ],
                    [
                      0.5555555555555556,
                      "#d8576b"
                    ],
                    [
                      0.6666666666666666,
                      "#ed7953"
                    ],
                    [
                      0.7777777777777778,
                      "#fb9f3a"
                    ],
                    [
                      0.8888888888888888,
                      "#fdca26"
                    ],
                    [
                      1,
                      "#f0f921"
                    ]
                  ]
                },
                "legend": {
                  "tracegroupgap": 0
                },
                "template": {
                  "data": {
                    "bar": [
                      {
                        "error_x": {
                          "color": "#2a3f5f"
                        },
                        "error_y": {
                          "color": "#2a3f5f"
                        },
                        "marker": {
                          "line": {
                            "color": "#E5ECF6",
                            "width": 0.5
                          },
                          "pattern": {
                            "fillmode": "overlay",
                            "size": 10,
                            "solidity": 0.2
                          }
                        },
                        "type": "bar"
                      }
                    ],
                    "barpolar": [
                      {
                        "marker": {
                          "line": {
                            "color": "#E5ECF6",
                            "width": 0.5
                          },
                          "pattern": {
                            "fillmode": "overlay",
                            "size": 10,
                            "solidity": 0.2
                          }
                        },
                        "type": "barpolar"
                      }
                    ],
                    "carpet": [
                      {
                        "aaxis": {
                          "endlinecolor": "#2a3f5f",
                          "gridcolor": "white",
                          "linecolor": "white",
                          "minorgridcolor": "white",
                          "startlinecolor": "#2a3f5f"
                        },
                        "baxis": {
                          "endlinecolor": "#2a3f5f",
                          "gridcolor": "white",
                          "linecolor": "white",
                          "minorgridcolor": "white",
                          "startlinecolor": "#2a3f5f"
                        },
                        "type": "carpet"
                      }
                    ],
                    "choropleth": [
                      {
                        "colorbar": {
                          "outlinewidth": 0,
                          "ticks": ""
                        },
                        "type": "choropleth"
                      }
                    ],
                    "contour": [
                      {
                        "colorbar": {
                          "outlinewidth": 0,
                          "ticks": ""
                        },
                        "colorscale": [
                          [
                            0,
                            "#0d0887"
                          ],
                          [
                            0.1111111111111111,
                            "#46039f"
                          ],
                          [
                            0.2222222222222222,
                            "#7201a8"
                          ],
                          [
                            0.3333333333333333,
                            "#9c179e"
                          ],
                          [
                            0.4444444444444444,
                            "#bd3786"
                          ],
                          [
                            0.5555555555555556,
                            "#d8576b"
                          ],
                          [
                            0.6666666666666666,
                            "#ed7953"
                          ],
                          [
                            0.7777777777777778,
                            "#fb9f3a"
                          ],
                          [
                            0.8888888888888888,
                            "#fdca26"
                          ],
                          [
                            1,
                            "#f0f921"
                          ]
                        ],
                        "type": "contour"
                      }
                    ],
                    "contourcarpet": [
                      {
                        "colorbar": {
                          "outlinewidth": 0,
                          "ticks": ""
                        },
                        "type": "contourcarpet"
                      }
                    ],
                    "heatmap": [
                      {
                        "colorbar": {
                          "outlinewidth": 0,
                          "ticks": ""
                        },
                        "colorscale": [
                          [
                            0,
                            "#0d0887"
                          ],
                          [
                            0.1111111111111111,
                            "#46039f"
                          ],
                          [
                            0.2222222222222222,
                            "#7201a8"
                          ],
                          [
                            0.3333333333333333,
                            "#9c179e"
                          ],
                          [
                            0.4444444444444444,
                            "#bd3786"
                          ],
                          [
                            0.5555555555555556,
                            "#d8576b"
                          ],
                          [
                            0.6666666666666666,
                            "#ed7953"
                          ],
                          [
                            0.7777777777777778,
                            "#fb9f3a"
                          ],
                          [
                            0.8888888888888888,
                            "#fdca26"
                          ],
                          [
                            1,
                            "#f0f921"
                          ]
                        ],
                        "type": "heatmap"
                      }
                    ],
                    "heatmapgl": [
                      {
                        "colorbar": {
                          "outlinewidth": 0,
                          "ticks": ""
                        },
                        "colorscale": [
                          [
                            0,
                            "#0d0887"
                          ],
                          [
                            0.1111111111111111,
                            "#46039f"
                          ],
                          [
                            0.2222222222222222,
                            "#7201a8"
                          ],
                          [
                            0.3333333333333333,
                            "#9c179e"
                          ],
                          [
                            0.4444444444444444,
                            "#bd3786"
                          ],
                          [
                            0.5555555555555556,
                            "#d8576b"
                          ],
                          [
                            0.6666666666666666,
                            "#ed7953"
                          ],
                          [
                            0.7777777777777778,
                            "#fb9f3a"
                          ],
                          [
                            0.8888888888888888,
                            "#fdca26"
                          ],
                          [
                            1,
                            "#f0f921"
                          ]
                        ],
                        "type": "heatmapgl"
                      }
                    ],
                    "histogram": [
                      {
                        "marker": {
                          "pattern": {
                            "fillmode": "overlay",
                            "size": 10,
                            "solidity": 0.2
                          }
                        },
                        "type": "histogram"
                      }
                    ],
                    "histogram2d": [
                      {
                        "colorbar": {
                          "outlinewidth": 0,
                          "ticks": ""
                        },
                        "colorscale": [
                          [
                            0,
                            "#0d0887"
                          ],
                          [
                            0.1111111111111111,
                            "#46039f"
                          ],
                          [
                            0.2222222222222222,
                            "#7201a8"
                          ],
                          [
                            0.3333333333333333,
                            "#9c179e"
                          ],
                          [
                            0.4444444444444444,
                            "#bd3786"
                          ],
                          [
                            0.5555555555555556,
                            "#d8576b"
                          ],
                          [
                            0.6666666666666666,
                            "#ed7953"
                          ],
                          [
                            0.7777777777777778,
                            "#fb9f3a"
                          ],
                          [
                            0.8888888888888888,
                            "#fdca26"
                          ],
                          [
                            1,
                            "#f0f921"
                          ]
                        ],
                        "type": "histogram2d"
                      }
                    ],
                    "histogram2dcontour": [
                      {
                        "colorbar": {
                          "outlinewidth": 0,
                          "ticks": ""
                        },
                        "colorscale": [
                          [
                            0,
                            "#0d0887"
                          ],
                          [
                            0.1111111111111111,
                            "#46039f"
                          ],
                          [
                            0.2222222222222222,
                            "#7201a8"
                          ],
                          [
                            0.3333333333333333,
                            "#9c179e"
                          ],
                          [
                            0.4444444444444444,
                            "#bd3786"
                          ],
                          [
                            0.5555555555555556,
                            "#d8576b"
                          ],
                          [
                            0.6666666666666666,
                            "#ed7953"
                          ],
                          [
                            0.7777777777777778,
                            "#fb9f3a"
                          ],
                          [
                            0.8888888888888888,
                            "#fdca26"
                          ],
                          [
                            1,
                            "#f0f921"
                          ]
                        ],
                        "type": "histogram2dcontour"
                      }
                    ],
                    "mesh3d": [
                      {
                        "colorbar": {
                          "outlinewidth": 0,
                          "ticks": ""
                        },
                        "type": "mesh3d"
                      }
                    ],
                    "parcoords": [
                      {
                        "line": {
                          "colorbar": {
                            "outlinewidth": 0,
                            "ticks": ""
                          }
                        },
                        "type": "parcoords"
                      }
                    ],
                    "pie": [
                      {
                        "automargin": true,
                        "type": "pie"
                      }
                    ],
                    "scatter": [
                      {
                        "fillpattern": {
                          "fillmode": "overlay",
                          "size": 10,
                          "solidity": 0.2
                        },
                        "type": "scatter"
                      }
                    ],
                    "scatter3d": [
                      {
                        "line": {
                          "colorbar": {
                            "outlinewidth": 0,
                            "ticks": ""
                          }
                        },
                        "marker": {
                          "colorbar": {
                            "outlinewidth": 0,
                            "ticks": ""
                          }
                        },
                        "type": "scatter3d"
                      }
                    ],
                    "scattercarpet": [
                      {
                        "marker": {
                          "colorbar": {
                            "outlinewidth": 0,
                            "ticks": ""
                          }
                        },
                        "type": "scattercarpet"
                      }
                    ],
                    "scattergeo": [
                      {
                        "marker": {
                          "colorbar": {
                            "outlinewidth": 0,
                            "ticks": ""
                          }
                        },
                        "type": "scattergeo"
                      }
                    ],
                    "scattergl": [
                      {
                        "marker": {
                          "colorbar": {
                            "outlinewidth": 0,
                            "ticks": ""
                          }
                        },
                        "type": "scattergl"
                      }
                    ],
                    "scattermapbox": [
                      {
                        "marker": {
                          "colorbar": {
                            "outlinewidth": 0,
                            "ticks": ""
                          }
                        },
                        "type": "scattermapbox"
                      }
                    ],
                    "scatterpolar": [
                      {
                        "marker": {
                          "colorbar": {
                            "outlinewidth": 0,
                            "ticks": ""
                          }
                        },
                        "type": "scatterpolar"
                      }
                    ],
                    "scatterpolargl": [
                      {
                        "marker": {
                          "colorbar": {
                            "outlinewidth": 0,
                            "ticks": ""
                          }
                        },
                        "type": "scatterpolargl"
                      }
                    ],
                    "scatterternary": [
                      {
                        "marker": {
                          "colorbar": {
                            "outlinewidth": 0,
                            "ticks": ""
                          }
                        },
                        "type": "scatterternary"
                      }
                    ],
                    "surface": [
                      {
                        "colorbar": {
                          "outlinewidth": 0,
                          "ticks": ""
                        },
                        "colorscale": [
                          [
                            0,
                            "#0d0887"
                          ],
                          [
                            0.1111111111111111,
                            "#46039f"
                          ],
                          [
                            0.2222222222222222,
                            "#7201a8"
                          ],
                          [
                            0.3333333333333333,
                            "#9c179e"
                          ],
                          [
                            0.4444444444444444,
                            "#bd3786"
                          ],
                          [
                            0.5555555555555556,
                            "#d8576b"
                          ],
                          [
                            0.6666666666666666,
                            "#ed7953"
                          ],
                          [
                            0.7777777777777778,
                            "#fb9f3a"
                          ],
                          [
                            0.8888888888888888,
                            "#fdca26"
                          ],
                          [
                            1,
                            "#f0f921"
                          ]
                        ],
                        "type": "surface"
                      }
                    ],
                    "table": [
                      {
                        "cells": {
                          "fill": {
                            "color": "#EBF0F8"
                          },
                          "line": {
                            "color": "white"
                          }
                        },
                        "header": {
                          "fill": {
                            "color": "#C8D4E3"
                          },
                          "line": {
                            "color": "white"
                          }
                        },
                        "type": "table"
                      }
                    ]
                  },
                  "layout": {
                    "annotationdefaults": {
                      "arrowcolor": "#2a3f5f",
                      "arrowhead": 0,
                      "arrowwidth": 1
                    },
                    "autotypenumbers": "strict",
                    "coloraxis": {
                      "colorbar": {
                        "outlinewidth": 0,
                        "ticks": ""
                      }
                    },
                    "colorscale": {
                      "diverging": [
                        [
                          0,
                          "#8e0152"
                        ],
                        [
                          0.1,
                          "#c51b7d"
                        ],
                        [
                          0.2,
                          "#de77ae"
                        ],
                        [
                          0.3,
                          "#f1b6da"
                        ],
                        [
                          0.4,
                          "#fde0ef"
                        ],
                        [
                          0.5,
                          "#f7f7f7"
                        ],
                        [
                          0.6,
                          "#e6f5d0"
                        ],
                        [
                          0.7,
                          "#b8e186"
                        ],
                        [
                          0.8,
                          "#7fbc41"
                        ],
                        [
                          0.9,
                          "#4d9221"
                        ],
                        [
                          1,
                          "#276419"
                        ]
                      ],
                      "sequential": [
                        [
                          0,
                          "#0d0887"
                        ],
                        [
                          0.1111111111111111,
                          "#46039f"
                        ],
                        [
                          0.2222222222222222,
                          "#7201a8"
                        ],
                        [
                          0.3333333333333333,
                          "#9c179e"
                        ],
                        [
                          0.4444444444444444,
                          "#bd3786"
                        ],
                        [
                          0.5555555555555556,
                          "#d8576b"
                        ],
                        [
                          0.6666666666666666,
                          "#ed7953"
                        ],
                        [
                          0.7777777777777778,
                          "#fb9f3a"
                        ],
                        [
                          0.8888888888888888,
                          "#fdca26"
                        ],
                        [
                          1,
                          "#f0f921"
                        ]
                      ],
                      "sequentialminus": [
                        [
                          0,
                          "#0d0887"
                        ],
                        [
                          0.1111111111111111,
                          "#46039f"
                        ],
                        [
                          0.2222222222222222,
                          "#7201a8"
                        ],
                        [
                          0.3333333333333333,
                          "#9c179e"
                        ],
                        [
                          0.4444444444444444,
                          "#bd3786"
                        ],
                        [
                          0.5555555555555556,
                          "#d8576b"
                        ],
                        [
                          0.6666666666666666,
                          "#ed7953"
                        ],
                        [
                          0.7777777777777778,
                          "#fb9f3a"
                        ],
                        [
                          0.8888888888888888,
                          "#fdca26"
                        ],
                        [
                          1,
                          "#f0f921"
                        ]
                      ]
                    },
                    "colorway": [
                      "#636efa",
                      "#EF553B",
                      "#00cc96",
                      "#ab63fa",
                      "#FFA15A",
                      "#19d3f3",
                      "#FF6692",
                      "#B6E880",
                      "#FF97FF",
                      "#FECB52"
                    ],
                    "font": {
                      "color": "#2a3f5f"
                    },
                    "geo": {
                      "bgcolor": "white",
                      "lakecolor": "white",
                      "landcolor": "#E5ECF6",
                      "showlakes": true,
                      "showland": true,
                      "subunitcolor": "white"
                    },
                    "hoverlabel": {
                      "align": "left"
                    },
                    "hovermode": "closest",
                    "mapbox": {
                      "style": "light"
                    },
                    "paper_bgcolor": "white",
                    "plot_bgcolor": "#E5ECF6",
                    "polar": {
                      "angularaxis": {
                        "gridcolor": "white",
                        "linecolor": "white",
                        "ticks": ""
                      },
                      "bgcolor": "#E5ECF6",
                      "radialaxis": {
                        "gridcolor": "white",
                        "linecolor": "white",
                        "ticks": ""
                      }
                    },
                    "scene": {
                      "xaxis": {
                        "backgroundcolor": "#E5ECF6",
                        "gridcolor": "white",
                        "gridwidth": 2,
                        "linecolor": "white",
                        "showbackground": true,
                        "ticks": "",
                        "zerolinecolor": "white"
                      },
                      "yaxis": {
                        "backgroundcolor": "#E5ECF6",
                        "gridcolor": "white",
                        "gridwidth": 2,
                        "linecolor": "white",
                        "showbackground": true,
                        "ticks": "",
                        "zerolinecolor": "white"
                      },
                      "zaxis": {
                        "backgroundcolor": "#E5ECF6",
                        "gridcolor": "white",
                        "gridwidth": 2,
                        "linecolor": "white",
                        "showbackground": true,
                        "ticks": "",
                        "zerolinecolor": "white"
                      }
                    },
                    "shapedefaults": {
                      "line": {
                        "color": "#2a3f5f"
                      }
                    },
                    "ternary": {
                      "aaxis": {
                        "gridcolor": "white",
                        "linecolor": "white",
                        "ticks": ""
                      },
                      "baxis": {
                        "gridcolor": "white",
                        "linecolor": "white",
                        "ticks": ""
                      },
                      "bgcolor": "#E5ECF6",
                      "caxis": {
                        "gridcolor": "white",
                        "linecolor": "white",
                        "ticks": ""
                      }
                    },
                    "title": {
                      "x": 0.05
                    },
                    "xaxis": {
                      "automargin": true,
                      "gridcolor": "white",
                      "linecolor": "white",
                      "ticks": "",
                      "title": {
                        "standoff": 15
                      },
                      "zerolinecolor": "white",
                      "zerolinewidth": 2
                    },
                    "yaxis": {
                      "automargin": true,
                      "gridcolor": "white",
                      "linecolor": "white",
                      "ticks": "",
                      "title": {
                        "standoff": 15
                      },
                      "zerolinecolor": "white",
                      "zerolinewidth": 2
                    }
                  }
                },
                "title": {
                  "text": "Number of Prizes Awarded per Category"
                },
                "xaxis": {
                  "anchor": "y",
                  "domain": [
                    0,
                    1
                  ],
                  "title": {
                    "text": "Categories"
                  }
                },
                "yaxis": {
                  "anchor": "x",
                  "domain": [
                    0,
                    1
                  ],
                  "title": {
                    "text": "Number of Winners"
                  }
                }
              }
            }
          },
          "metadata": {},
          "output_type": "display_data"
        }
      ],
      "source": [
        "category_data = df_data.category.value_counts()\n",
        "v_bar = px.bar(x=category_data.index,\n",
        "               y=category_data.values,\n",
        "               color=category_data.values,\n",
        "               title=\"Number of Prizes Awarded per Category\")\n",
        "v_bar.update_layout(xaxis_title=\"Categories\",\n",
        "                    \n",
        "                    yaxis_title=\"Number of Winners\")\n",
        "v_bar.show()\n"
      ]
    },
    {
      "cell_type": "code",
      "execution_count": null,
      "metadata": {
        "id": "BhweS8X1FmuL"
      },
      "outputs": [],
      "source": []
    },
    {
      "cell_type": "markdown",
      "metadata": {},
      "source": []
    },
    {
      "cell_type": "code",
      "execution_count": null,
      "metadata": {
        "id": "MDvvaUHiFoSS"
      },
      "outputs": [],
      "source": []
    },
    {
      "cell_type": "markdown",
      "metadata": {
        "id": "nlISAxfXo7L5"
      },
      "source": [
        "**Challenge**: \n",
        "* When was the first prize in the field of Economics awarded?\n",
        "* Who did the prize go to?"
      ]
    },
    {
      "cell_type": "code",
      "execution_count": 18,
      "metadata": {
        "id": "ndzQ8lz6FpSG"
      },
      "outputs": [
        {
          "data": {
            "text/html": [
              "<div>\n",
              "<style scoped>\n",
              "    .dataframe tbody tr th:only-of-type {\n",
              "        vertical-align: middle;\n",
              "    }\n",
              "\n",
              "    .dataframe tbody tr th {\n",
              "        vertical-align: top;\n",
              "    }\n",
              "\n",
              "    .dataframe thead th {\n",
              "        text-align: right;\n",
              "    }\n",
              "</style>\n",
              "<table border=\"1\" class=\"dataframe\">\n",
              "  <thead>\n",
              "    <tr style=\"text-align: right;\">\n",
              "      <th></th>\n",
              "      <th>year</th>\n",
              "      <th>category</th>\n",
              "      <th>prize</th>\n",
              "      <th>motivation</th>\n",
              "      <th>prize_share</th>\n",
              "      <th>laureate_type</th>\n",
              "      <th>full_name</th>\n",
              "      <th>birth_date</th>\n",
              "      <th>birth_city</th>\n",
              "      <th>birth_country</th>\n",
              "      <th>birth_country_current</th>\n",
              "      <th>sex</th>\n",
              "      <th>organization_name</th>\n",
              "      <th>organization_city</th>\n",
              "      <th>organization_country</th>\n",
              "      <th>ISO</th>\n",
              "      <th>share_pct</th>\n",
              "    </tr>\n",
              "  </thead>\n",
              "  <tbody>\n",
              "    <tr>\n",
              "      <th>393</th>\n",
              "      <td>1969</td>\n",
              "      <td>Economics</td>\n",
              "      <td>The Sveriges Riksbank Prize in Economic Scienc...</td>\n",
              "      <td>\"for having developed and applied dynamic mode...</td>\n",
              "      <td>1/2</td>\n",
              "      <td>Individual</td>\n",
              "      <td>Jan Tinbergen</td>\n",
              "      <td>1903-04-12</td>\n",
              "      <td>the Hague</td>\n",
              "      <td>Netherlands</td>\n",
              "      <td>Netherlands</td>\n",
              "      <td>Male</td>\n",
              "      <td>The Netherlands School of Economics</td>\n",
              "      <td>Rotterdam</td>\n",
              "      <td>Netherlands</td>\n",
              "      <td>NLD</td>\n",
              "      <td>0.50</td>\n",
              "    </tr>\n",
              "    <tr>\n",
              "      <th>394</th>\n",
              "      <td>1969</td>\n",
              "      <td>Economics</td>\n",
              "      <td>The Sveriges Riksbank Prize in Economic Scienc...</td>\n",
              "      <td>\"for having developed and applied dynamic mode...</td>\n",
              "      <td>1/2</td>\n",
              "      <td>Individual</td>\n",
              "      <td>Ragnar Frisch</td>\n",
              "      <td>1895-03-03</td>\n",
              "      <td>Oslo</td>\n",
              "      <td>Norway</td>\n",
              "      <td>Norway</td>\n",
              "      <td>Male</td>\n",
              "      <td>University of Oslo</td>\n",
              "      <td>Oslo</td>\n",
              "      <td>Norway</td>\n",
              "      <td>NOR</td>\n",
              "      <td>0.50</td>\n",
              "    </tr>\n",
              "    <tr>\n",
              "      <th>402</th>\n",
              "      <td>1970</td>\n",
              "      <td>Economics</td>\n",
              "      <td>The Sveriges Riksbank Prize in Economic Scienc...</td>\n",
              "      <td>\"for the scientific work through which he has ...</td>\n",
              "      <td>1/1</td>\n",
              "      <td>Individual</td>\n",
              "      <td>Paul A. Samuelson</td>\n",
              "      <td>1915-05-15</td>\n",
              "      <td>Gary, IN</td>\n",
              "      <td>United States of America</td>\n",
              "      <td>United States of America</td>\n",
              "      <td>Male</td>\n",
              "      <td>Massachusetts Institute of Technology (MIT)</td>\n",
              "      <td>Cambridge, MA</td>\n",
              "      <td>United States of America</td>\n",
              "      <td>USA</td>\n",
              "      <td>1.00</td>\n",
              "    </tr>\n",
              "  </tbody>\n",
              "</table>\n",
              "</div>"
            ],
            "text/plain": [
              "     year   category                                              prize  \\\n",
              "393  1969  Economics  The Sveriges Riksbank Prize in Economic Scienc...   \n",
              "394  1969  Economics  The Sveriges Riksbank Prize in Economic Scienc...   \n",
              "402  1970  Economics  The Sveriges Riksbank Prize in Economic Scienc...   \n",
              "\n",
              "                                            motivation prize_share  \\\n",
              "393  \"for having developed and applied dynamic mode...         1/2   \n",
              "394  \"for having developed and applied dynamic mode...         1/2   \n",
              "402  \"for the scientific work through which he has ...         1/1   \n",
              "\n",
              "    laureate_type          full_name birth_date birth_city  \\\n",
              "393    Individual      Jan Tinbergen 1903-04-12  the Hague   \n",
              "394    Individual      Ragnar Frisch 1895-03-03       Oslo   \n",
              "402    Individual  Paul A. Samuelson 1915-05-15   Gary, IN   \n",
              "\n",
              "                birth_country     birth_country_current   sex  \\\n",
              "393               Netherlands               Netherlands  Male   \n",
              "394                    Norway                    Norway  Male   \n",
              "402  United States of America  United States of America  Male   \n",
              "\n",
              "                               organization_name organization_city  \\\n",
              "393          The Netherlands School of Economics         Rotterdam   \n",
              "394                           University of Oslo              Oslo   \n",
              "402  Massachusetts Institute of Technology (MIT)     Cambridge, MA   \n",
              "\n",
              "         organization_country  ISO  share_pct  \n",
              "393               Netherlands  NLD       0.50  \n",
              "394                    Norway  NOR       0.50  \n",
              "402  United States of America  USA       1.00  "
            ]
          },
          "execution_count": 18,
          "metadata": {},
          "output_type": "execute_result"
        }
      ],
      "source": [
        "economcs_first = df_data[df_data[\"category\"] == \"Economics\"].head(3)\n",
        "economcs_first"
      ]
    },
    {
      "cell_type": "code",
      "execution_count": null,
      "metadata": {
        "id": "_7X079YUFpgn"
      },
      "outputs": [],
      "source": []
    },
    {
      "cell_type": "code",
      "execution_count": null,
      "metadata": {
        "id": "QFcoPbA8FpVK"
      },
      "outputs": [],
      "source": []
    },
    {
      "cell_type": "markdown",
      "metadata": {
        "dc": {
          "key": "31"
        },
        "id": "COqMa0fIo7L7",
        "run_control": {
          "frozen": true
        },
        "tags": [
          "context"
        ]
      },
      "source": [
        "# Male and Female Winners by Category\n",
        "\n",
        "**Challenge**: Create a [plotly bar chart](https://plotly.com/python/bar-charts/) that shows the split between men and women by category. \n",
        "* Hover over the bar chart. How many prizes went to women in Literature compared to Physics?\n",
        "\n",
        "<img src=https://i.imgur.com/od8TfOp.png width=650>"
      ]
    },
    {
      "cell_type": "code",
      "execution_count": 19,
      "metadata": {
        "id": "5rm03TQmFrlk"
      },
      "outputs": [
        {
          "data": {
            "application/vnd.plotly.v1+json": {
              "config": {
                "plotlyServerURL": "https://plot.ly"
              },
              "data": [
                {
                  "alignmentgroup": "True",
                  "hovertemplate": "color=Male<br>x=%{x}<br>y=%{y}<extra></extra>",
                  "legendgroup": "Male",
                  "marker": {
                    "color": "#636efa",
                    "pattern": {
                      "shape": ""
                    }
                  },
                  "name": "Male",
                  "offsetgroup": "Male",
                  "orientation": "v",
                  "showlegend": true,
                  "textposition": "auto",
                  "type": "bar",
                  "x": [
                    "Physics",
                    "Medicine",
                    "Chemistry",
                    "Literature",
                    "Peace",
                    "Economics"
                  ],
                  "xaxis": "x",
                  "y": [
                    212,
                    210,
                    179,
                    101,
                    90,
                    84
                  ],
                  "yaxis": "y"
                },
                {
                  "alignmentgroup": "True",
                  "hovertemplate": "color=Female<br>x=%{x}<br>y=%{y}<extra></extra>",
                  "legendgroup": "Female",
                  "marker": {
                    "color": "#EF553B",
                    "pattern": {
                      "shape": ""
                    }
                  },
                  "name": "Female",
                  "offsetgroup": "Female",
                  "orientation": "v",
                  "showlegend": true,
                  "textposition": "auto",
                  "type": "bar",
                  "x": [
                    "Peace",
                    "Literature",
                    "Medicine",
                    "Chemistry",
                    "Physics",
                    "Economics"
                  ],
                  "xaxis": "x",
                  "y": [
                    17,
                    16,
                    12,
                    7,
                    4,
                    2
                  ],
                  "yaxis": "y"
                }
              ],
              "layout": {
                "barmode": "relative",
                "legend": {
                  "title": {
                    "text": "color"
                  },
                  "tracegroupgap": 0
                },
                "template": {
                  "data": {
                    "bar": [
                      {
                        "error_x": {
                          "color": "#2a3f5f"
                        },
                        "error_y": {
                          "color": "#2a3f5f"
                        },
                        "marker": {
                          "line": {
                            "color": "#E5ECF6",
                            "width": 0.5
                          },
                          "pattern": {
                            "fillmode": "overlay",
                            "size": 10,
                            "solidity": 0.2
                          }
                        },
                        "type": "bar"
                      }
                    ],
                    "barpolar": [
                      {
                        "marker": {
                          "line": {
                            "color": "#E5ECF6",
                            "width": 0.5
                          },
                          "pattern": {
                            "fillmode": "overlay",
                            "size": 10,
                            "solidity": 0.2
                          }
                        },
                        "type": "barpolar"
                      }
                    ],
                    "carpet": [
                      {
                        "aaxis": {
                          "endlinecolor": "#2a3f5f",
                          "gridcolor": "white",
                          "linecolor": "white",
                          "minorgridcolor": "white",
                          "startlinecolor": "#2a3f5f"
                        },
                        "baxis": {
                          "endlinecolor": "#2a3f5f",
                          "gridcolor": "white",
                          "linecolor": "white",
                          "minorgridcolor": "white",
                          "startlinecolor": "#2a3f5f"
                        },
                        "type": "carpet"
                      }
                    ],
                    "choropleth": [
                      {
                        "colorbar": {
                          "outlinewidth": 0,
                          "ticks": ""
                        },
                        "type": "choropleth"
                      }
                    ],
                    "contour": [
                      {
                        "colorbar": {
                          "outlinewidth": 0,
                          "ticks": ""
                        },
                        "colorscale": [
                          [
                            0,
                            "#0d0887"
                          ],
                          [
                            0.1111111111111111,
                            "#46039f"
                          ],
                          [
                            0.2222222222222222,
                            "#7201a8"
                          ],
                          [
                            0.3333333333333333,
                            "#9c179e"
                          ],
                          [
                            0.4444444444444444,
                            "#bd3786"
                          ],
                          [
                            0.5555555555555556,
                            "#d8576b"
                          ],
                          [
                            0.6666666666666666,
                            "#ed7953"
                          ],
                          [
                            0.7777777777777778,
                            "#fb9f3a"
                          ],
                          [
                            0.8888888888888888,
                            "#fdca26"
                          ],
                          [
                            1,
                            "#f0f921"
                          ]
                        ],
                        "type": "contour"
                      }
                    ],
                    "contourcarpet": [
                      {
                        "colorbar": {
                          "outlinewidth": 0,
                          "ticks": ""
                        },
                        "type": "contourcarpet"
                      }
                    ],
                    "heatmap": [
                      {
                        "colorbar": {
                          "outlinewidth": 0,
                          "ticks": ""
                        },
                        "colorscale": [
                          [
                            0,
                            "#0d0887"
                          ],
                          [
                            0.1111111111111111,
                            "#46039f"
                          ],
                          [
                            0.2222222222222222,
                            "#7201a8"
                          ],
                          [
                            0.3333333333333333,
                            "#9c179e"
                          ],
                          [
                            0.4444444444444444,
                            "#bd3786"
                          ],
                          [
                            0.5555555555555556,
                            "#d8576b"
                          ],
                          [
                            0.6666666666666666,
                            "#ed7953"
                          ],
                          [
                            0.7777777777777778,
                            "#fb9f3a"
                          ],
                          [
                            0.8888888888888888,
                            "#fdca26"
                          ],
                          [
                            1,
                            "#f0f921"
                          ]
                        ],
                        "type": "heatmap"
                      }
                    ],
                    "heatmapgl": [
                      {
                        "colorbar": {
                          "outlinewidth": 0,
                          "ticks": ""
                        },
                        "colorscale": [
                          [
                            0,
                            "#0d0887"
                          ],
                          [
                            0.1111111111111111,
                            "#46039f"
                          ],
                          [
                            0.2222222222222222,
                            "#7201a8"
                          ],
                          [
                            0.3333333333333333,
                            "#9c179e"
                          ],
                          [
                            0.4444444444444444,
                            "#bd3786"
                          ],
                          [
                            0.5555555555555556,
                            "#d8576b"
                          ],
                          [
                            0.6666666666666666,
                            "#ed7953"
                          ],
                          [
                            0.7777777777777778,
                            "#fb9f3a"
                          ],
                          [
                            0.8888888888888888,
                            "#fdca26"
                          ],
                          [
                            1,
                            "#f0f921"
                          ]
                        ],
                        "type": "heatmapgl"
                      }
                    ],
                    "histogram": [
                      {
                        "marker": {
                          "pattern": {
                            "fillmode": "overlay",
                            "size": 10,
                            "solidity": 0.2
                          }
                        },
                        "type": "histogram"
                      }
                    ],
                    "histogram2d": [
                      {
                        "colorbar": {
                          "outlinewidth": 0,
                          "ticks": ""
                        },
                        "colorscale": [
                          [
                            0,
                            "#0d0887"
                          ],
                          [
                            0.1111111111111111,
                            "#46039f"
                          ],
                          [
                            0.2222222222222222,
                            "#7201a8"
                          ],
                          [
                            0.3333333333333333,
                            "#9c179e"
                          ],
                          [
                            0.4444444444444444,
                            "#bd3786"
                          ],
                          [
                            0.5555555555555556,
                            "#d8576b"
                          ],
                          [
                            0.6666666666666666,
                            "#ed7953"
                          ],
                          [
                            0.7777777777777778,
                            "#fb9f3a"
                          ],
                          [
                            0.8888888888888888,
                            "#fdca26"
                          ],
                          [
                            1,
                            "#f0f921"
                          ]
                        ],
                        "type": "histogram2d"
                      }
                    ],
                    "histogram2dcontour": [
                      {
                        "colorbar": {
                          "outlinewidth": 0,
                          "ticks": ""
                        },
                        "colorscale": [
                          [
                            0,
                            "#0d0887"
                          ],
                          [
                            0.1111111111111111,
                            "#46039f"
                          ],
                          [
                            0.2222222222222222,
                            "#7201a8"
                          ],
                          [
                            0.3333333333333333,
                            "#9c179e"
                          ],
                          [
                            0.4444444444444444,
                            "#bd3786"
                          ],
                          [
                            0.5555555555555556,
                            "#d8576b"
                          ],
                          [
                            0.6666666666666666,
                            "#ed7953"
                          ],
                          [
                            0.7777777777777778,
                            "#fb9f3a"
                          ],
                          [
                            0.8888888888888888,
                            "#fdca26"
                          ],
                          [
                            1,
                            "#f0f921"
                          ]
                        ],
                        "type": "histogram2dcontour"
                      }
                    ],
                    "mesh3d": [
                      {
                        "colorbar": {
                          "outlinewidth": 0,
                          "ticks": ""
                        },
                        "type": "mesh3d"
                      }
                    ],
                    "parcoords": [
                      {
                        "line": {
                          "colorbar": {
                            "outlinewidth": 0,
                            "ticks": ""
                          }
                        },
                        "type": "parcoords"
                      }
                    ],
                    "pie": [
                      {
                        "automargin": true,
                        "type": "pie"
                      }
                    ],
                    "scatter": [
                      {
                        "fillpattern": {
                          "fillmode": "overlay",
                          "size": 10,
                          "solidity": 0.2
                        },
                        "type": "scatter"
                      }
                    ],
                    "scatter3d": [
                      {
                        "line": {
                          "colorbar": {
                            "outlinewidth": 0,
                            "ticks": ""
                          }
                        },
                        "marker": {
                          "colorbar": {
                            "outlinewidth": 0,
                            "ticks": ""
                          }
                        },
                        "type": "scatter3d"
                      }
                    ],
                    "scattercarpet": [
                      {
                        "marker": {
                          "colorbar": {
                            "outlinewidth": 0,
                            "ticks": ""
                          }
                        },
                        "type": "scattercarpet"
                      }
                    ],
                    "scattergeo": [
                      {
                        "marker": {
                          "colorbar": {
                            "outlinewidth": 0,
                            "ticks": ""
                          }
                        },
                        "type": "scattergeo"
                      }
                    ],
                    "scattergl": [
                      {
                        "marker": {
                          "colorbar": {
                            "outlinewidth": 0,
                            "ticks": ""
                          }
                        },
                        "type": "scattergl"
                      }
                    ],
                    "scattermapbox": [
                      {
                        "marker": {
                          "colorbar": {
                            "outlinewidth": 0,
                            "ticks": ""
                          }
                        },
                        "type": "scattermapbox"
                      }
                    ],
                    "scatterpolar": [
                      {
                        "marker": {
                          "colorbar": {
                            "outlinewidth": 0,
                            "ticks": ""
                          }
                        },
                        "type": "scatterpolar"
                      }
                    ],
                    "scatterpolargl": [
                      {
                        "marker": {
                          "colorbar": {
                            "outlinewidth": 0,
                            "ticks": ""
                          }
                        },
                        "type": "scatterpolargl"
                      }
                    ],
                    "scatterternary": [
                      {
                        "marker": {
                          "colorbar": {
                            "outlinewidth": 0,
                            "ticks": ""
                          }
                        },
                        "type": "scatterternary"
                      }
                    ],
                    "surface": [
                      {
                        "colorbar": {
                          "outlinewidth": 0,
                          "ticks": ""
                        },
                        "colorscale": [
                          [
                            0,
                            "#0d0887"
                          ],
                          [
                            0.1111111111111111,
                            "#46039f"
                          ],
                          [
                            0.2222222222222222,
                            "#7201a8"
                          ],
                          [
                            0.3333333333333333,
                            "#9c179e"
                          ],
                          [
                            0.4444444444444444,
                            "#bd3786"
                          ],
                          [
                            0.5555555555555556,
                            "#d8576b"
                          ],
                          [
                            0.6666666666666666,
                            "#ed7953"
                          ],
                          [
                            0.7777777777777778,
                            "#fb9f3a"
                          ],
                          [
                            0.8888888888888888,
                            "#fdca26"
                          ],
                          [
                            1,
                            "#f0f921"
                          ]
                        ],
                        "type": "surface"
                      }
                    ],
                    "table": [
                      {
                        "cells": {
                          "fill": {
                            "color": "#EBF0F8"
                          },
                          "line": {
                            "color": "white"
                          }
                        },
                        "header": {
                          "fill": {
                            "color": "#C8D4E3"
                          },
                          "line": {
                            "color": "white"
                          }
                        },
                        "type": "table"
                      }
                    ]
                  },
                  "layout": {
                    "annotationdefaults": {
                      "arrowcolor": "#2a3f5f",
                      "arrowhead": 0,
                      "arrowwidth": 1
                    },
                    "autotypenumbers": "strict",
                    "coloraxis": {
                      "colorbar": {
                        "outlinewidth": 0,
                        "ticks": ""
                      }
                    },
                    "colorscale": {
                      "diverging": [
                        [
                          0,
                          "#8e0152"
                        ],
                        [
                          0.1,
                          "#c51b7d"
                        ],
                        [
                          0.2,
                          "#de77ae"
                        ],
                        [
                          0.3,
                          "#f1b6da"
                        ],
                        [
                          0.4,
                          "#fde0ef"
                        ],
                        [
                          0.5,
                          "#f7f7f7"
                        ],
                        [
                          0.6,
                          "#e6f5d0"
                        ],
                        [
                          0.7,
                          "#b8e186"
                        ],
                        [
                          0.8,
                          "#7fbc41"
                        ],
                        [
                          0.9,
                          "#4d9221"
                        ],
                        [
                          1,
                          "#276419"
                        ]
                      ],
                      "sequential": [
                        [
                          0,
                          "#0d0887"
                        ],
                        [
                          0.1111111111111111,
                          "#46039f"
                        ],
                        [
                          0.2222222222222222,
                          "#7201a8"
                        ],
                        [
                          0.3333333333333333,
                          "#9c179e"
                        ],
                        [
                          0.4444444444444444,
                          "#bd3786"
                        ],
                        [
                          0.5555555555555556,
                          "#d8576b"
                        ],
                        [
                          0.6666666666666666,
                          "#ed7953"
                        ],
                        [
                          0.7777777777777778,
                          "#fb9f3a"
                        ],
                        [
                          0.8888888888888888,
                          "#fdca26"
                        ],
                        [
                          1,
                          "#f0f921"
                        ]
                      ],
                      "sequentialminus": [
                        [
                          0,
                          "#0d0887"
                        ],
                        [
                          0.1111111111111111,
                          "#46039f"
                        ],
                        [
                          0.2222222222222222,
                          "#7201a8"
                        ],
                        [
                          0.3333333333333333,
                          "#9c179e"
                        ],
                        [
                          0.4444444444444444,
                          "#bd3786"
                        ],
                        [
                          0.5555555555555556,
                          "#d8576b"
                        ],
                        [
                          0.6666666666666666,
                          "#ed7953"
                        ],
                        [
                          0.7777777777777778,
                          "#fb9f3a"
                        ],
                        [
                          0.8888888888888888,
                          "#fdca26"
                        ],
                        [
                          1,
                          "#f0f921"
                        ]
                      ]
                    },
                    "colorway": [
                      "#636efa",
                      "#EF553B",
                      "#00cc96",
                      "#ab63fa",
                      "#FFA15A",
                      "#19d3f3",
                      "#FF6692",
                      "#B6E880",
                      "#FF97FF",
                      "#FECB52"
                    ],
                    "font": {
                      "color": "#2a3f5f"
                    },
                    "geo": {
                      "bgcolor": "white",
                      "lakecolor": "white",
                      "landcolor": "#E5ECF6",
                      "showlakes": true,
                      "showland": true,
                      "subunitcolor": "white"
                    },
                    "hoverlabel": {
                      "align": "left"
                    },
                    "hovermode": "closest",
                    "mapbox": {
                      "style": "light"
                    },
                    "paper_bgcolor": "white",
                    "plot_bgcolor": "#E5ECF6",
                    "polar": {
                      "angularaxis": {
                        "gridcolor": "white",
                        "linecolor": "white",
                        "ticks": ""
                      },
                      "bgcolor": "#E5ECF6",
                      "radialaxis": {
                        "gridcolor": "white",
                        "linecolor": "white",
                        "ticks": ""
                      }
                    },
                    "scene": {
                      "xaxis": {
                        "backgroundcolor": "#E5ECF6",
                        "gridcolor": "white",
                        "gridwidth": 2,
                        "linecolor": "white",
                        "showbackground": true,
                        "ticks": "",
                        "zerolinecolor": "white"
                      },
                      "yaxis": {
                        "backgroundcolor": "#E5ECF6",
                        "gridcolor": "white",
                        "gridwidth": 2,
                        "linecolor": "white",
                        "showbackground": true,
                        "ticks": "",
                        "zerolinecolor": "white"
                      },
                      "zaxis": {
                        "backgroundcolor": "#E5ECF6",
                        "gridcolor": "white",
                        "gridwidth": 2,
                        "linecolor": "white",
                        "showbackground": true,
                        "ticks": "",
                        "zerolinecolor": "white"
                      }
                    },
                    "shapedefaults": {
                      "line": {
                        "color": "#2a3f5f"
                      }
                    },
                    "ternary": {
                      "aaxis": {
                        "gridcolor": "white",
                        "linecolor": "white",
                        "ticks": ""
                      },
                      "baxis": {
                        "gridcolor": "white",
                        "linecolor": "white",
                        "ticks": ""
                      },
                      "bgcolor": "#E5ECF6",
                      "caxis": {
                        "gridcolor": "white",
                        "linecolor": "white",
                        "ticks": ""
                      }
                    },
                    "title": {
                      "x": 0.05
                    },
                    "xaxis": {
                      "automargin": true,
                      "gridcolor": "white",
                      "linecolor": "white",
                      "ticks": "",
                      "title": {
                        "standoff": 15
                      },
                      "zerolinecolor": "white",
                      "zerolinewidth": 2
                    },
                    "yaxis": {
                      "automargin": true,
                      "gridcolor": "white",
                      "linecolor": "white",
                      "ticks": "",
                      "title": {
                        "standoff": 15
                      },
                      "zerolinecolor": "white",
                      "zerolinewidth": 2
                    }
                  }
                },
                "title": {
                  "text": "Number of Prizes Awarded per Category"
                },
                "xaxis": {
                  "anchor": "y",
                  "domain": [
                    0,
                    1
                  ],
                  "title": {
                    "text": "Categories"
                  }
                },
                "yaxis": {
                  "anchor": "x",
                  "domain": [
                    0,
                    1
                  ],
                  "title": {
                    "text": "Number of Winners"
                  }
                }
              }
            }
          },
          "metadata": {},
          "output_type": "display_data"
        }
      ],
      "source": [
        "cat_men_women = df_data.groupby([\"category\",\"sex\"],as_index=False).agg({\"prize\" : \"count\"})\n",
        "cat_men_women.sort_values('prize', ascending=False, inplace=True)\n",
        "v_bar_split  = px.bar(x=cat_men_women.category,\n",
        "               y=cat_men_women.prize,\n",
        "               color=cat_men_women.sex,\n",
        "               title=\"Number of Prizes Awarded per Category\")\n",
        "v_bar_split .update_layout(xaxis_title=\"Categories\",\n",
        "                    \n",
        "                    yaxis_title=\"Number of Winners\")\n",
        "v_bar_split .show()\n"
      ]
    },
    {
      "cell_type": "code",
      "execution_count": null,
      "metadata": {
        "id": "XTrMUbBmFroT"
      },
      "outputs": [],
      "source": []
    },
    {
      "cell_type": "code",
      "execution_count": null,
      "metadata": {
        "id": "epWwbAi4FreH"
      },
      "outputs": [],
      "source": []
    },
    {
      "cell_type": "markdown",
      "metadata": {
        "id": "CpHaV-ZDo7MD"
      },
      "source": [
        "# Number of Prizes Awarded Over Time\n",
        "\n",
        "**Challenge**: Are more prizes awarded recently than when the prize was first created? Show the trend in awards visually. \n",
        "* Count the number of prizes awarded every year. \n",
        "* Create a 5 year rolling average of the number of prizes (Hint: see previous lessons analysing Google Trends).\n",
        "* Using Matplotlib superimpose the rolling average on a scatter plot.\n",
        "* Show a tick mark on the x-axis for every 5 years from 1900 to 2020. (Hint: you'll need to use NumPy). \n",
        "\n",
        "<img src=https://i.imgur.com/4jqYuWC.png width=650>\n",
        "\n",
        "* Use the [named colours](https://matplotlib.org/3.1.0/gallery/color/named_colors.html) to draw the data points in `dogerblue` while the rolling average is coloured in `crimson`. \n",
        "\n",
        "<img src=https://i.imgur.com/u3RlcJn.png width=350>\n",
        "\n",
        "* Looking at the chart, did the first and second world wars have an impact on the number of prizes being given out? \n",
        "* What could be the reason for the trend in the chart?\n"
      ]
    },
    {
      "cell_type": "code",
      "execution_count": 20,
      "metadata": {
        "id": "gD316Xp5Ftsj"
      },
      "outputs": [
        {
          "data": {
            "image/png": "[encoded data removed]",
            "text/plain": [
              "<Figure size 3200x1600 with 1 Axes>"
            ]
          },
          "metadata": {},
          "output_type": "display_data"
        }
      ],
      "source": [
        "prizes_per_year = df_data['year'].value_counts().sort_index()\n",
        "rolling_avg = prizes_per_year.rolling(window=5).mean()\n",
        "\n",
        "plt.figure(figsize=(16,8),dpi=200)\n",
        "plt.title('Number of Nobel Prizes Awarded per Year', fontsize=18)\n",
        "plt.yticks(fontsize=14)\n",
        "plt.xticks(ticks=np.arange(1900,2020,5),\n",
        "           fontsize=14,\n",
        "           rotation=45)\n",
        "\n",
        "ax = plt.gca()\n",
        "ax.set_xlim(1900, 2020)\n",
        "\n",
        "ax.scatter(x=prizes_per_year.index,\n",
        "            y=prizes_per_year.values,\n",
        "            c='dodgerblue',\n",
        "            alpha=0.7,\n",
        "            s=100)\n",
        "ax.plot(prizes_per_year.index,\n",
        "         rolling_avg.values,\n",
        "         c=\"crimson\",\n",
        "         linewidth=3)\n",
        "plt.show()"
      ]
    },
    {
      "cell_type": "code",
      "execution_count": null,
      "metadata": {
        "id": "Jjm3G7VHFtx1"
      },
      "outputs": [],
      "source": []
    },
    {
      "cell_type": "code",
      "execution_count": null,
      "metadata": {
        "id": "NgVzgknLFtvP"
      },
      "outputs": [],
      "source": []
    },
    {
      "cell_type": "code",
      "execution_count": null,
      "metadata": {
        "id": "mWQImXL3FtkO"
      },
      "outputs": [],
      "source": []
    },
    {
      "cell_type": "markdown",
      "metadata": {
        "id": "gZWAAkdJo7MJ"
      },
      "source": [
        "# Are More Prizes Shared Than Before?\n",
        "\n",
        "**Challenge**: Investigate if more prizes are shared than before. \n",
        "\n",
        "* Calculate the average prize share of the winners on a year by year basis.\n",
        "* Calculate the 5 year rolling average of the percentage share.\n",
        "* Copy-paste the cell from the chart you created above.\n",
        "* Modify the code to add a secondary axis to your Matplotlib chart.\n",
        "* Plot the rolling average of the prize share on this chart. \n",
        "* See if you can invert the secondary y-axis to make the relationship even more clear. "
      ]
    },
    {
      "cell_type": "code",
      "execution_count": null,
      "metadata": {
        "id": "If8-ZFoOFwph"
      },
      "outputs": [],
      "source": []
    },
    {
      "cell_type": "code",
      "execution_count": null,
      "metadata": {
        "id": "QRen05_6Fw0y"
      },
      "outputs": [],
      "source": []
    },
    {
      "cell_type": "code",
      "execution_count": null,
      "metadata": {
        "id": "4kLSGNPkFxPd"
      },
      "outputs": [],
      "source": []
    },
    {
      "cell_type": "code",
      "execution_count": null,
      "metadata": {
        "id": "nPBzjo_gFwsb"
      },
      "outputs": [],
      "source": []
    },
    {
      "cell_type": "code",
      "execution_count": null,
      "metadata": {
        "id": "207bX8O7Fwih"
      },
      "outputs": [],
      "source": []
    },
    {
      "cell_type": "markdown",
      "metadata": {
        "dc": {
          "key": "3"
        },
        "id": "L32lWu0Oo7MM",
        "run_control": {
          "frozen": true
        },
        "tags": [
          "context"
        ]
      },
      "source": [
        "# The Countries with the Most Nobel Prizes"
      ]
    },
    {
      "cell_type": "markdown",
      "metadata": {
        "id": "UipIHU54o7MN"
      },
      "source": [
        "**Challenge**: \n",
        "* Create a Pandas DataFrame called `top20_countries` that has the two columns. The `prize` column should contain the total number of prizes won. \n",
        "\n",
        "<img src=https://i.imgur.com/6HM8rfB.png width=350>\n",
        "\n",
        "* Is it best to use `birth_country`, `birth_country_current` or `organization_country`? \n",
        "* What are some potential problems when using `birth_country` or any of the others? Which column is the least problematic? \n",
        "* Then use plotly to create a horizontal bar chart showing the number of prizes won by each country. Here's what you're after:\n",
        "\n",
        "<img src=https://i.imgur.com/agcJdRS.png width=750>\n",
        "\n",
        "* What is the ranking for the top 20 countries in terms of the number of prizes?"
      ]
    },
    {
      "cell_type": "code",
      "execution_count": null,
      "metadata": {
        "id": "cscYI4BvFzjC"
      },
      "outputs": [],
      "source": []
    },
    {
      "cell_type": "code",
      "execution_count": null,
      "metadata": {
        "id": "Zl2rqcVKFz9P"
      },
      "outputs": [],
      "source": []
    },
    {
      "cell_type": "code",
      "execution_count": null,
      "metadata": {
        "id": "ivVVhHa1F20p"
      },
      "outputs": [],
      "source": []
    },
    {
      "cell_type": "code",
      "execution_count": null,
      "metadata": {
        "id": "eAFgX9_2Fz2W"
      },
      "outputs": [],
      "source": []
    },
    {
      "cell_type": "code",
      "execution_count": null,
      "metadata": {
        "id": "botUfiYDFzbL"
      },
      "outputs": [],
      "source": []
    },
    {
      "cell_type": "markdown",
      "metadata": {
        "id": "uNTvKsrzo7MR"
      },
      "source": [
        "# Use a Choropleth Map to Show the Number of Prizes Won by Country\n",
        "\n",
        "* Create this choropleth map using [the plotly documentation](https://plotly.com/python/choropleth-maps/):\n",
        "\n",
        "<img src=https://i.imgur.com/s4lqYZH.png>\n",
        "\n",
        "* Experiment with [plotly's available colours](https://plotly.com/python/builtin-colorscales/). I quite like the sequential colour `matter` on this map. \n",
        "\n",
        "Hint: You'll need to use a 3 letter country code for each country. \n"
      ]
    },
    {
      "cell_type": "code",
      "execution_count": null,
      "metadata": {
        "id": "2YT8MN4sF4Hs"
      },
      "outputs": [],
      "source": []
    },
    {
      "cell_type": "code",
      "execution_count": null,
      "metadata": {
        "id": "4O5jNBUYF4pD"
      },
      "outputs": [],
      "source": []
    },
    {
      "cell_type": "code",
      "execution_count": null,
      "metadata": {
        "id": "18QSc3EzF43z"
      },
      "outputs": [],
      "source": []
    },
    {
      "cell_type": "code",
      "execution_count": null,
      "metadata": {
        "id": "GIiWUNoGF4ga"
      },
      "outputs": [],
      "source": []
    },
    {
      "cell_type": "code",
      "execution_count": null,
      "metadata": {
        "id": "B7CgFAhiF3wv"
      },
      "outputs": [],
      "source": []
    },
    {
      "cell_type": "markdown",
      "metadata": {
        "id": "hNB-HUw0o7MU"
      },
      "source": [
        "# In Which Categories are the Different Countries Winning Prizes? \n",
        "\n",
        "**Challenge**: See if you can divide up the plotly bar chart you created above to show the which categories made up the total number of prizes. Here's what you're aiming for:\n",
        "\n",
        "<img src=https://i.imgur.com/iGaIKCL.png>\n",
        "\n",
        "* In which category are Germany and Japan the weakest compared to the United States?\n",
        "* In which category does Germany have more prizes than the UK?\n",
        "* In which categories does France have more prizes than Germany?\n",
        "* Which category makes up most of Australia's nobel prizes?\n",
        "* Which category makes up half of the prizes in the Netherlands?\n",
        "* Does the United States have more prizes in Economics than all of France? What about in Physics or Medicine?\n",
        "\n",
        "\n",
        "The hard part is preparing the data for this chart! \n",
        "\n",
        "\n",
        "*Hint*: Take a two-step approach. The first step is grouping the data by country and category. Then you can create a DataFrame that looks something like this:\n",
        "\n",
        "<img src=https://i.imgur.com/VKjzKa1.png width=450>\n"
      ]
    },
    {
      "cell_type": "code",
      "execution_count": null,
      "metadata": {
        "id": "_BuNdpmEF7wR"
      },
      "outputs": [],
      "source": []
    },
    {
      "cell_type": "code",
      "execution_count": null,
      "metadata": {
        "id": "l5eYtGIXF8Mn"
      },
      "outputs": [],
      "source": []
    },
    {
      "cell_type": "code",
      "execution_count": null,
      "metadata": {
        "id": "AJO038bkF8YK"
      },
      "outputs": [],
      "source": []
    },
    {
      "cell_type": "code",
      "execution_count": null,
      "metadata": {
        "id": "8H2OTr_OF8Jh"
      },
      "outputs": [],
      "source": []
    },
    {
      "cell_type": "code",
      "execution_count": null,
      "metadata": {
        "id": "ZTbCsyRKF7yx"
      },
      "outputs": [],
      "source": []
    },
    {
      "cell_type": "code",
      "execution_count": null,
      "metadata": {
        "id": "DhE2gyZhF7oQ"
      },
      "outputs": [],
      "source": []
    },
    {
      "cell_type": "markdown",
      "metadata": {
        "dc": {
          "key": "10"
        },
        "id": "Ic-LN14bo7Mb",
        "run_control": {
          "frozen": true
        },
        "tags": [
          "context"
        ]
      },
      "source": [
        "### Number of Prizes Won by Each Country Over Time\n",
        "\n",
        "* When did the United States eclipse every other country in terms of the number of prizes won? \n",
        "* Which country or countries were leading previously?\n",
        "* Calculate the cumulative number of prizes won by each country in every year. Again, use the `birth_country_current` of the winner to calculate this. \n",
        "* Create a [plotly line chart](https://plotly.com/python/line-charts/) where each country is a coloured line. "
      ]
    },
    {
      "cell_type": "code",
      "execution_count": null,
      "metadata": {
        "id": "VA7NVxrwF-1d"
      },
      "outputs": [],
      "source": []
    },
    {
      "cell_type": "code",
      "execution_count": null,
      "metadata": {
        "id": "_IWG-gi0F_O4"
      },
      "outputs": [],
      "source": []
    },
    {
      "cell_type": "code",
      "execution_count": null,
      "metadata": {
        "id": "4wj1M8NpF_dq"
      },
      "outputs": [],
      "source": []
    },
    {
      "cell_type": "code",
      "execution_count": null,
      "metadata": {
        "id": "ncYD0dKCF_IK"
      },
      "outputs": [],
      "source": []
    },
    {
      "cell_type": "code",
      "execution_count": null,
      "metadata": {
        "id": "7tnA9YoOF_1L"
      },
      "outputs": [],
      "source": []
    },
    {
      "cell_type": "code",
      "execution_count": null,
      "metadata": {
        "id": "F6B7oCPTF-sV"
      },
      "outputs": [],
      "source": []
    },
    {
      "cell_type": "markdown",
      "metadata": {
        "id": "J7WUUZpUo7Mj"
      },
      "source": [
        "# What are the Top Research Organisations?\n",
        "\n",
        "**Challenge**: Create a bar chart showing the organisations affiliated with the Nobel laureates. It should looks something like this:\n",
        "\n",
        "<img src=https://i.imgur.com/zZihj2p.png width=600>\n",
        "\n",
        "* Which organisations make up the top 20?\n",
        "* How many Nobel prize winners are affiliated with the University of Chicago and Harvard University?"
      ]
    },
    {
      "cell_type": "code",
      "execution_count": null,
      "metadata": {
        "id": "2jdCXcqcGCxL"
      },
      "outputs": [],
      "source": []
    },
    {
      "cell_type": "code",
      "execution_count": null,
      "metadata": {
        "id": "Db3Zll65GDQd"
      },
      "outputs": [],
      "source": []
    },
    {
      "cell_type": "code",
      "execution_count": null,
      "metadata": {
        "id": "rRDeI_jjGDII"
      },
      "outputs": [],
      "source": []
    },
    {
      "cell_type": "code",
      "execution_count": null,
      "metadata": {
        "id": "zH4Bko6UGEc3"
      },
      "outputs": [],
      "source": []
    },
    {
      "cell_type": "code",
      "execution_count": null,
      "metadata": {
        "id": "C_wDWepRGCpL"
      },
      "outputs": [],
      "source": []
    },
    {
      "cell_type": "markdown",
      "metadata": {
        "id": "d9AXIRyNo7Mp"
      },
      "source": [
        "# Which Cities Make the Most Discoveries? \n",
        "\n",
        "Where do major discoveries take place?  \n",
        "\n",
        "**Challenge**: \n",
        "* Create another plotly bar chart graphing the top 20 organisation cities of the research institutions associated with a Nobel laureate. \n",
        "* Where is the number one hotspot for discoveries in the world?\n",
        "* Which city in Europe has had the most discoveries?"
      ]
    },
    {
      "cell_type": "code",
      "execution_count": null,
      "metadata": {
        "id": "sHYI5FLAGFRh"
      },
      "outputs": [],
      "source": []
    },
    {
      "cell_type": "code",
      "execution_count": null,
      "metadata": {
        "id": "rsI7xC0sGFOb"
      },
      "outputs": [],
      "source": []
    },
    {
      "cell_type": "markdown",
      "metadata": {
        "id": "R6UQrcixo7Mm"
      },
      "source": [
        "# Where are Nobel Laureates Born? Chart the Laureate Birth Cities \n",
        "\n",
        "**Challenge**: \n",
        "* Create a plotly bar chart graphing the top 20 birth cities of Nobel laureates. \n",
        "* Use a named colour scale called `Plasma` for the chart.\n",
        "* What percentage of the United States prizes came from Nobel laureates born in New York? \n",
        "* How many Nobel laureates were born in London, Paris and Vienna? \n",
        "* Out of the top 5 cities, how many are in the United States?\n"
      ]
    },
    {
      "cell_type": "code",
      "execution_count": null,
      "metadata": {
        "id": "JukPm21GGG9i"
      },
      "outputs": [],
      "source": []
    },
    {
      "cell_type": "code",
      "execution_count": null,
      "metadata": {
        "id": "t14pn2kxGG2C"
      },
      "outputs": [],
      "source": []
    },
    {
      "cell_type": "markdown",
      "metadata": {
        "id": "YN6KxT5oo7Mq"
      },
      "source": [
        "# Plotly Sunburst Chart: Combine Country, City, and Organisation\n",
        "\n",
        "**Challenge**: \n",
        "\n",
        "* Create a DataFrame that groups the number of prizes by organisation. \n",
        "* Then use the [plotly documentation to create a sunburst chart](https://plotly.com/python/sunburst-charts/)\n",
        "* Click around in your chart, what do you notice about Germany and France? \n",
        "\n",
        "\n",
        "Here's what you're aiming for:\n",
        "\n",
        "<img src=https://i.imgur.com/cemX4m5.png width=300>\n",
        "\n"
      ]
    },
    {
      "cell_type": "code",
      "execution_count": null,
      "metadata": {
        "id": "jGOx7MxCGI20"
      },
      "outputs": [],
      "source": []
    },
    {
      "cell_type": "code",
      "execution_count": null,
      "metadata": {
        "id": "l1DPxFgRGJBg"
      },
      "outputs": [],
      "source": []
    },
    {
      "cell_type": "code",
      "execution_count": null,
      "metadata": {
        "id": "BJQoljdqGIu3"
      },
      "outputs": [],
      "source": []
    },
    {
      "cell_type": "markdown",
      "metadata": {
        "id": "PW4jvWFWo7Mv"
      },
      "source": [
        "# Patterns in the Laureate Age at the Time of the Award\n",
        "\n",
        "How Old Are the Laureates When the Win the Prize?\n",
        "\n",
        "**Challenge**: Calculate the age of the laureate in the year of the ceremony and add this as a column called `winning_age` to the `df_data` DataFrame. Hint: you can use [this](https://pandas.pydata.org/pandas-docs/stable/reference/api/pandas.Series.dt.html) to help you. \n",
        "\n"
      ]
    },
    {
      "cell_type": "code",
      "execution_count": null,
      "metadata": {
        "id": "2f4JpfUCGLd2"
      },
      "outputs": [],
      "source": []
    },
    {
      "cell_type": "code",
      "execution_count": null,
      "metadata": {
        "id": "jHkFqlGnGLnf"
      },
      "outputs": [],
      "source": []
    },
    {
      "cell_type": "code",
      "execution_count": null,
      "metadata": {
        "id": "-Ooq0xoPGLV_"
      },
      "outputs": [],
      "source": []
    },
    {
      "cell_type": "markdown",
      "metadata": {
        "dc": {
          "key": "66"
        },
        "id": "09344hnCo7My",
        "run_control": {
          "frozen": true
        },
        "tags": [
          "context"
        ]
      },
      "source": [
        "### Who were the oldest and youngest winners?\n",
        "\n",
        "**Challenge**: \n",
        "* What are the names of the youngest and oldest Nobel laureate? \n",
        "* What did they win the prize for?\n",
        "* What is the average age of a winner?\n",
        "* 75% of laureates are younger than what age when they receive the prize?\n",
        "* Use Seaborn to [create histogram](https://seaborn.pydata.org/generated/seaborn.histplot.html) to visualise the distribution of laureate age at the time of winning. Experiment with the number of `bins` to see how the visualisation changes."
      ]
    },
    {
      "cell_type": "code",
      "execution_count": null,
      "metadata": {
        "id": "IzGfeUyNGNcR"
      },
      "outputs": [],
      "source": []
    },
    {
      "cell_type": "code",
      "execution_count": null,
      "metadata": {
        "id": "inN6ggCUGNUy"
      },
      "outputs": [],
      "source": []
    },
    {
      "cell_type": "markdown",
      "metadata": {
        "id": "UQxMUPddo6fo"
      },
      "source": [
        "### Descriptive Statistics for the Laureate Age at Time of Award\n",
        "\n",
        "* Calculate the descriptive statistics for the age at the time of the award. \n",
        "* Then visualise the distribution in the form of a histogram using [Seaborn's .histplot() function](https://seaborn.pydata.org/generated/seaborn.histplot.html).\n",
        "* Experiment with the `bin` size. Try 10, 20, 30, and 50.  "
      ]
    },
    {
      "cell_type": "code",
      "execution_count": null,
      "metadata": {
        "id": "6vlp5S0WGO98"
      },
      "outputs": [],
      "source": []
    },
    {
      "cell_type": "code",
      "execution_count": null,
      "metadata": {
        "id": "P6cAIrB5GO24"
      },
      "outputs": [],
      "source": []
    },
    {
      "cell_type": "markdown",
      "metadata": {
        "id": "gljdi8sxpkg7"
      },
      "source": [
        "### Age at Time of Award throughout History\n",
        "\n",
        "Are Nobel laureates being nominated later in life than before? Have the ages of laureates at the time of the award increased or decreased over time?\n",
        "\n",
        "**Challenge**\n",
        "\n",
        "* Use Seaborn to [create a .regplot](https://seaborn.pydata.org/generated/seaborn.regplot.html?highlight=regplot#seaborn.regplot) with a trendline.\n",
        "* Set the `lowess` parameter to `True` to show a moving average of the linear fit.\n",
        "* According to the best fit line, how old were Nobel laureates in the years 1900-1940 when they were awarded the prize?\n",
        "* According to the best fit line, what age would it predict for a Nobel laureate in 2020?\n"
      ]
    },
    {
      "cell_type": "code",
      "execution_count": null,
      "metadata": {
        "id": "AjUdtyB9GQ9w"
      },
      "outputs": [],
      "source": []
    },
    {
      "cell_type": "code",
      "execution_count": null,
      "metadata": {
        "id": "B_NsO6aaGQzu"
      },
      "outputs": [],
      "source": []
    },
    {
      "cell_type": "markdown",
      "metadata": {
        "dc": {
          "key": "59"
        },
        "id": "CPFMftF9o7M5",
        "run_control": {
          "frozen": true
        },
        "tags": [
          "context"
        ]
      },
      "source": [
        "### Winning Age Across the Nobel Prize Categories\n",
        "\n",
        "How does the age of laureates vary by category? \n",
        "\n",
        "* Use Seaborn's [`.boxplot()`](https://seaborn.pydata.org/generated/seaborn.boxplot.html?highlight=boxplot#seaborn.boxplot) to show how the mean, quartiles, max, and minimum values vary across categories. Which category has the longest \"whiskers\"? \n",
        "* In which prize category are the average winners the oldest?\n",
        "* In which prize category are the average winners the youngest?"
      ]
    },
    {
      "cell_type": "code",
      "execution_count": null,
      "metadata": {
        "id": "mbpG0Kj5GSxg"
      },
      "outputs": [],
      "source": []
    },
    {
      "cell_type": "code",
      "execution_count": null,
      "metadata": {
        "id": "WiGT3CmuGSqp"
      },
      "outputs": [],
      "source": []
    },
    {
      "cell_type": "markdown",
      "metadata": {
        "id": "M9qE0P4-8i5L"
      },
      "source": [
        "**Challenge**\n",
        "* Now use Seaborn's [`.lmplot()`](https://seaborn.pydata.org/generated/seaborn.lmplot.html?highlight=lmplot#seaborn.lmplot) and the `row` parameter to create 6 separate charts for each prize category. Again set `lowess` to `True`.\n",
        "* What are the winning age trends in each category? \n",
        "* Which category has the age trending up and which category has the age trending down? \n",
        "* Is this `.lmplot()` telling a different story from the `.boxplot()`?\n",
        "* Create another chart with Seaborn. This time use `.lmplot()` to put all 6 categories on the same chart using the `hue` parameter. \n"
      ]
    },
    {
      "cell_type": "code",
      "execution_count": null,
      "metadata": {
        "id": "HcdLGWC7GUb7"
      },
      "outputs": [],
      "source": []
    },
    {
      "cell_type": "code",
      "execution_count": null,
      "metadata": {
        "id": "8HwP_swVGUiq"
      },
      "outputs": [],
      "source": []
    },
    {
      "cell_type": "code",
      "execution_count": null,
      "metadata": {
        "id": "Ml9w1jFjGUTi"
      },
      "outputs": [],
      "source": []
    },
    {
      "cell_type": "code",
      "execution_count": null,
      "metadata": {
        "id": "PJD0-Opko7M_"
      },
      "outputs": [],
      "source": []
    },
    {
      "cell_type": "code",
      "execution_count": null,
      "metadata": {
        "id": "9F9f_2HZo7NA"
      },
      "outputs": [],
      "source": []
    }
  ],
  "metadata": {
    "colab": {
      "name": "Nobel Prize Analysis (start).ipynb",
      "provenance": []
    },
    "kernelspec": {
      "display_name": "Python 3",
      "language": "python",
      "name": "python3"
    },
    "language_info": {
      "codemirror_mode": {
        "name": "ipython",
        "version": 3
      },
      "file_extension": ".py",
      "mimetype": "text/x-python",
      "name": "python",
      "nbconvert_exporter": "python",
      "pygments_lexer": "ipython3",
      "version": "3.11.6"
    }
  },
  "nbformat": 4,
  "nbformat_minor": 0
}
