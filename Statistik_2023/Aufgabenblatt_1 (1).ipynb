{
 "cells": [
  {
   "cell_type": "markdown",
   "id": "e6f82c8c-98a0-4ccd-b3ab-174e2f9d477b",
   "metadata": {},
   "source": [
    "# Aufgabenblatt 1"
   ]
  },
  {
   "cell_type": "markdown",
   "id": "2b9ad599-810d-4972-821d-4b5fd6f9040f",
   "metadata": {},
   "source": [
    " 1. Geben Sie drei Möglichkeiten an, den Vektor (1, 4, 7, 1, 4, 7) zu erzeugen."
   ]
  },
  {
   "cell_type": "code",
   "execution_count": 47,
   "id": "5b3b480e",
   "metadata": {},
   "outputs": [
    {
     "data": {
      "text/html": [
       "<style>\n",
       ".list-inline {list-style: none; margin:0; padding: 0}\n",
       ".list-inline>li {display: inline-block}\n",
       ".list-inline>li:not(:last-child)::after {content: \"\\00b7\"; padding: 0 .5ex}\n",
       "</style>\n",
       "<ol class=list-inline><li>1</li><li>4</li><li>7</li><li>1</li><li>4</li><li>7</li></ol>\n"
      ],
      "text/latex": [
       "\\begin{enumerate*}\n",
       "\\item 1\n",
       "\\item 4\n",
       "\\item 7\n",
       "\\item 1\n",
       "\\item 4\n",
       "\\item 7\n",
       "\\end{enumerate*}\n"
      ],
      "text/markdown": [
       "1. 1\n",
       "2. 4\n",
       "3. 7\n",
       "4. 1\n",
       "5. 4\n",
       "6. 7\n",
       "\n",
       "\n"
      ],
      "text/plain": [
       "[1] 1 4 7 1 4 7"
      ]
     },
     "metadata": {},
     "output_type": "display_data"
    },
    {
     "data": {
      "text/html": [
       "<style>\n",
       ".list-inline {list-style: none; margin:0; padding: 0}\n",
       ".list-inline>li {display: inline-block}\n",
       ".list-inline>li:not(:last-child)::after {content: \"\\00b7\"; padding: 0 .5ex}\n",
       "</style>\n",
       "<ol class=list-inline><li>1</li><li>4</li><li>7</li><li>1</li><li>4</li><li>7</li></ol>\n"
      ],
      "text/latex": [
       "\\begin{enumerate*}\n",
       "\\item 1\n",
       "\\item 4\n",
       "\\item 7\n",
       "\\item 1\n",
       "\\item 4\n",
       "\\item 7\n",
       "\\end{enumerate*}\n"
      ],
      "text/markdown": [
       "1. 1\n",
       "2. 4\n",
       "3. 7\n",
       "4. 1\n",
       "5. 4\n",
       "6. 7\n",
       "\n",
       "\n"
      ],
      "text/plain": [
       "[1] 1 4 7 1 4 7"
      ]
     },
     "metadata": {},
     "output_type": "display_data"
    },
    {
     "data": {
      "text/html": [
       "<style>\n",
       ".list-inline {list-style: none; margin:0; padding: 0}\n",
       ".list-inline>li {display: inline-block}\n",
       ".list-inline>li:not(:last-child)::after {content: \"\\00b7\"; padding: 0 .5ex}\n",
       "</style>\n",
       "<ol class=list-inline><li>1</li><li>4</li><li>7</li><li>1</li><li>4</li><li>7</li></ol>\n"
      ],
      "text/latex": [
       "\\begin{enumerate*}\n",
       "\\item 1\n",
       "\\item 4\n",
       "\\item 7\n",
       "\\item 1\n",
       "\\item 4\n",
       "\\item 7\n",
       "\\end{enumerate*}\n"
      ],
      "text/markdown": [
       "1. 1\n",
       "2. 4\n",
       "3. 7\n",
       "4. 1\n",
       "5. 4\n",
       "6. 7\n",
       "\n",
       "\n"
      ],
      "text/plain": [
       "[1] 1 4 7 1 4 7"
      ]
     },
     "metadata": {},
     "output_type": "display_data"
    }
   ],
   "source": [
    "vektor_1 <- rep(c(1, 4, 7),times=2)\n",
    "vektor_2 <- c(1, 4, 7, 1, 4, 7)\n",
    "vector_3 <- rep(seq(from = 1, to= 7, by= 3),times=2)\n",
    "vektor_1 #first\n",
    "vektor_2 #second\n",
    "vector_3 #third"
   ]
  },
  {
   "cell_type": "code",
   "execution_count": null,
   "id": "bce237c3",
   "metadata": {},
   "outputs": [],
   "source": []
  },
  {
   "cell_type": "code",
   "execution_count": 6,
   "metadata": {},
   "outputs": [
    {
     "data": {
      "text/html": [
       "0.00819753592459616"
      ],
      "text/latex": [
       "0.00819753592459616"
      ],
      "text/markdown": [
       "0.00819753592459616"
      ],
      "text/plain": [
       "[1] 0.008197536"
      ]
     },
     "metadata": {},
     "output_type": "display_data"
    }
   ],
   "source": [
    "1 - pnorm(2.4,0,1)\n"
   ]
  },
  {
   "cell_type": "markdown",
   "id": "ce5f2dbf-e693-4093-aaf8-b70d72eb9a8c",
   "metadata": {},
   "source": [
    "2. Erzeugen Sie einen Vektor namens Groesse mit den Werten (S, M, L) und einen\n",
    "weiteren Vektor namens Anzahl mit den Werten (130,210,170). <br>\n",
    "a) Zeichnen Sie zwei zugehörige Histogramme, einmal mit den aboluten und mit den relativen Häufigkeiten.<br>\n",
    "b) Ersetzen Sie die Labels (S, M, L) durch (34, 38, 42) und machen Sie das gleiche wie in a). <br>\n",
    "c) Berechnen Sie drei statistische Kennwerte mithilfe R Funktionen. <br>\n",
    "d) Fügen Sie die beiden Variablen Groesse und Anzahl zu einem Data Frame namens Daten\n",
    "zusammen."
   ]
  },
  {
   "cell_type": "code",
   "execution_count": 55,
   "id": "6330b44a",
   "metadata": {},
   "outputs": [
    {
     "data": {
      "text/plain": [
       "   Min. 1st Qu.  Median    Mean 3rd Qu.    Max. \n",
       "    130     150     170     170     190     210 "
      ]
     },
     "metadata": {},
     "output_type": "display_data"
    },
    {
     "data": {
      "image/png": "[encoded data removed]",
      "text/plain": [
       "Plot with title \"Histogram mit absoluten Häufigkeiten\""
      ]
     },
     "metadata": {
      "image/png": {
       "height": 420,
       "width": 420
      }
     },
     "output_type": "display_data"
    },
    {
     "data": {
      "image/png": "[encoded data removed]",
      "text/plain": [
       "Plot with title \"Histogram mit relativen Häufigkeiten\""
      ]
     },
     "metadata": {
      "image/png": {
       "height": 420,
       "width": 420
      }
     },
     "output_type": "display_data"
    }
   ],
   "source": [
    "# Vektoren erstellen\n",
    "Groesse <- c(\"S\", \"M\", \"L\")\n",
    "Anzahl <- c(130, 210, 170)\n",
    "\n",
    "# Absolute Häufigkeiten\n",
    "hist(Anzahl, main = \"Histogram mit absoluten Häufigkeiten\", xlab = \"Anzahl\", ylab = \"Absolute Häufigkeit\", col = \"blue\")\n",
    "\n",
    "# Relative Häufigkeiten\n",
    "hist(Anzahl, main = \"Histogram mit relativen Häufigkeiten\", xlab = \"Anzahl\", ylab = \"Relative Häufigkeit\", col = \"green\", freq = FALSE)\n"
   ]
  },
  {
   "cell_type": "code",
   "execution_count": 54,
   "id": "f02fe09b",
   "metadata": {},
   "outputs": [
    {
     "data": {
      "image/png": "[encoded data removed]",
      "text/plain": [
       "Plot with title \"Histogram mit relativen Häufigkeiten\""
      ]
     },
     "metadata": {
      "image/png": {
       "height": 420,
       "width": 420
      }
     },
     "output_type": "display_data"
    },
    {
     "data": {
      "image/png": "[encoded data removed]",
      "text/plain": [
       "Plot with title \"Histogram mit relativen Häufigkeiten\""
      ]
     },
     "metadata": {
      "image/png": {
       "height": 420,
       "width": 420
      }
     },
     "output_type": "display_data"
    }
   ],
   "source": [
    "Groesse <- c(34, 38, 42)\n",
    "\n",
    "hist(Groesse, main = \"Histogram mit relativen Häufigkeiten\", xlab = \"Anzahl\", ylab = \"Relative Häufigkeit\", col = \"red\")\n",
    "\n",
    "\n",
    "hist(Groesse, main = \"Histogram mit relativen Häufigkeiten\", xlab = \"Anzahl\", ylab = \"Relative Häufigkeit\", col = \"green\", freq = FALSE)\n"
   ]
  },
  {
   "cell_type": "code",
   "execution_count": 64,
   "id": "b9ae0648",
   "metadata": {},
   "outputs": [
    {
     "name": "stdout",
     "output_type": "stream",
     "text": [
      "[1] \"Statistics for Anzahl:\"\n",
      "[1] \"Durchschnitt: 170\"\n"
     ]
    },
    {
     "name": "stdout",
     "output_type": "stream",
     "text": [
      "[1] \"Medianwert: 170\"\n",
      "[1] \"Standardabweichung: 40\"\n",
      "[1] \"Statistics for Groesse:\"\n",
      "[1] \"Durchschnitt: 38\"\n",
      "[1] \"Medianwert: 38\"\n",
      "[1] \"Standardabweichung: 4\"\n"
     ]
    }
   ],
   "source": [
    "Groesse <- c(34, 38, 42)\n",
    "\n",
    "\n",
    "durchschnitt_1 <- mean(Anzahl)\n",
    "\n",
    "medianwert_1 <- median(Anzahl)\n",
    "\n",
    "stdabweichung_1 <- sd(Anzahl)\n",
    "\n",
    "durchschnitt_2 <- mean(Groesse)\n",
    "\n",
    "medianwert_2 <- median(Groesse)\n",
    "\n",
    "stdabweichung_2 <- sd(Groesse)\n",
    "\n",
    "print(\"Statistics for Anzahl:\")\n",
    "print(paste(\"Durchschnitt:\", durchschnitt_1))\n",
    "print(paste(\"Medianwert:\", medianwert_1))\n",
    "print(paste(\"Standardabweichung:\", stdabweichung_1))\n",
    "\n",
    "print(\"Statistics for Groesse:\")\n",
    "print(paste(\"Durchschnitt:\", durchschnitt_2))\n",
    "print(paste(\"Medianwert:\", medianwert_2))\n",
    "print(paste(\"Standardabweichung:\", stdabweichung_2))\n"
   ]
  },
  {
   "cell_type": "code",
   "execution_count": 67,
   "id": "b800bc15",
   "metadata": {},
   "outputs": [
    {
     "data": {
      "text/html": [
       "<table class=\"dataframe\">\n",
       "<caption>A data.frame: 3 × 2</caption>\n",
       "<thead>\n",
       "\t<tr><th scope=col>Groesse</th><th scope=col>Anzahl</th></tr>\n",
       "\t<tr><th scope=col>&lt;dbl&gt;</th><th scope=col>&lt;dbl&gt;</th></tr>\n",
       "</thead>\n",
       "<tbody>\n",
       "\t<tr><td>34</td><td>130</td></tr>\n",
       "\t<tr><td>38</td><td>210</td></tr>\n",
       "\t<tr><td>42</td><td>170</td></tr>\n",
       "</tbody>\n",
       "</table>\n"
      ],
      "text/latex": [
       "A data.frame: 3 × 2\n",
       "\\begin{tabular}{ll}\n",
       " Groesse & Anzahl\\\\\n",
       " <dbl> & <dbl>\\\\\n",
       "\\hline\n",
       "\t 34 & 130\\\\\n",
       "\t 38 & 210\\\\\n",
       "\t 42 & 170\\\\\n",
       "\\end{tabular}\n"
      ],
      "text/markdown": [
       "\n",
       "A data.frame: 3 × 2\n",
       "\n",
       "| Groesse &lt;dbl&gt; | Anzahl &lt;dbl&gt; |\n",
       "|---|---|\n",
       "| 34 | 130 |\n",
       "| 38 | 210 |\n",
       "| 42 | 170 |\n",
       "\n"
      ],
      "text/plain": [
       "  Groesse Anzahl\n",
       "1 34      130   \n",
       "2 38      210   \n",
       "3 42      170   "
      ]
     },
     "metadata": {},
     "output_type": "display_data"
    }
   ],
   "source": [
    "Daten <- data.frame(Groesse = Groesse, Anzahl = Anzahl)\n",
    "Daten"
   ]
  },
  {
   "cell_type": "markdown",
   "id": "821521a9-bdc2-433b-ac12-a31ce4a540f8",
   "metadata": {},
   "source": [
    "3. Suchen Sie sich ein data frame aus dem Internet aus und lesen Sie sie hier ein. Printen Sie den head und zwei beliebige Spalten vom data frame. "
   ]
  },
  {
   "cell_type": "code",
   "execution_count": 76,
   "id": "3e62df4e",
   "metadata": {},
   "outputs": [
    {
     "data": {
      "text/html": [
       "<table class=\"dataframe\">\n",
       "<caption>A data.frame: 5 × 11</caption>\n",
       "<thead>\n",
       "\t<tr><th></th><th scope=col>mpg</th><th scope=col>cyl</th><th scope=col>disp</th><th scope=col>hp</th><th scope=col>drat</th><th scope=col>wt</th><th scope=col>qsec</th><th scope=col>vs</th><th scope=col>am</th><th scope=col>gear</th><th scope=col>carb</th></tr>\n",
       "\t<tr><th></th><th scope=col>&lt;dbl&gt;</th><th scope=col>&lt;dbl&gt;</th><th scope=col>&lt;dbl&gt;</th><th scope=col>&lt;dbl&gt;</th><th scope=col>&lt;dbl&gt;</th><th scope=col>&lt;dbl&gt;</th><th scope=col>&lt;dbl&gt;</th><th scope=col>&lt;dbl&gt;</th><th scope=col>&lt;dbl&gt;</th><th scope=col>&lt;dbl&gt;</th><th scope=col>&lt;dbl&gt;</th></tr>\n",
       "</thead>\n",
       "<tbody>\n",
       "\t<tr><th scope=row>Mazda RX4</th><td>21.0</td><td>6</td><td>160</td><td>110</td><td>3.90</td><td>2.620</td><td>16.46</td><td>0</td><td>1</td><td>4</td><td>4</td></tr>\n",
       "\t<tr><th scope=row>Mazda RX4 Wag</th><td>21.0</td><td>6</td><td>160</td><td>110</td><td>3.90</td><td>2.875</td><td>17.02</td><td>0</td><td>1</td><td>4</td><td>4</td></tr>\n",
       "\t<tr><th scope=row>Datsun 710</th><td>22.8</td><td>4</td><td>108</td><td> 93</td><td>3.85</td><td>2.320</td><td>18.61</td><td>1</td><td>1</td><td>4</td><td>1</td></tr>\n",
       "\t<tr><th scope=row>Hornet 4 Drive</th><td>21.4</td><td>6</td><td>258</td><td>110</td><td>3.08</td><td>3.215</td><td>19.44</td><td>1</td><td>0</td><td>3</td><td>1</td></tr>\n",
       "\t<tr><th scope=row>Hornet Sportabout</th><td>18.7</td><td>8</td><td>360</td><td>175</td><td>3.15</td><td>3.440</td><td>17.02</td><td>0</td><td>0</td><td>3</td><td>2</td></tr>\n",
       "</tbody>\n",
       "</table>\n"
      ],
      "text/latex": [
       "A data.frame: 5 × 11\n",
       "\\begin{tabular}{r|lllllllllll}\n",
       "  & mpg & cyl & disp & hp & drat & wt & qsec & vs & am & gear & carb\\\\\n",
       "  & <dbl> & <dbl> & <dbl> & <dbl> & <dbl> & <dbl> & <dbl> & <dbl> & <dbl> & <dbl> & <dbl>\\\\\n",
       "\\hline\n",
       "\tMazda RX4 & 21.0 & 6 & 160 & 110 & 3.90 & 2.620 & 16.46 & 0 & 1 & 4 & 4\\\\\n",
       "\tMazda RX4 Wag & 21.0 & 6 & 160 & 110 & 3.90 & 2.875 & 17.02 & 0 & 1 & 4 & 4\\\\\n",
       "\tDatsun 710 & 22.8 & 4 & 108 &  93 & 3.85 & 2.320 & 18.61 & 1 & 1 & 4 & 1\\\\\n",
       "\tHornet 4 Drive & 21.4 & 6 & 258 & 110 & 3.08 & 3.215 & 19.44 & 1 & 0 & 3 & 1\\\\\n",
       "\tHornet Sportabout & 18.7 & 8 & 360 & 175 & 3.15 & 3.440 & 17.02 & 0 & 0 & 3 & 2\\\\\n",
       "\\end{tabular}\n"
      ],
      "text/markdown": [
       "\n",
       "A data.frame: 5 × 11\n",
       "\n",
       "| <!--/--> | mpg &lt;dbl&gt; | cyl &lt;dbl&gt; | disp &lt;dbl&gt; | hp &lt;dbl&gt; | drat &lt;dbl&gt; | wt &lt;dbl&gt; | qsec &lt;dbl&gt; | vs &lt;dbl&gt; | am &lt;dbl&gt; | gear &lt;dbl&gt; | carb &lt;dbl&gt; |\n",
       "|---|---|---|---|---|---|---|---|---|---|---|---|\n",
       "| Mazda RX4 | 21.0 | 6 | 160 | 110 | 3.90 | 2.620 | 16.46 | 0 | 1 | 4 | 4 |\n",
       "| Mazda RX4 Wag | 21.0 | 6 | 160 | 110 | 3.90 | 2.875 | 17.02 | 0 | 1 | 4 | 4 |\n",
       "| Datsun 710 | 22.8 | 4 | 108 |  93 | 3.85 | 2.320 | 18.61 | 1 | 1 | 4 | 1 |\n",
       "| Hornet 4 Drive | 21.4 | 6 | 258 | 110 | 3.08 | 3.215 | 19.44 | 1 | 0 | 3 | 1 |\n",
       "| Hornet Sportabout | 18.7 | 8 | 360 | 175 | 3.15 | 3.440 | 17.02 | 0 | 0 | 3 | 2 |\n",
       "\n"
      ],
      "text/plain": [
       "                  mpg  cyl disp hp  drat wt    qsec  vs am gear carb\n",
       "Mazda RX4         21.0 6   160  110 3.90 2.620 16.46 0  1  4    4   \n",
       "Mazda RX4 Wag     21.0 6   160  110 3.90 2.875 17.02 0  1  4    4   \n",
       "Datsun 710        22.8 4   108   93 3.85 2.320 18.61 1  1  4    1   \n",
       "Hornet 4 Drive    21.4 6   258  110 3.08 3.215 19.44 1  0  3    1   \n",
       "Hornet Sportabout 18.7 8   360  175 3.15 3.440 17.02 0  0  3    2   "
      ]
     },
     "metadata": {},
     "output_type": "display_data"
    },
    {
     "name": "stdout",
     "output_type": "stream",
     "text": [
      "                     mpg cyl\n",
      "Mazda RX4           21.0   6\n",
      "Mazda RX4 Wag       21.0   6\n",
      "Datsun 710          22.8   4\n",
      "Hornet 4 Drive      21.4   6\n",
      "Hornet Sportabout   18.7   8\n",
      "Valiant             18.1   6\n",
      "Duster 360          14.3   8\n",
      "Merc 240D           24.4   4\n",
      "Merc 230            22.8   4\n",
      "Merc 280            19.2   6\n",
      "Merc 280C           17.8   6\n",
      "Merc 450SE          16.4   8\n",
      "Merc 450SL          17.3   8\n",
      "Merc 450SLC         15.2   8\n",
      "Cadillac Fleetwood  10.4   8\n",
      "Lincoln Continental 10.4   8\n",
      "Chrysler Imperial   14.7   8\n",
      "Fiat 128            32.4   4\n",
      "Honda Civic         30.4   4\n",
      "Toyota Corolla      33.9   4\n",
      "Toyota Corona       21.5   4\n",
      "Dodge Challenger    15.5   8\n",
      "AMC Javelin         15.2   8\n",
      "Camaro Z28          13.3   8\n",
      "Pontiac Firebird    19.2   8\n",
      "Fiat X1-9           27.3   4\n",
      "Porsche 914-2       26.0   4\n",
      "Lotus Europa        30.4   4\n",
      "Ford Pantera L      15.8   8\n",
      "Ferrari Dino        19.7   6\n",
      "Maserati Bora       15.0   8\n",
      "Volvo 142E          21.4   4\n"
     ]
    }
   ],
   "source": [
    "head(mtcars,5)\n",
    "print(mtcars[c(\"mpg\",\"cyl\")])\n"
   ]
  },
  {
   "cell_type": "markdown",
   "id": "8990bbe7-f2cc-4974-86da-311734277789",
   "metadata": {},
   "source": [
    "4. Simulieren Sie eine genügend große Ziehung N aus den Ziffern 0 bis 9. <br>\n",
    "a) Stellen Sie das Ergebnis in einem passenden Format graphisch dar. <br>\n",
    "b) Berechnen Sie mithilfe der Simulation die Wahrscheinlichkeit eine Ziffer größer als 6 zu ziehen. <br>\n",
    "c) Das Gesetz der großen Zahlen besagt, dass das arithemtische Mittel der Stichprobe mit großem N zum Mittelwert, welches hier 4.5 beträgt, konvergiert. Überprüfen Sie das mit Ihrer Stichprobe. <br>"
   ]
  },
  {
   "cell_type": "code",
   "execution_count": 85,
   "id": "a922b52c-72ec-4325-b7a9-e75c1abbd2f7",
   "metadata": {},
   "outputs": [
    {
     "data": {
      "image/png": "[encoded data removed]",
      "text/plain": [
       "Plot with title \"Häufigkeit der Ziffern\""
      ]
     },
     "metadata": {
      "image/png": {
       "height": 420,
       "width": 420
      }
     },
     "output_type": "display_data"
    }
   ],
   "source": [
    "\n",
    "N <- 10000\n",
    "\n",
    "\n",
    "ziehung <- sample(0:9, N, replace = TRUE)\n",
    "\n",
    "\n",
    "hist(ziehung, \n",
    "     main = \"Häufigkeit der Ziffern\",\n",
    "     xlab = \"Ziffern\",\n",
    "     ylab = \"Häufigkeit\",\n",
    "     col = \"blue\",\n",
    "     breaks = 0:10, \n",
    "     xlim = c(0, 9))  \n"
   ]
  },
  {
   "cell_type": "code",
   "execution_count": 2,
   "id": "b517b779",
   "metadata": {},
   "outputs": [
    {
     "data": {
      "text/plain": [
       "(5.758135104235039, 5.741864895764961, -0.008135104235038238)"
      ]
     },
     "execution_count": 2,
     "metadata": {},
     "output_type": "execute_result"
    }
   ],
   "source": [
    "import math\n",
    "from scipy.stats import t\n",
    "\n",
    "# Given data\n",
    "sample_mean = 5.75  # Sample mean (x-bar)\n",
    "sample_variance = 0.09  # Sample variance (s^2)\n",
    "n = 22  # Sample size\n",
    "confidence_level = 0.90\n",
    "\n",
    "# Sample standard deviation (s)\n",
    "sample_std_dev = math.sqrt(sample_variance)\n",
    "\n",
    "# Degrees of freedom\n",
    "df = n - 1\n",
    "\n",
    "# t-value for a 90% confidence interval\n",
    "t_value = t.ppf((1 + confidence_level) / 2, df)\n",
    "\n",
    "# Margin of Error\n",
    "margin_of_error = t_value * (sample_std_dev / math.sqrt(n))\n",
    "\n",
    "# Confidence Interval\n",
    "CI_lower = sample_mean - margin_of_error\n",
    "CI_upper = sample_mean + margin_of_error\n",
    "\n",
    "CI_lower, CI_upper, margin_of_error\n"
   ]
  },
  {
   "cell_type": "code",
   "execution_count": 90,
   "id": "5d758dd7",
   "metadata": {},
   "outputs": [
    {
     "name": "stdout",
     "output_type": "stream",
     "text": [
      "[1] \"stichprobe mittelwert ist:  4.5245\"\n",
      "[1] \"mittelwert_theoretisch mittelwert ist:  4.5\"\n"
     ]
    }
   ],
   "source": [
    "stichprobe <- mean(ziehung)\n",
    "\n",
    "mittelwert_theoretisch <- 4.5\n",
    "\n",
    "print(paste(\"stichprobe mittelwert ist: \",stichprobe))\n",
    "print(paste(\"mittelwert_theoretisch mittelwert ist: \",mittelwert_theoretisch))"
   ]
  }
 ],
 "metadata": {
  "kernelspec": {
   "display_name": "Python 3",
   "language": "python",
   "name": "python3"
  },
  "language_info": {
   "codemirror_mode": {
    "name": "ipython",
    "version": 3
   },
   "file_extension": ".py",
   "mimetype": "text/x-python",
   "name": "python",
   "nbconvert_exporter": "python",
   "pygments_lexer": "ipython3",
   "version": "3.11.7"
  }
 },
 "nbformat": 4,
 "nbformat_minor": 5
}
